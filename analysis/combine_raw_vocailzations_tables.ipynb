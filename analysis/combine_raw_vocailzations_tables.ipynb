{
 "cells": [
  {
   "cell_type": "code",
   "execution_count": 1,
   "id": "f68d8f75",
   "metadata": {},
   "outputs": [],
   "source": [
    "import pandas as pd\n",
    "import numpy as np\n",
    "import os\n",
    "import os.path as osp\n",
    "import seaborn as sns\n",
    "import matplotlib.pyplot as plt\n",
    "import glob"
   ]
  },
  {
   "cell_type": "code",
   "execution_count": 2,
   "id": "77e8eb98",
   "metadata": {},
   "outputs": [
    {
     "data": {
      "text/plain": [
       "'D:\\\\Project- Electro\\\\social_behavior_electro\\\\analysis'"
      ]
     },
     "execution_count": 2,
     "metadata": {},
     "output_type": "execute_result"
    }
   ],
   "source": [
    "os.getcwd()"
   ]
  },
  {
   "cell_type": "code",
   "execution_count": 11,
   "id": "db0dc5b4",
   "metadata": {},
   "outputs": [],
   "source": [
    "path_to_affiliative_files = 'D:\\\\Project- Electro\\\\summary - 3-2022\\\\Brain states of Affiliation and Aversive behaviour\\\\Affiliative interaction\\\\audio excel files'\n",
    "path_to_aversive_files = 'D:\\\\Project- Electro\\summary - 3-2022\\Brain states of Affiliation and Aversive behaviour\\Aversive Interaction\\excel files'\n",
    "path_to_free_files = 'D:\\\\Project- Electro\\\\Summary of free interaction - 1-2023\\\\audio excel files'"
   ]
  },
  {
   "cell_type": "code",
   "execution_count": 13,
   "id": "b72603af",
   "metadata": {},
   "outputs": [
    {
     "data": {
      "text/plain": [
       "61"
      ]
     },
     "execution_count": 13,
     "metadata": {},
     "output_type": "execute_result"
    }
   ],
   "source": [
    "all_aff_files = glob.glob(osp.join(path_to_affiliative_files,'*.xlsx'))\n",
    "all_avv_files = glob.glob(osp.join(path_to_aversive_files,'*.xlsx'))\n",
    "all_free_files = glob.glob(osp.join(path_to_free_files,'*.xlsx'))\n",
    "len(all_free_files)"
   ]
  },
  {
   "cell_type": "code",
   "execution_count": 15,
   "id": "4d9252ea",
   "metadata": {},
   "outputs": [],
   "source": [
    "import re\n",
    "\n",
    "def fix_file_paths(df_files):\n",
    "    \n",
    "    df_files = df_files.rename(columns={df_files.columns[1]:'timestamps', df_files.columns[0]:'lfp', })\n",
    "    \n",
    "    return df_files\n",
    "\n",
    "\n",
    "def extract_ratnum_from_file_name(filename):\n",
    "    filename = filename.replace(' ','')\n",
    "    match = re.search(r\"rat(\\d{1,2})\", filename.lower())\n",
    "\n",
    "    if match:\n",
    "        number = int(match.group(1))       \n",
    "    else:\n",
    "        number = -1\n",
    "    return number\n",
    "\n",
    "def extract_daynum_from_file_name(filename):\n",
    "    filename = filename.replace(' ','')\n",
    "    match = re.search(r\"day(\\d{1,2})\", filename.lower())\n",
    "    if not match:\n",
    "        match = re.search(r\"days(\\d{1,2})\", filename.lower())\n",
    "    \n",
    "    if match:\n",
    "        number = int(match.group(1))       \n",
    "    else:\n",
    "        number = -1\n",
    "    return number\n",
    "\n",
    "def extract_probe_number_from_file_name(filename):\n",
    "    filename = filename.replace(' ','')\n",
    "    match = re.search(r\"probe(\\d{1,2})\", filename.lower())\n",
    "    if match:\n",
    "        number = int(match.group(1))       \n",
    "    else:\n",
    "        number = -1\n",
    "    return number\n",
    "# rat_numbers = [extract_ratnum_from_file_name(filename) for filename in filenames]"
   ]
  },
  {
   "cell_type": "code",
   "execution_count": 16,
   "id": "1edf43ce",
   "metadata": {},
   "outputs": [],
   "source": [
    "def get_data_helper(df):\n",
    "    n = len(df)\n",
    "    mean_frequency = df['Mean_Freq'].mean()\n",
    "    mean_duration = (df['End_Time'] - df['Begin_Time']).mean()\n",
    "    return n,  mean_frequency,   mean_duration"
   ]
  },
  {
   "cell_type": "code",
   "execution_count": 20,
   "id": "63f15eb9",
   "metadata": {},
   "outputs": [],
   "source": [
    "def get_data(df, f):\n",
    "    stim_start = 300\n",
    "    stim_end = 600\n",
    "    f_split = osp.split(f)\n",
    "    file_name = f_split[-1].replace('aversive_','').replace('affiliative_','').replace('_summary_table.xlsx','')+'.wav'\n",
    "    rat_num = extract_ratnum_from_file_name(file_name)\n",
    "    day_num = extract_daynum_from_file_name(file_name)\n",
    "    probe_num = extract_probe_number_from_file_name(file_name)\n",
    "\n",
    "    before_df = df.loc[df['Begin_Time']<stim_start]\n",
    "    during_df = df.loc[(df['Begin_Time']>=stim_start) & (df['Begin_Time']<stim_end)]\n",
    "    after_df = df.loc[df['Begin_Time']>=stim_end]\n",
    "\n",
    "    n_before, mean_freq_before, mean_duration_before = get_data_helper(before_df)\n",
    "    n_during, mean_freq_during, mean_duration_during = get_data_helper(during_df)\n",
    "    n_after, mean_freq_after, mean_duration_after = get_data_helper(after_df)\n",
    "    \n",
    "    summary_df = pd.DataFrame({\n",
    "        'file_name': [file_name], \n",
    "        'rat_number': [rat_num], \n",
    "        'day_number': [day_num], \n",
    "        'probe_number': [probe_num], \n",
    "        'n_before': [n_before],\n",
    "        'n_during': [n_during],\n",
    "        'n_after':[n_after],\n",
    "        'mean_frequency_before': [mean_freq_before],\n",
    "        'mean_frequency_during': [mean_freq_during],\n",
    "        'mean_frequency_after': [mean_freq_after],\n",
    "        'mean_duration_before': [mean_duration_before],\n",
    "        'mean_duration_during': [mean_duration_during],\n",
    "        'mean_duration_after':[mean_duration_after],\n",
    "    })\n",
    "    return summary_df\n",
    "    "
   ]
  },
  {
   "cell_type": "code",
   "execution_count": 21,
   "id": "fb56c61f",
   "metadata": {},
   "outputs": [],
   "source": [
    "def summarize_folder(file_list):\n",
    "    all_df_list = []\n",
    "    for f in file_list:\n",
    "        # loaf file\n",
    "        df = pd.read_excel(f)\n",
    "\n",
    "        # remove unwanted columns\n",
    "\n",
    "        remove_columns = [a for a in df.columns if a.startswith('Sig_') or a.startswith('Filtered_')]\n",
    "        df = df.drop(remove_columns, axis=1)\n",
    "        df_sum = get_data(df, f)\n",
    "        all_df_list.append(df_sum)\n",
    "    all_df = pd.concat(all_df_list)\n",
    "    return all_df"
   ]
  },
  {
   "cell_type": "code",
   "execution_count": 22,
   "id": "3be3dd94",
   "metadata": {},
   "outputs": [],
   "source": [
    "summary_df_aff = summarize_folder(file_list=all_aff_files)\n",
    "summary_df_aff['sociability'] = 'affiliative'\n",
    "\n",
    "summary_df_avv = summarize_folder(file_list=all_avv_files)\n",
    "summary_df_avv['sociability'] = 'aversive'\n",
    "\n",
    "summary_df_free = summarize_folder(file_list=all_free_files)"
   ]
  },
  {
   "cell_type": "code",
   "execution_count": null,
   "id": "971f10df",
   "metadata": {},
   "outputs": [],
   "source": []
  },
  {
   "cell_type": "code",
   "execution_count": 28,
   "id": "7dedfce1",
   "metadata": {},
   "outputs": [],
   "source": [
    "summary_df = pd.concat([summary_df_aff,summary_df_avv])\n"
   ]
  },
  {
   "cell_type": "code",
   "execution_count": 29,
   "id": "9d264f64",
   "metadata": {},
   "outputs": [],
   "source": [
    "summary_df_filled = summary_df.fillna(0)"
   ]
  },
  {
   "cell_type": "code",
   "execution_count": 30,
   "id": "61099fd7",
   "metadata": {},
   "outputs": [
    {
     "data": {
      "text/plain": [
       "<seaborn.axisgrid.FacetGrid at 0x1e118d7f3d0>"
      ]
     },
     "execution_count": 30,
     "metadata": {},
     "output_type": "execute_result"
    },
    {
     "data": {
      "image/png": "[encoded data removed]",
      "text/plain": [
       "<Figure size 615x500 with 1 Axes>"
      ]
     },
     "metadata": {},
     "output_type": "display_data"
    }
   ],
   "source": [
    "sns.catplot(data=summary_df_filled, hue='sociability', x='rat_number', y='n_during')"
   ]
  },
  {
   "cell_type": "code",
   "execution_count": 31,
   "id": "e3eb0b90",
   "metadata": {},
   "outputs": [
    {
     "data": {
      "text/plain": [
       "<seaborn.axisgrid.FacetGrid at 0x1e118d7eef0>"
      ]
     },
     "execution_count": 31,
     "metadata": {},
     "output_type": "execute_result"
    },
    {
     "data": {
      "image/png": "[encoded data removed]",
      "text/plain": [
       "<Figure size 500x500 with 1 Axes>"
      ]
     },
     "metadata": {},
     "output_type": "display_data"
    }
   ],
   "source": [
    "sns.catplot(data=summary_df_free.fillna(0),  x='rat_number', y='n_during')"
   ]
  },
  {
   "cell_type": "code",
   "execution_count": 339,
   "id": "85a66334",
   "metadata": {},
   "outputs": [],
   "source": [
    "# import pandas as pd\n",
    "# import seaborn as sns\n",
    "# import matplotlib.pyplot as plt\n",
    "\n",
    "# # Assuming your DataFrame is named 'df'\n",
    "# # Replace 'df' with the actual variable name of your DataFrame if different.\n",
    "\n",
    "# # Filter rows for 'aff' and 'avv' separately\n",
    "# aff_df = df[df['sociability'] == 'affiliative']\n",
    "# avv_df = df[df['sociability'] == 'aversive']\n",
    "\n",
    "# # Define a function to calculate the number of events for each group (before, during, after)\n",
    "# def count_events_by_flag(dataframe, flag_column):\n",
    "#     return dataframe[flag_column].sum()\n",
    "\n",
    "# # Calculate the number of events for 'aff' group\n",
    "# aff_events_before = count_events_by_flag(aff_df, 'before_flag')\n",
    "# aff_events_during = count_events_by_flag(aff_df, 'during_flag')\n",
    "# aff_events_after = count_events_by_flag(aff_df, 'after_flag')\n",
    "\n",
    "# # Calculate the number of events for 'avv' group\n",
    "# avv_events_before = count_events_by_flag(avv_df, 'before_flag')\n",
    "# avv_events_during = count_events_by_flag(avv_df, 'during_flag')\n",
    "# avv_events_after = count_events_by_flag(avv_df, 'after_flag')\n",
    "\n",
    "# # Combine the data into a single DataFrame for easier plotting\n",
    "# data = pd.DataFrame({\n",
    "#     'Category': ['Before', 'During', 'After'],\n",
    "#     'Count': [aff_events_before/len(aff_df), aff_events_during/len(aff_df), aff_events_after/len(aff_df)],\n",
    "#     'Group': 'aff'\n",
    "# }).append(pd.DataFrame({\n",
    "#     'Category': ['Before', 'During', 'After'],\n",
    "#     'Count': [avv_events_before/len(avv_df), avv_events_during/len(avv_df), avv_events_after/len(avv_df)],\n",
    "#     'Group': 'avv'\n",
    "# }))\n",
    "\n",
    "# # Create the bar plot using Seaborn\n",
    "# sns.set_style(\"whitegrid\")\n",
    "# plt.figure(figsize=(10, 6))\n",
    "# sns.barplot(x='Category', y='Count', hue='Group', data=data, palette='pastel')\n",
    "# plt.title(\"Number of Events Before, During, and After for 'affiliative' and 'aversive' Groups\")\n",
    "# plt.xlabel(\"Time Period\")\n",
    "# plt.ylabel(\"Number of Events\")\n",
    "# plt.show()\n"
   ]
  },
  {
   "cell_type": "code",
   "execution_count": null,
   "id": "e05ce7e9",
   "metadata": {},
   "outputs": [],
   "source": []
  },
  {
   "cell_type": "code",
   "execution_count": null,
   "id": "8818cda0",
   "metadata": {},
   "outputs": [],
   "source": []
  },
  {
   "cell_type": "code",
   "execution_count": null,
   "id": "1532ff60",
   "metadata": {},
   "outputs": [],
   "source": []
  },
  {
   "cell_type": "code",
   "execution_count": 340,
   "id": "e479d41f",
   "metadata": {},
   "outputs": [],
   "source": [
    "# import pandas as pd\n",
    "\n",
    "# # Assuming your DataFrame is named 'df'\n",
    "# # Replace 'df' with the actual variable name of your DataFrame if different.\n",
    "\n",
    "# # Group the data by 'File_Name', 'rat_number', and 'day_number'\n",
    "# grouped_data = df.groupby(['File_Name', 'rat_number', 'day_number','sociability','probe_number'])\n",
    "\n",
    "# # Define a function to calculate the number of True occurrences for each flag\n",
    "# def count_flags(flag_series):\n",
    "#     return flag_series.sum()\n",
    "\n",
    "# # Define a function to calculate the mean frequency for each flag\n",
    "# def mean_frequency(freq_series, flag_series):\n",
    "#     return freq_series[flag_series].mean()\n",
    "\n",
    "# # Define a function to calculate the mean duration for each flag\n",
    "# def mean_duration(begin_time_series, end_time_series, flag_series):\n",
    "#     return (end_time_series[flag_series] - begin_time_series[flag_series]).mean()\n",
    "\n",
    "# # Create the summary DataFrame\n",
    "# summary_df = pd.DataFrame({\n",
    "#     'n_before': grouped_data['before_flag'].apply(count_flags),\n",
    "#     'n_during': grouped_data['during_flag'].apply(count_flags),\n",
    "#     'n_after': grouped_data['after_flag'].apply(count_flags),\n",
    "#     'mean_frequency_before': grouped_data.apply(lambda x: mean_frequency(x['Mean_Freq'], x['before_flag'])),\n",
    "#     'mean_frequency_during': grouped_data.apply(lambda x: mean_frequency(x['Mean_Freq'], x['during_flag'])),\n",
    "#     'mean_frequency_after': grouped_data.apply(lambda x: mean_frequency(x['Mean_Freq'], x['after_flag'])),\n",
    "#     'mean_duration_before': grouped_data.apply(lambda x: mean_duration(x['Begin_Time'], x['End_Time'], x['before_flag'])),\n",
    "#     'mean_duration_during': grouped_data.apply(lambda x: mean_duration(x['Begin_Time'], x['End_Time'], x['during_flag'])),\n",
    "#     'mean_duration_after': grouped_data.apply(lambda x: mean_duration(x['Begin_Time'], x['End_Time'], x['after_flag']))\n",
    "# }).reset_index()\n",
    "\n",
    "# # Display the summary DataFrame\n",
    "# print(summary_df)\n"
   ]
  },
  {
   "cell_type": "code",
   "execution_count": 341,
   "id": "757f11ed",
   "metadata": {},
   "outputs": [],
   "source": [
    "summary_df.to_excel('chamber_vocalizations_summary.xlsx')"
   ]
  },
  {
   "cell_type": "code",
   "execution_count": 32,
   "id": "46dcc496",
   "metadata": {},
   "outputs": [],
   "source": [
    "summary_df_free.to_excel('free_vocalizations_summary.xlsx')"
   ]
  },
  {
   "cell_type": "code",
   "execution_count": null,
   "id": "176d4ed4",
   "metadata": {},
   "outputs": [],
   "source": []
  }
 ],
 "metadata": {
  "kernelspec": {
   "display_name": "Python 3 (ipykernel)",
   "language": "python",
   "name": "python3"
  },
  "language_info": {
   "codemirror_mode": {
    "name": "ipython",
    "version": 3
   },
   "file_extension": ".py",
   "mimetype": "text/x-python",
   "name": "python",
   "nbconvert_exporter": "python",
   "pygments_lexer": "ipython3",
   "version": "3.10.9"
  }
 },
 "nbformat": 4,
 "nbformat_minor": 5
}
