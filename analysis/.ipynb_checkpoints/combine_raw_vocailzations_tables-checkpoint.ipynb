{
 "cells": [
  {
   "cell_type": "code",
   "execution_count": 301,
   "id": "f68d8f75",
   "metadata": {},
   "outputs": [],
   "source": [
    "import pandas as pd\n",
    "import numpy as np\n",
    "import os\n",
    "import os.path as osp\n",
    "import seaborn as sns\n",
    "import matplotlib.pyplot as plt\n",
    "import glob"
   ]
  },
  {
   "cell_type": "code",
   "execution_count": 302,
   "id": "e2e7df3b",
   "metadata": {},
   "outputs": [
    {
     "data": {
      "text/plain": [
       "'D:\\\\Project- Electro\\\\social_behavior_electro\\\\analysis'"
      ]
     },
     "execution_count": 302,
     "metadata": {},
     "output_type": "execute_result"
    }
   ],
   "source": [
    "os.getcwd()"
   ]
  },
  {
   "cell_type": "code",
   "execution_count": 303,
   "id": "4fe43c1a",
   "metadata": {},
   "outputs": [],
   "source": [
    "path_to_affiliative_files = 'D:\\\\Project- Electro\\\\summary - 3-2022\\\\Brain states of Affiliation and Aversive behaviour\\\\Affiliative interaction\\\\audio excel files'\n",
    "path_to_aversive_files = 'D:\\Project- Electro\\summary - 3-2022\\Brain states of Affiliation and Aversive behaviour\\Aversive Interaction\\excel files'\n"
   ]
  },
  {
   "cell_type": "code",
   "execution_count": 304,
   "id": "50f05478",
   "metadata": {},
   "outputs": [
    {
     "data": {
      "text/plain": [
       "32"
      ]
     },
     "execution_count": 304,
     "metadata": {},
     "output_type": "execute_result"
    }
   ],
   "source": [
    "all_aff_files = glob.glob(osp.join(path_to_affiliative_files,'*.xlsx'))\n",
    "all_avv_files = glob.glob(osp.join(path_to_aversive_files,'*.xlsx'))\n",
    "len(all_aff_files)"
   ]
  },
  {
   "cell_type": "code",
   "execution_count": 305,
   "id": "63e18bb1",
   "metadata": {},
   "outputs": [],
   "source": [
    "import re\n",
    "\n",
    "def fix_file_paths(df_files):\n",
    "    \n",
    "    df_files = df_files.rename(columns={df_files.columns[1]:'timestamps', df_files.columns[0]:'lfp', })\n",
    "    \n",
    "    return df_files\n",
    "\n",
    "\n",
    "def extract_ratnum_from_file_name(filename):\n",
    "    filename = filename.replace(' ','')\n",
    "    match = re.search(r\"rat(\\d{1,2})\", filename.lower())\n",
    "\n",
    "    if match:\n",
    "        number = int(match.group(1))       \n",
    "    else:\n",
    "        number = -1\n",
    "    return number\n",
    "\n",
    "def extract_daynum_from_file_name(filename):\n",
    "    filename = filename.replace(' ','')\n",
    "    match = re.search(r\"day(\\d{1,2})\", filename.lower())\n",
    "    if match:\n",
    "        number = int(match.group(1))       \n",
    "    else:\n",
    "        number = -1\n",
    "    return number\n",
    "\n",
    "def extract_probe_number_from_file_name(filename):\n",
    "    filename = filename.replace(' ','')\n",
    "    match = re.search(r\"probe(\\d{1,2})\", filename.lower())\n",
    "    if match:\n",
    "        number = int(match.group(1))       \n",
    "    else:\n",
    "        number = -1\n",
    "    return number\n",
    "# rat_numbers = [extract_ratnum_from_file_name(filename) for filename in filenames]"
   ]
  },
  {
   "cell_type": "code",
   "execution_count": 306,
   "id": "2f77bd3a",
   "metadata": {},
   "outputs": [],
   "source": [
    "def get_data_helper(df):\n",
    "    n = len(df)\n",
    "    mean_frequency = df['Mean_Freq'].mean()\n",
    "    mean_duration = (df['End_Time'] - df['Begin_Time']).mean()\n",
    "    return n,  mean_frequency,   mean_duration"
   ]
  },
  {
   "cell_type": "code",
   "execution_count": 307,
   "id": "decde80a",
   "metadata": {},
   "outputs": [],
   "source": [
    "def get_data(df, f):\n",
    "    \n",
    "    f_split = osp.split(f)\n",
    "    file_name = f_split[-1].replace('aversive_','').replace('affiliative_','').replace('_summary_table.xlsx','')+'.wav'\n",
    "    rat_num = extract_ratnum_from_file_name(file_name)\n",
    "    day_num = extract_daynum_from_file_name(file_name)\n",
    "    probe_num = extract_probe_number_from_file_name(file_name)\n",
    "\n",
    "    before_df = df.loc[df['Begin_Time']<stim_start]\n",
    "    during_df = df.loc[(df['Begin_Time']>=stim_start) & (df['Begin_Time']<stim_end)]\n",
    "    after_df = df.loc[df['Begin_Time']>=stim_end]\n",
    "\n",
    "    n_before, mean_freq_before, mean_duration_before = get_data_helper(before_df)\n",
    "    n_during, mean_freq_during, mean_duration_during = get_data_helper(during_df)\n",
    "    n_after, mean_freq_after, mean_duration_after = get_data_helper(after_df)\n",
    "    \n",
    "    summary_df = pd.DataFrame({\n",
    "        'file_name': [file_name], \n",
    "        'rat_number': [rat_num], \n",
    "        'day_number': [day_num], \n",
    "        'probe_number': [probe_num], \n",
    "        'n_before': [n_before],\n",
    "        'n_during': [n_during],\n",
    "        'n_after':[n_after],\n",
    "        'mean_frequency_before': [mean_freq_before],\n",
    "        'mean_frequency_during': [mean_freq_during],\n",
    "        'mean_frequency_after': [mean_freq_after],\n",
    "        'mean_duration_before': [mean_duration_before],\n",
    "        'mean_duration_during': [mean_duration_during],\n",
    "        'mean_duration_after':[mean_duration_after],\n",
    "    })\n",
    "    return summary_df\n",
    "    "
   ]
  },
  {
   "cell_type": "code",
   "execution_count": 308,
   "id": "7208c545",
   "metadata": {},
   "outputs": [],
   "source": [
    "def summarize_folder(file_list):\n",
    "    all_df_list = []\n",
    "    for f in file_list:\n",
    "        # loaf file\n",
    "        df = pd.read_excel(f)\n",
    "\n",
    "        # remove unwanted columns\n",
    "\n",
    "        remove_columns = [a for a in df.columns if a.startswith('Sig_') or a.startswith('Filtered_')]\n",
    "        df = df.drop(remove_columns, axis=1)\n",
    "        df_sum = get_data(df, f)\n",
    "        all_df_list.append(df_sum)\n",
    "    all_df = pd.concat(all_df_list)\n",
    "    return all_df"
   ]
  },
  {
   "cell_type": "code",
   "execution_count": 309,
   "id": "a777af88",
   "metadata": {},
   "outputs": [],
   "source": [
    "summary_df_aff = summarize_folder(file_list=all_aff_files)\n",
    "summary_df_aff['sociability'] = 'affiliative'\n",
    "\n",
    "summary_df_avv = summarize_folder(file_list=all_avv_files)\n",
    "summary_df_avv['sociability'] = 'aversive'"
   ]
  },
  {
   "cell_type": "code",
   "execution_count": null,
   "id": "fde25c22",
   "metadata": {},
   "outputs": [],
   "source": []
  },
  {
   "cell_type": "code",
   "execution_count": 325,
   "id": "fc039cc6",
   "metadata": {},
   "outputs": [],
   "source": [
    "summary_df = pd.concat([summary_df_aff,summary_df_avv])\n"
   ]
  },
  {
   "cell_type": "code",
   "execution_count": 326,
   "id": "12d65807",
   "metadata": {},
   "outputs": [],
   "source": [
    "summary_df_filled = summary_df.fillna(0)"
   ]
  },
  {
   "cell_type": "code",
   "execution_count": 327,
   "id": "2eb3c435",
   "metadata": {},
   "outputs": [
    {
     "data": {
      "text/plain": [
       "<seaborn.axisgrid.FacetGrid at 0x21dd1d10be0>"
      ]
     },
     "execution_count": 327,
     "metadata": {},
     "output_type": "execute_result"
    },
    {
     "data": {
      "image/png": "[encoded data removed]",
      "text/plain": [
       "<Figure size 604.375x500 with 1 Axes>"
      ]
     },
     "metadata": {},
     "output_type": "display_data"
    }
   ],
   "source": [
    "sns.catplot(data=summary_df_filled, hue='sociability', x='rat_number', y='n_during')"
   ]
  },
  {
   "cell_type": "code",
   "execution_count": 185,
   "id": "6cc8ac2b",
   "metadata": {},
   "outputs": [
    {
     "name": "stderr",
     "output_type": "stream",
     "text": [
      "C:\\Users\\user\\AppData\\Local\\Temp\\ipykernel_126816\\2696557703.py:31: FutureWarning: The frame.append method is deprecated and will be removed from pandas in a future version. Use pandas.concat instead.\n",
      "  }).append(pd.DataFrame({\n"
     ]
    },
    {
     "data": {
      "image/png": "[encoded data removed]",
      "text/plain": [
       "<Figure size 1000x600 with 1 Axes>"
      ]
     },
     "metadata": {},
     "output_type": "display_data"
    }
   ],
   "source": [
    "import pandas as pd\n",
    "import seaborn as sns\n",
    "import matplotlib.pyplot as plt\n",
    "\n",
    "# Assuming your DataFrame is named 'df'\n",
    "# Replace 'df' with the actual variable name of your DataFrame if different.\n",
    "\n",
    "# Filter rows for 'aff' and 'avv' separately\n",
    "aff_df = df[df['sociability'] == 'affiliative']\n",
    "avv_df = df[df['sociability'] == 'aversive']\n",
    "\n",
    "# Define a function to calculate the number of events for each group (before, during, after)\n",
    "def count_events_by_flag(dataframe, flag_column):\n",
    "    return dataframe[flag_column].sum()\n",
    "\n",
    "# Calculate the number of events for 'aff' group\n",
    "aff_events_before = count_events_by_flag(aff_df, 'before_flag')\n",
    "aff_events_during = count_events_by_flag(aff_df, 'during_flag')\n",
    "aff_events_after = count_events_by_flag(aff_df, 'after_flag')\n",
    "\n",
    "# Calculate the number of events for 'avv' group\n",
    "avv_events_before = count_events_by_flag(avv_df, 'before_flag')\n",
    "avv_events_during = count_events_by_flag(avv_df, 'during_flag')\n",
    "avv_events_after = count_events_by_flag(avv_df, 'after_flag')\n",
    "\n",
    "# Combine the data into a single DataFrame for easier plotting\n",
    "data = pd.DataFrame({\n",
    "    'Category': ['Before', 'During', 'After'],\n",
    "    'Count': [aff_events_before/len(aff_df), aff_events_during/len(aff_df), aff_events_after/len(aff_df)],\n",
    "    'Group': 'aff'\n",
    "}).append(pd.DataFrame({\n",
    "    'Category': ['Before', 'During', 'After'],\n",
    "    'Count': [avv_events_before/len(avv_df), avv_events_during/len(avv_df), avv_events_after/len(avv_df)],\n",
    "    'Group': 'avv'\n",
    "}))\n",
    "\n",
    "# Create the bar plot using Seaborn\n",
    "sns.set_style(\"whitegrid\")\n",
    "plt.figure(figsize=(10, 6))\n",
    "sns.barplot(x='Category', y='Count', hue='Group', data=data, palette='pastel')\n",
    "plt.title(\"Number of Events Before, During, and After for 'affiliative' and 'aversive' Groups\")\n",
    "plt.xlabel(\"Time Period\")\n",
    "plt.ylabel(\"Number of Events\")\n",
    "plt.show()\n"
   ]
  },
  {
   "cell_type": "code",
   "execution_count": 168,
   "id": "b9a69f74",
   "metadata": {},
   "outputs": [],
   "source": []
  },
  {
   "cell_type": "code",
   "execution_count": 169,
   "id": "a6d74e97",
   "metadata": {},
   "outputs": [],
   "source": []
  },
  {
   "cell_type": "code",
   "execution_count": null,
   "id": "4c9818b9",
   "metadata": {},
   "outputs": [],
   "source": []
  },
  {
   "cell_type": "code",
   "execution_count": 170,
   "id": "5e97d3a1",
   "metadata": {},
   "outputs": [
    {
     "name": "stdout",
     "output_type": "stream",
     "text": [
      "                                         File_Name  rat_number  day_number  \\\n",
      "0                   Chamber-Rat19-probe18-Day3.wav          19           3   \n",
      "1                   Chamber-Rat19-probe18-day6.wav          19           6   \n",
      "2                   Chamber-Rat22-probe21-Day1.wav          22           1   \n",
      "3                   Chamber-Rat26-Probe25-Day1.wav          26           1   \n",
      "4                   Chamber-Rat26-Probe25-Day4.wav          26           4   \n",
      "5            Chamber-Rat8-probe8-Day2-sniffing.wav           8           2   \n",
      "6          aversive_Chamber-Rat16-probe16-day2.wav          16           2   \n",
      "7          aversive_Chamber-Rat17-probe14-day2.wav          17           2   \n",
      "8          aversive_Chamber-Rat17-probe14-day5.wav          17           5   \n",
      "9          aversive_Chamber-Rat23-probe22-Day1.wav          23           1   \n",
      "10         aversive_chamber-Rat10-probe13-day1.wav          10           1   \n",
      "11         aversive_chamber-Rat10-probe13-day2.wav          10           2   \n",
      "12         aversive_chamber-Rat10-probe13-day3.wav          10           3   \n",
      "13         aversive_chamber-Rat10-probe13-day4.wav          10           4   \n",
      "14         aversive_chamber-Rat12-probe16-day1.wav          12           1   \n",
      "15         aversive_chamber-Rat15-probe17-day2.wav          15           2   \n",
      "16         aversive_chamber-Rat15-probe17-day3.wav          15           3   \n",
      "17         aversive_chamber-Rat16-probe16-day4.wav          16           4   \n",
      "18         aversive_chamber-Rat16-probe18-day1.wav          16           1   \n",
      "19         aversive_chamber-Rat16-probe18-day2.wav          16           2   \n",
      "20         aversive_chamber-Rat17-probe14-day1.wav          17           1   \n",
      "21         aversive_chamber-Rat18-probe19-day1.wav          18           1   \n",
      "22         aversive_chamber-Rat18-probe19-day3.wav          18           3   \n",
      "23         aversive_chamber-Rat19-probe18-day1.wav          19           1   \n",
      "24         aversive_chamber-Rat19-probe20-day3.wav          19           3   \n",
      "25  aversive_chamber-Rat3-probe2-sniffing-day4.wav           3           4   \n",
      "26  aversive_chamber-Rat4-probe3-sniffing-day2.wav           4           2   \n",
      "27  aversive_chamber-Rat4-probe3-sniffing-day3.wav           4           3   \n",
      "28          aversive_chamber-Rat9-probe11-day3.wav           9           3   \n",
      "29          aversive_chamber-Rat9-probe11-day4.wav           9           4   \n",
      "30                    chamber-Rat1-probe4-day1.wav           1           1   \n",
      "31                    chamber-Rat1-probe4-day2.wav           1           2   \n",
      "32                  chamber-Rat12-probe16-day3.wav          12           3   \n",
      "33                  chamber-Rat14-probe14-day1.wav          14           1   \n",
      "34                 chamber-Rat14-probe14-days3.wav          14          -1   \n",
      "35                  chamber-Rat15-probe17-day1.wav          15           1   \n",
      "36                  chamber-Rat16-probe18-day3.wav          16           3   \n",
      "37                  chamber-Rat19-probe18-day2.wav          19           2   \n",
      "38                  chamber-Rat19-probe20-day1.wav          19           1   \n",
      "39                  chamber-Rat19-probe20-day2.wav          19           2   \n",
      "40           chamber-Rat2-probe1-sniffing-day1.wav           2           1   \n",
      "41           chamber-Rat2-probe1-sniffing-day2.wav           2           2   \n",
      "42           chamber-Rat2-probe1-sniffing-day3.wav           2           3   \n",
      "43                  chamber-Rat20-probe19-day1.wav          20           1   \n",
      "44                  chamber-Rat21-probe20-day1.wav          21           1   \n",
      "45           chamber-Rat3-probe2-sniffing-day2.wav           3           2   \n",
      "46           chamber-Rat3-probe2-sniffing-day3.wav           3           3   \n",
      "47           chamber-Rat4-probe3-sniffing-day1.wav           4           1   \n",
      "48           chamber-Rat8-Probe8-Day1-sniffing.wav           8           1   \n",
      "49                   chamber-Rat8-probe12-day1.wav           8           1   \n",
      "50                   chamber-Rat8-probe12-day2.wav           8           2   \n",
      "51                   chamber-Rat8-probe12-day3.wav           8           3   \n",
      "52                   chamber-Rat9-probe11-day1.wav           9           1   \n",
      "53                   chamber-Rat9-probe11-day2.wav           9           2   \n",
      "\n",
      "    sociability  probe_number  n_before  n_during  n_after  \\\n",
      "0   affiliative            18         0        39        2   \n",
      "1   affiliative            18         0        20        1   \n",
      "2   affiliative            21         0        15        0   \n",
      "3   affiliative            25         0         6        1   \n",
      "4   affiliative            25         0         0        2   \n",
      "5   affiliative             8         0        19        4   \n",
      "6      aversive            16         0        36        0   \n",
      "7      aversive            14         1        19        5   \n",
      "8      aversive            14         7        60       24   \n",
      "9      aversive            22         0       163       39   \n",
      "10     aversive            13         0         5       25   \n",
      "11     aversive            13         0         5        0   \n",
      "12     aversive            13         0         1        0   \n",
      "13     aversive            13         0        16        2   \n",
      "14     aversive            16         0         0      125   \n",
      "15     aversive            17         2         1       39   \n",
      "16     aversive            17         0         3        0   \n",
      "17     aversive            16         1         5        0   \n",
      "18     aversive            18         0         0        1   \n",
      "19     aversive            18         0         0        1   \n",
      "20     aversive            14         0        47      162   \n",
      "21     aversive            19         1       174      143   \n",
      "22     aversive            19         0         3        0   \n",
      "23     aversive            18         0         1        0   \n",
      "24     aversive            20         0        38       12   \n",
      "25     aversive             2         0        64        0   \n",
      "26     aversive             3         1         2        1   \n",
      "27     aversive             3         1        56        0   \n",
      "28     aversive            11         0         0       29   \n",
      "29     aversive            11         0         2        3   \n",
      "30  affiliative             4         0        18        1   \n",
      "31  affiliative             4         1        16        1   \n",
      "32  affiliative            16         0         0       31   \n",
      "33  affiliative            14         2         0        0   \n",
      "34  affiliative            14         0         0       44   \n",
      "35  affiliative            17         0         2        1   \n",
      "36  affiliative            18         0       369      231   \n",
      "37  affiliative            18         0        10        0   \n",
      "38  affiliative            20         3       235      463   \n",
      "39  affiliative            20         0       143       90   \n",
      "40  affiliative             1         0        74        9   \n",
      "41  affiliative             1         0         1        3   \n",
      "42  affiliative             1         0       584        1   \n",
      "43  affiliative            19         0        38       25   \n",
      "44  affiliative            20         0        38        4   \n",
      "45  affiliative             2         0        79        2   \n",
      "46  affiliative             2         0       261        6   \n",
      "47  affiliative             3         0        61        0   \n",
      "48  affiliative             8         0        19        1   \n",
      "49  affiliative            12         3         4       46   \n",
      "50  affiliative            12         0         5        3   \n",
      "51  affiliative            12         0         6       14   \n",
      "52  affiliative            11         0         8        7   \n",
      "53  affiliative            11         0         5        2   \n",
      "\n",
      "    mean_frequency_before  mean_frequency_during  mean_frequency_after  \\\n",
      "0                     NaN           55154.294075          53421.902223   \n",
      "1                     NaN           57115.010768          40100.480780   \n",
      "2                     NaN           62845.241766                   NaN   \n",
      "3                     NaN           38679.522304          34851.744597   \n",
      "4                     NaN                    NaN          56108.543594   \n",
      "5                     NaN           57382.807029          37922.386420   \n",
      "6                     NaN           35256.674782                   NaN   \n",
      "7            56867.343531           52218.487436          54924.548126   \n",
      "8            56364.260875           54434.863535          58156.658136   \n",
      "9                     NaN           56665.731593          55773.969547   \n",
      "10                    NaN           50942.952262          57141.918627   \n",
      "11                    NaN           50442.939211                   NaN   \n",
      "12                    NaN           58591.508547                   NaN   \n",
      "13                    NaN           56559.889037          37825.607793   \n",
      "14                    NaN                    NaN          32964.294583   \n",
      "15           52320.727095           54473.510836          30201.198994   \n",
      "16                    NaN           63604.427965                   NaN   \n",
      "17           55702.961090           61592.029255                   NaN   \n",
      "18                    NaN                    NaN          56083.628607   \n",
      "19                    NaN                    NaN          48010.520582   \n",
      "20                    NaN           35464.022782          34337.370985   \n",
      "21           44603.565771           37237.169960          37875.745662   \n",
      "22                    NaN           52685.246135                   NaN   \n",
      "23                    NaN           49566.621770                   NaN   \n",
      "24                    NaN           57205.834491          57249.370413   \n",
      "25                    NaN           52737.357973                   NaN   \n",
      "26           76707.485335           51538.555763          35596.016230   \n",
      "27           53591.368219           51717.761454                   NaN   \n",
      "28                    NaN                    NaN          50446.355142   \n",
      "29                    NaN           35694.265232          42451.322820   \n",
      "30                    NaN           42505.416911          51754.130909   \n",
      "31           37922.457609           51442.298142          40675.388711   \n",
      "32                    NaN                    NaN          39464.910911   \n",
      "33           59197.627308                    NaN                   NaN   \n",
      "34                    NaN                    NaN          62175.300113   \n",
      "35                    NaN           46876.539558          36366.356422   \n",
      "36                    NaN           29204.194445          28766.333180   \n",
      "37                    NaN           52215.709518                   NaN   \n",
      "38           58795.154429           47327.047131          43639.998688   \n",
      "39                    NaN           57002.661356          56909.755883   \n",
      "40                    NaN           56806.481033          58053.075814   \n",
      "41                    NaN           65366.386331          53332.249915   \n",
      "42                    NaN           57530.865586          53591.368219   \n",
      "43                    NaN           62102.287338          62024.981683   \n",
      "44                    NaN           58363.696267          46429.518299   \n",
      "45                    NaN           53681.066518          50574.187585   \n",
      "46                    NaN           55361.449621          51370.177768   \n",
      "47                    NaN           52390.075172                   NaN   \n",
      "48                    NaN           58273.913253          53090.418732   \n",
      "49           31877.838310           40062.004711          52928.152765   \n",
      "50                    NaN           38095.412439          56525.375275   \n",
      "51                    NaN           52819.506549          56392.431981   \n",
      "52                    NaN           56408.324267          56536.387973   \n",
      "53                    NaN           43656.084444          38977.813984   \n",
      "\n",
      "    mean_duration_before  mean_duration_during  mean_duration_after  \n",
      "0                    NaN              0.031158             0.031818  \n",
      "1                    NaN              0.022273             0.087879  \n",
      "2                    NaN              0.032525                  NaN  \n",
      "3                    NaN              0.012626             0.009091  \n",
      "4                    NaN                   NaN             0.039394  \n",
      "5                    NaN              0.023764             0.018182  \n",
      "6                    NaN              0.071717                  NaN  \n",
      "7               0.039394              0.034290             0.036970  \n",
      "8               0.029004              0.035909             0.032955  \n",
      "9                    NaN              0.027496             0.030070  \n",
      "10                   NaN              0.016364             0.044485  \n",
      "11                   NaN              0.015152                  NaN  \n",
      "12                   NaN              0.018182                  NaN  \n",
      "13                   NaN              0.031439             0.024242  \n",
      "14                   NaN                   NaN             0.059006  \n",
      "15              0.025758              0.012121             0.069464  \n",
      "16                   NaN              0.017172                  NaN  \n",
      "17              0.021212              0.023030                  NaN  \n",
      "18                   NaN                   NaN             0.021212  \n",
      "19                   NaN                   NaN             0.006061  \n",
      "20                   NaN              0.050097             0.067172  \n",
      "21              0.018182              0.082166             0.081310  \n",
      "22                   NaN              0.015152                  NaN  \n",
      "23                   NaN              0.027273                  NaN  \n",
      "24                   NaN              0.039394             0.033333  \n",
      "25                   NaN              0.035653                  NaN  \n",
      "26              0.018182              0.025758             0.024242  \n",
      "27              0.015152              0.043182                  NaN  \n",
      "28                   NaN                   NaN             0.034274  \n",
      "29                   NaN              0.021212             0.017172  \n",
      "30                   NaN              0.025253             0.021212  \n",
      "31              0.033333              0.034848             0.018182  \n",
      "32                   NaN                   NaN             0.072630  \n",
      "33              0.012121                   NaN                  NaN  \n",
      "34                   NaN                   NaN             0.036226  \n",
      "35                   NaN              0.018182             0.003030  \n",
      "36                   NaN              0.071602             0.078342  \n",
      "37                   NaN              0.028485                  NaN  \n",
      "38              0.045455              0.060477             0.072249  \n",
      "39                   NaN              0.040199             0.042492  \n",
      "40                   NaN              0.029975             0.029966  \n",
      "41                   NaN              0.021212             0.023232  \n",
      "42                   NaN              0.045008             0.006061  \n",
      "43                   NaN              0.042185             0.048848  \n",
      "44                   NaN              0.032376             0.029545  \n",
      "45                   NaN              0.030495             0.024242  \n",
      "46                   NaN              0.044340             0.039899  \n",
      "47                   NaN              0.039642                  NaN  \n",
      "48                   NaN              0.026954             0.018182  \n",
      "49              0.025253              0.021970             0.027009  \n",
      "50                   NaN              0.023636             0.018182  \n",
      "51                   NaN              0.019192             0.040476  \n",
      "52                   NaN              0.043182             0.025108  \n",
      "53                   NaN              0.025455             0.019697  \n"
     ]
    }
   ],
   "source": [
    "import pandas as pd\n",
    "\n",
    "# Assuming your DataFrame is named 'df'\n",
    "# Replace 'df' with the actual variable name of your DataFrame if different.\n",
    "\n",
    "# Group the data by 'File_Name', 'rat_number', and 'day_number'\n",
    "grouped_data = df.groupby(['File_Name', 'rat_number', 'day_number','sociability','probe_number'])\n",
    "\n",
    "# Define a function to calculate the number of True occurrences for each flag\n",
    "def count_flags(flag_series):\n",
    "    return flag_series.sum()\n",
    "\n",
    "# Define a function to calculate the mean frequency for each flag\n",
    "def mean_frequency(freq_series, flag_series):\n",
    "    return freq_series[flag_series].mean()\n",
    "\n",
    "# Define a function to calculate the mean duration for each flag\n",
    "def mean_duration(begin_time_series, end_time_series, flag_series):\n",
    "    return (end_time_series[flag_series] - begin_time_series[flag_series]).mean()\n",
    "\n",
    "# Create the summary DataFrame\n",
    "summary_df = pd.DataFrame({\n",
    "    'n_before': grouped_data['before_flag'].apply(count_flags),\n",
    "    'n_during': grouped_data['during_flag'].apply(count_flags),\n",
    "    'n_after': grouped_data['after_flag'].apply(count_flags),\n",
    "    'mean_frequency_before': grouped_data.apply(lambda x: mean_frequency(x['Mean_Freq'], x['before_flag'])),\n",
    "    'mean_frequency_during': grouped_data.apply(lambda x: mean_frequency(x['Mean_Freq'], x['during_flag'])),\n",
    "    'mean_frequency_after': grouped_data.apply(lambda x: mean_frequency(x['Mean_Freq'], x['after_flag'])),\n",
    "    'mean_duration_before': grouped_data.apply(lambda x: mean_duration(x['Begin_Time'], x['End_Time'], x['before_flag'])),\n",
    "    'mean_duration_during': grouped_data.apply(lambda x: mean_duration(x['Begin_Time'], x['End_Time'], x['during_flag'])),\n",
    "    'mean_duration_after': grouped_data.apply(lambda x: mean_duration(x['Begin_Time'], x['End_Time'], x['after_flag']))\n",
    "}).reset_index()\n",
    "\n",
    "# Display the summary DataFrame\n",
    "print(summary_df)\n"
   ]
  },
  {
   "cell_type": "code",
   "execution_count": 171,
   "id": "615f5109",
   "metadata": {},
   "outputs": [],
   "source": [
    "summary_df.to_excel('chamber_vocalizations_summary.xlsx')"
   ]
  },
  {
   "cell_type": "code",
   "execution_count": 144,
   "id": "9269a0d8",
   "metadata": {},
   "outputs": [
    {
     "data": {
      "text/plain": [
       "'D:\\\\Project- Electro\\\\social_behavior_electro\\\\analysis'"
      ]
     },
     "execution_count": 144,
     "metadata": {},
     "output_type": "execute_result"
    }
   ],
   "source": [
    "os.getcwd()"
   ]
  },
  {
   "cell_type": "code",
   "execution_count": null,
   "id": "6afe716f",
   "metadata": {},
   "outputs": [],
   "source": []
  }
 ],
 "metadata": {
  "kernelspec": {
   "display_name": "Python 3 (ipykernel)",
   "language": "python",
   "name": "python3"
  },
  "language_info": {
   "codemirror_mode": {
    "name": "ipython",
    "version": 3
   },
   "file_extension": ".py",
   "mimetype": "text/x-python",
   "name": "python",
   "nbconvert_exporter": "python",
   "pygments_lexer": "ipython3",
   "version": "3.10.9"
  }
 },
 "nbformat": 4,
 "nbformat_minor": 5
}
