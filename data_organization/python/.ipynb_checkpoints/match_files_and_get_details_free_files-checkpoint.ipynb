{
 "cells": [
  {
   "cell_type": "code",
   "execution_count": 2,
   "id": "5f59ffb4",
   "metadata": {},
   "outputs": [],
   "source": [
    "import os\n",
    "import os.path as osp\n",
    "import pandas as pd\n",
    "import glob\n",
    "import numpy as np"
   ]
  },
  {
   "cell_type": "code",
   "execution_count": 3,
   "id": "b54e3188",
   "metadata": {},
   "outputs": [
    {
     "data": {
      "text/plain": [
       "'D:\\\\Project- Electro\\\\social_behavior_electro\\\\data_organization\\\\python'"
      ]
     },
     "execution_count": 3,
     "metadata": {},
     "output_type": "execute_result"
    }
   ],
   "source": [
    "os.getcwd()"
   ]
  },
  {
   "cell_type": "code",
   "execution_count": 17,
   "id": "78dcc3bd",
   "metadata": {
    "scrolled": false
   },
   "outputs": [],
   "source": [
    "# Get all names in path\n",
    "all_audioClip_files = []\n",
    "\n",
    "folder_name = osp.join('..','..','..','Summary of free interaction - 1-2023')\n",
    "\n",
    "all_audioClip_files.append(glob.glob(osp.join(folder_name,\"**/**/**/*.wav\")))\n",
    "all_audioClip_files.append(glob.glob(osp.join(folder_name,\"**/**/**/*.mat\")))\n",
    "all_audioClip_files = list(np.concatenate(all_audioClip_files).flat)\n",
    "# print(all_audioClip_files[120])\n",
    "# print(all_audioClip_files[129])\n",
    "# print(all_audioClip_files[140])\n",
    "# print(all_audioClip_files[144])\n",
    "\n"
   ]
  },
  {
   "cell_type": "code",
   "execution_count": 18,
   "id": "9912d38e",
   "metadata": {},
   "outputs": [],
   "source": [
    "video_pose_estimation = glob.glob(osp.join(folder_name,\"video_pose_estimation\",\"*.csv\"))\n",
    "cropped_raw_video = glob.glob(osp.join(folder_name,\"cropped_raw_video\",\"*.avi\"))\n"
   ]
  },
  {
   "cell_type": "code",
   "execution_count": 19,
   "id": "8706c91e",
   "metadata": {},
   "outputs": [
    {
     "data": {
      "text/plain": [
       "0"
      ]
     },
     "execution_count": 19,
     "metadata": {},
     "output_type": "execute_result"
    }
   ],
   "source": [
    "len(all_audioClip_files)"
   ]
  },
  {
   "cell_type": "code",
   "execution_count": null,
   "id": "b39aba16",
   "metadata": {},
   "outputs": [],
   "source": []
  },
  {
   "cell_type": "code",
   "execution_count": 5,
   "id": "03dfc9bc",
   "metadata": {},
   "outputs": [
    {
     "data": {
      "text/plain": [
       "'chamber-rat1-probe4-day1.wav'"
      ]
     },
     "execution_count": 5,
     "metadata": {},
     "output_type": "execute_result"
    }
   ],
   "source": [
    "one_file_path = all_audioClip_files[0]\n",
    "file_name_orig = osp.split(one_file_path)[-1]\n",
    "\n",
    "file_name = file_name_orig.lower().replace(' ','')\n",
    "file_name"
   ]
  },
  {
   "cell_type": "code",
   "execution_count": 6,
   "id": "74395250",
   "metadata": {
    "scrolled": true
   },
   "outputs": [],
   "source": [
    "# [print(f'{i}:{k}') for i, k in enumerate(set(all_audioClip_files))]"
   ]
  },
  {
   "cell_type": "code",
   "execution_count": 7,
   "id": "aac3e579",
   "metadata": {},
   "outputs": [],
   "source": [
    "init_dict = {\n",
    "    'lfp':'',\n",
    "     'audio':'',\n",
    "    'timeStamps':'',\n",
    "    'audioclips':'',\n",
    "    'multispikes':'',\n",
    "    'sniff':'',\n",
    "    'video_files':'',\n",
    "    'inds':''}\n",
    "\n",
    "data_dict = dict()\n",
    "data_dict_problems = []\n",
    "# data_dict = {('' , '', '', '', '', ''):init_dict}"
   ]
  },
  {
   "cell_type": "code",
   "execution_count": 8,
   "id": "de0f60cf",
   "metadata": {},
   "outputs": [
    {
     "data": {
      "text/plain": [
       "'..\\\\..\\\\..\\\\summary - 3-2022\\\\Brain states of Affiliation and Aversive behaviour\\\\Affiliative interaction\\\\Audio-wav files\\\\chamber-Rat1-probe4-day1.wav'"
      ]
     },
     "execution_count": 8,
     "metadata": {},
     "output_type": "execute_result"
    }
   ],
   "source": [
    "one_file_path"
   ]
  },
  {
   "cell_type": "code",
   "execution_count": 9,
   "id": "43ac6202",
   "metadata": {},
   "outputs": [],
   "source": [
    "# debug = True\n",
    "debug = False"
   ]
  },
  {
   "cell_type": "code",
   "execution_count": 10,
   "id": "06501817",
   "metadata": {},
   "outputs": [
    {
     "data": {
      "text/plain": [
       "'chamber-rat1-probe4-day1.wav'"
      ]
     },
     "execution_count": 10,
     "metadata": {},
     "output_type": "execute_result"
    }
   ],
   "source": [
    "file_name"
   ]
  },
  {
   "cell_type": "code",
   "execution_count": 11,
   "id": "060d4643",
   "metadata": {},
   "outputs": [
    {
     "data": {
      "text/plain": [
       "'..\\\\..\\\\..\\\\summary - 3-2022\\\\Brain states of Affiliation and Aversive behaviour\\\\Affiliative interaction\\\\audioclips\\\\affiliative_data_Chamber-Rat19-probe18-Day3.mat'"
      ]
     },
     "execution_count": 11,
     "metadata": {},
     "output_type": "execute_result"
    }
   ],
   "source": [
    "all_audioClip_files[100]"
   ]
  },
  {
   "cell_type": "code",
   "execution_count": 12,
   "id": "c950e13e",
   "metadata": {},
   "outputs": [
    {
     "ename": "ValueError",
     "evalue": "Duplicate entry: ('19', '2.wav', 'chamber', 'male', '', 'adult', '', '')",
     "output_type": "error",
     "traceback": [
      "\u001b[1;31m---------------------------------------------------------------------------\u001b[0m",
      "\u001b[1;31mValueError\u001b[0m                                Traceback (most recent call last)",
      "Cell \u001b[1;32mIn[12], line 81\u001b[0m\n\u001b[0;32m     79\u001b[0m         \u001b[38;5;28mprint\u001b[39m(\u001b[38;5;124mf\u001b[39m\u001b[38;5;124m'\u001b[39m\u001b[38;5;124mfile type: \u001b[39m\u001b[38;5;132;01m{\u001b[39;00mfile_type\u001b[38;5;132;01m}\u001b[39;00m\u001b[38;5;124m'\u001b[39m)\n\u001b[0;32m     80\u001b[0m         \u001b[38;5;28mprint\u001b[39m(\u001b[38;5;124mf\u001b[39m\u001b[38;5;124m'\u001b[39m\u001b[38;5;124merror: \u001b[39m\u001b[38;5;132;01m{\u001b[39;00mp\u001b[38;5;132;01m}\u001b[39;00m\u001b[38;5;124m:\u001b[39m\u001b[38;5;132;01m{\u001b[39;00mtemp\u001b[38;5;132;01m}\u001b[39;00m\u001b[38;5;124m'\u001b[39m)\n\u001b[1;32m---> 81\u001b[0m     \u001b[38;5;28;01mraise\u001b[39;00m \u001b[38;5;167;01mValueError\u001b[39;00m(\u001b[38;5;124mf\u001b[39m\u001b[38;5;124m'\u001b[39m\u001b[38;5;124mDuplicate entry: \u001b[39m\u001b[38;5;132;01m{\u001b[39;00m(ratNum, dayNum, paradigm, subjectSex, stimulusSex, stimulusAge, tag, recordingMode)\u001b[38;5;132;01m}\u001b[39;00m\u001b[38;5;124m'\u001b[39m)\n\u001b[0;32m     82\u001b[0m \u001b[38;5;28;01mif\u001b[39;00m debug:\n\u001b[0;32m     83\u001b[0m     \u001b[38;5;28mprint\u001b[39m(\u001b[38;5;124mf\u001b[39m\u001b[38;5;124m'\u001b[39m\u001b[38;5;130;01m\\n\u001b[39;00m\u001b[38;5;124mThis is P after:\u001b[39m\u001b[38;5;132;01m{\u001b[39;00mp\u001b[38;5;132;01m}\u001b[39;00m\u001b[38;5;124m'\u001b[39m)\n",
      "\u001b[1;31mValueError\u001b[0m: Duplicate entry: ('19', '2.wav', 'chamber', 'male', '', 'adult', '', '')"
     ]
    }
   ],
   "source": [
    "for i, one_file_path in enumerate(all_audioClip_files):\n",
    "    ratNum = ''\n",
    "    dayNum = ''\n",
    "    paradigm = ''\n",
    "    stimulusSex = ''\n",
    "    stimulusage = ''    \n",
    "    subjectSex = ''\n",
    "    recordingMode = ''\n",
    "    fileType = ''\n",
    "    inds = []\n",
    "    \n",
    "    if debug:\n",
    "        print(f'\\n{i}----------------------\\n')\n",
    "        print(f'\\Enter:{one_file_path}')\n",
    "    file_name_orig = osp.split(one_file_path)[-1]\n",
    "    file_name = file_name_orig.lower().replace(' ','')\n",
    "#     try:\n",
    "    # get subject sex\n",
    "\n",
    "    if file_name.startswith('female'):\n",
    "        file_name = file_name[len('female'):]\n",
    "        subjectSex = 'female' \n",
    "    else:\n",
    "        subjectSex = 'male'\n",
    "\n",
    "    # get rat number\n",
    "    try:\n",
    "        ratNum = file_name.split('rat')[1].split('-')[0]\n",
    "    except:\n",
    "        pass\n",
    "    # get day num \n",
    "    try:\n",
    "        dayNum = file_name.split('day')[1].split('-')[0]\n",
    "    except:\n",
    "        pass\n",
    "    # get paradigm\n",
    "    try:\n",
    "        paradigm_options = {'chamber', 'free'}\n",
    "        paradigm = [p for p in paradigm_options if p in file_name][0]\n",
    "    except:\n",
    "        print('==== UNKNOWN PARADIGM ====')\n",
    "\n",
    "\n",
    "\n",
    "    # get file type\n",
    "    if 'lfp' in one_file_path:\n",
    "        file_type = 'lfp'\n",
    "    elif 'audio':\n",
    "        file_type = 'audio'\n",
    "    elif 'time':\n",
    "        file_type = 'timeStamps'\n",
    "    elif 'audioclips':\n",
    "        file_type = 'audioclips'\n",
    "    elif 'multispikes':\n",
    "        file_type = 'multispikes'\n",
    "    elif 'sniff':\n",
    "        file_type = 'sniff'\n",
    "    elif 'video':\n",
    "        file_type = 'video_files'\n",
    "    elif 'time':\n",
    "        file_type = 'timeStamps'        \n",
    "    \n",
    "    stimulusAge = 'adult'\n",
    "    tag = ''\n",
    "        \n",
    "    \n",
    "    p = data_dict.get((ratNum, dayNum, paradigm, subjectSex, stimulusSex, stimulusAge, tag, recordingMode),init_dict.copy())\n",
    "    if debug:\n",
    "        print(f'\\nParameters:{(ratNum, dayNum, paradigm, subjectSex, stimulusSex, stimulusAge, tag, recordingMode,fileType)}')\n",
    "        print(f'\\nThis is P before:{p}')\n",
    "    # before assiging, make sure that it is empty\n",
    "    temp = p[file_type]\n",
    "    if len(temp) == 0:\n",
    "        # assign value\n",
    "        p[file_type] = one_file_path\n",
    "        p['inds'] = p['inds']+'_'+str(i)\n",
    "    else:\n",
    "        if debug:\n",
    "            print(f'file type: {file_type}')\n",
    "            print(f'error: {p}:{temp}')\n",
    "        raise ValueError(f'Duplicate entry: {(ratNum, dayNum, paradigm, subjectSex, stimulusSex, stimulusAge, tag, recordingMode)}')\n",
    "    if debug:\n",
    "        print(f'\\nThis is P after:{p}')\n",
    "    # update\n",
    "    data_dict[(ratNum, dayNum, paradigm, subjectSex, stimulusSex, stimulusAge, tag, recordingMode)] = p\n",
    "\n",
    "#     except Exception as e:\n",
    "#         data_dict_problems.append({(ratNum, dayNum, paradigm, subjectSex, stimulusSex, stimulusAge, tag, recordingMode):  {'ind': i, 'error': e, 'filename': one_file_path}})\n",
    "    "
   ]
  },
  {
   "cell_type": "code",
   "execution_count": null,
   "id": "c5ed4a6a",
   "metadata": {},
   "outputs": [],
   "source": [
    "data_dict_problems"
   ]
  },
  {
   "cell_type": "code",
   "execution_count": null,
   "id": "ef530f2d",
   "metadata": {
    "scrolled": false
   },
   "outputs": [],
   "source": [
    "# for i, one_file_path in enumerate(all_audioClip_files):\n",
    "#     ratNum = ''\n",
    "#     dayNum = ''\n",
    "#     paradigm = ''\n",
    "#     stimulusSex = ''\n",
    "#     stimulusage = ''    \n",
    "#     subjectSex = ''\n",
    "#     recordingMode = ''\n",
    "#     fileType = ''\n",
    "#     tag = ''\n",
    "#     inds = []\n",
    "    \n",
    "#     one_file_path = one_file_path.lower()\n",
    "#     file_parts = osp.split(one_file_path)\n",
    "    \n",
    "#     filename = file_parts[-1]\n",
    "    \n",
    "#     if filename.startswith('female'):\n",
    "#         subjectSex = 'female'\n",
    "#         filename = filename.split('female ')[1]\n",
    "#     else:\n",
    "#         subjectSex = 'male'\n",
    "        \n",
    "    \n",
    "#     filename = filename.split('-')\n",
    "#     # get rat number\n",
    "    \n",
    "#     ratNum = filename[0].split('rat')\n",
    "#     ratNum = ratNum[-1]    \n",
    "    \n",
    "#     assert ratNum.isnumeric(), f'Unable to set rat number, {ratNum} is not a number'\n",
    "    \n",
    "#     # get day number\n",
    "#     dayNum = filename[1].split('day')\n",
    "#     dayNum = dayNum[-1]    \n",
    "    \n",
    "#     assert dayNum.isnumeric(), f'Unable to set dayNum, {dayNum} is not a number'\n",
    "    \n",
    "#     # get paradigm\n",
    "#     paradigm = filename[2]\n",
    "    \n",
    "#     assert paradigm in {'free','chamber'}\n",
    "    \n",
    "#     # get stimulus sex\n",
    "#     stimulusSex = filename[3]\n",
    "    \n",
    "#     assert stimulusSex in {'male','female'}\n",
    "    \n",
    "#     # get stimulus age\n",
    "#     stimulusSex = filename[3]\n",
    "    \n",
    "#     assert stimulusSex in {'male','female'}\n",
    "    \n",
    "#     if 'juv' in one_file_path:\n",
    "#         stimulusAge = 'juvenile'\n",
    "#     else:\n",
    "#         stimulusAge = 'adult'\n",
    "    \n",
    "#     # get tags\n",
    "#     if len(filename) == 5:\n",
    "#         tag = filename[4].split('_')[0]\n",
    "#     else:\n",
    "#         tag = ''\n",
    "    \n",
    "#     # get file type\n",
    "#     if 'behavior_and_optogenetics_timestamps' in one_file_path:\n",
    "#         fileType = 'times'\n",
    "#     elif 'raw' in one_file_path:\n",
    "#         fileType = 'audioSource'\n",
    "                    \n",
    "#     if 'main' in one_file_path:\n",
    "#         recordingMode = 'main'\n",
    "#     elif 'mini' in one_file_path:\n",
    "#         recordingMode = 'mini'\n",
    "    \n",
    "        \n",
    "    "
   ]
  },
  {
   "cell_type": "code",
   "execution_count": null,
   "id": "e70c480d",
   "metadata": {
    "scrolled": true
   },
   "outputs": [],
   "source": [
    "data_dict_problems"
   ]
  },
  {
   "cell_type": "code",
   "execution_count": null,
   "id": "7d784977",
   "metadata": {},
   "outputs": [],
   "source": [
    "data_dict"
   ]
  },
  {
   "cell_type": "code",
   "execution_count": null,
   "id": "67d5c957",
   "metadata": {
    "scrolled": false
   },
   "outputs": [],
   "source": [
    "tab = pd.DataFrame.from_dict(data_dict).transpose()\n"
   ]
  },
  {
   "cell_type": "code",
   "execution_count": null,
   "id": "c4a1132c",
   "metadata": {},
   "outputs": [],
   "source": [
    "tab"
   ]
  },
  {
   "cell_type": "code",
   "execution_count": null,
   "id": "4ca2d82d",
   "metadata": {
    "scrolled": false
   },
   "outputs": [],
   "source": [
    "# tab = tab.reset_index().rename(columns={\n",
    "#     'level_0':'ratNum',\n",
    "#     'level_1': 'dayNum',\n",
    "#     'level_2': 'paradaigm',\n",
    "#     'level_3': 'subjectSex',\n",
    "#     'level_4': 'stimulusSex',\n",
    "#     'level_5': 'stimulusAge',\n",
    "#     'level_6': 'tag',\n",
    "# })\n",
    "\n",
    "tab = tab.reset_index().rename(columns={\n",
    "    'level_0':'ratNum',\n",
    "    'level_1': 'recordingDay',\n",
    "    'level_2': 'paradigm',\n",
    "    'level_3': 'subjectSex',\n",
    "    'level_4': 'stimulusSex',\n",
    "    'level_5': 'stimulusAge',\n",
    "    'level_6': 'tag',\n",
    "    'level_7': 'recordingMode',    \n",
    "})\n"
   ]
  },
  {
   "cell_type": "code",
   "execution_count": null,
   "id": "86f7d78f",
   "metadata": {},
   "outputs": [],
   "source": [
    "main_tab = tab.loc[tab['recordingMode']=='main']\n",
    "main_tab = main_tab.drop(columns=['miniAudioClip','miniAudio','timeStamps'])\n",
    "main_tab = main_tab.rename(columns={'mainAudioClip':'fullname','mainAudio':'audioSource'})\n",
    "\n",
    "mini_tab = tab.loc[tab['recordingMode']=='mini']\n",
    "mini_tab = mini_tab.drop(columns=['mainAudioClip','mainAudio','timeStamps'])\n",
    "mini_tab = mini_tab.rename(columns={'miniAudioClip':'fullname','miniAudio':'audioSource'})\n",
    "\n",
    "times_tab = tab.loc[tab['recordingMode']=='times']\n",
    "times_tab = times_tab.drop(columns=['mainAudioClip','mainAudio','miniAudioClip','miniAudio'])\n",
    "times_tab = times_tab.rename(columns={'timeStamps':'fullname'})\n",
    "\n",
    "tab_all = pd.concat([main_tab, mini_tab,times_tab])"
   ]
  },
  {
   "cell_type": "code",
   "execution_count": null,
   "id": "97183fba",
   "metadata": {},
   "outputs": [],
   "source": []
  },
  {
   "cell_type": "code",
   "execution_count": null,
   "id": "b84fdc39",
   "metadata": {},
   "outputs": [],
   "source": [
    "\n",
    "tab_all['folder'] = tab_all['fullname'].apply(lambda x: os.path.dirname(x))\n",
    "tab_all['name'] = tab_all['fullname'].apply(lambda x: os.path.basename(x))"
   ]
  },
  {
   "cell_type": "code",
   "execution_count": null,
   "id": "67174d33",
   "metadata": {
    "scrolled": false
   },
   "outputs": [],
   "source": [
    "# tab_all['fullname']"
   ]
  },
  {
   "cell_type": "code",
   "execution_count": null,
   "id": "e420f408",
   "metadata": {},
   "outputs": [],
   "source": [
    "# print(tab_all)"
   ]
  },
  {
   "cell_type": "code",
   "execution_count": null,
   "id": "6bd095f0",
   "metadata": {},
   "outputs": [],
   "source": [
    "len(tab_all)"
   ]
  },
  {
   "cell_type": "code",
   "execution_count": null,
   "id": "9a5cfd99",
   "metadata": {},
   "outputs": [],
   "source": [
    "tab_all.stimulusSex\n"
   ]
  },
  {
   "cell_type": "code",
   "execution_count": null,
   "id": "23bf628d",
   "metadata": {},
   "outputs": [],
   "source": [
    "os.getcwd()"
   ]
  },
  {
   "cell_type": "code",
   "execution_count": null,
   "id": "4c7b5fbc",
   "metadata": {
    "scrolled": false
   },
   "outputs": [],
   "source": [
    "# tab_all.to_excel('summary_details_filenames_free_females_20230312.xlsx')"
   ]
  },
  {
   "cell_type": "code",
   "execution_count": null,
   "id": "cf07ece5",
   "metadata": {},
   "outputs": [],
   "source": []
  },
  {
   "cell_type": "code",
   "execution_count": null,
   "id": "19c67288",
   "metadata": {},
   "outputs": [],
   "source": []
  }
 ],
 "metadata": {
  "kernelspec": {
   "display_name": "Python 3 (ipykernel)",
   "language": "python",
   "name": "python3"
  },
  "language_info": {
   "codemirror_mode": {
    "name": "ipython",
    "version": 3
   },
   "file_extension": ".py",
   "mimetype": "text/x-python",
   "name": "python",
   "nbconvert_exporter": "python",
   "pygments_lexer": "ipython3",
   "version": "3.10.9"
  }
 },
 "nbformat": 4,
 "nbformat_minor": 5
}
