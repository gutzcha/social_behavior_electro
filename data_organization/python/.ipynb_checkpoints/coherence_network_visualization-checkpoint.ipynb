{
 "cells": [
  {
   "cell_type": "code",
   "execution_count": 1,
   "id": "c2cd4625",
   "metadata": {},
   "outputs": [],
   "source": [
    "import os\n",
    "import pandas as pd\n",
    "import os.path as osp\n",
    "import numpy as np\n",
    "import seaborn as sns\n",
    "import matplotlib.pyplot as plt"
   ]
  },
  {
   "cell_type": "markdown",
   "id": "2af63149",
   "metadata": {},
   "source": [
    "## Load files"
   ]
  },
  {
   "cell_type": "code",
   "execution_count": 2,
   "id": "477dacf9",
   "metadata": {},
   "outputs": [
    {
     "data": {
      "text/plain": [
       "'D:\\\\Project- Electro\\\\social_behavior_electro\\\\data_organization\\\\python'"
      ]
     },
     "execution_count": 2,
     "metadata": {},
     "output_type": "execute_result"
    }
   ],
   "source": [
    "os.getcwd()"
   ]
  },
  {
   "cell_type": "code",
   "execution_count": 3,
   "id": "c0b69cbb",
   "metadata": {},
   "outputs": [],
   "source": [
    "folder_path = osp.join('..','..','analysis')\n",
    "path_to_aversive = osp.join(folder_path,\n",
    "                            'Population analysis results for LFP Coherence - Encounter-PreEncounter_4-12_30-80_aversive.xlsx')\n",
    "path_to_affiliative = osp.join(folder_path,\n",
    "                               'Population analysis results for LFP Coherence - Encounter-PreEncounter_4-12_30-80_affiliative.xlsx')\n",
    "path_to_common_areas = osp.join(folder_path, 'common_area_pairs_w5_sessions.xlsx')\n",
    "\n"
   ]
  },
  {
   "cell_type": "code",
   "execution_count": 4,
   "id": "3a4fabc2",
   "metadata": {},
   "outputs": [],
   "source": [
    "df_aff = pd.read_excel(path_to_affiliative,None)\n",
    "df_avv = pd.read_excel(path_to_aversive,None)\n",
    "\n",
    "df_files_avv = pd.read_excel(path_to_aversive,'Uploaded files', header=None)\n",
    "df_files_aff = pd.read_excel(path_to_affiliative,'Uploaded files', header=None)\n",
    "\n",
    "df_areas = pd.read_excel(path_to_common_areas)\n"
   ]
  },
  {
   "cell_type": "markdown",
   "id": "91b84959",
   "metadata": {},
   "source": [
    "## Get info"
   ]
  },
  {
   "cell_type": "markdown",
   "id": "bc6691a0",
   "metadata": {},
   "source": [
    "### Number of sessions in each state"
   ]
  },
  {
   "cell_type": "code",
   "execution_count": 5,
   "id": "adf83956",
   "metadata": {},
   "outputs": [],
   "source": [
    "def get_number_of_sessions(df):\n",
    "    max_len = 0\n",
    "    for df_t in df.values():\n",
    "        # find the max length\n",
    "        max_len = max(max_len, len(df_t))\n",
    "    return max_len"
   ]
  },
  {
   "cell_type": "code",
   "execution_count": 6,
   "id": "aafb9bd4",
   "metadata": {},
   "outputs": [],
   "source": [
    "n_sssions_aff = get_number_of_sessions(df=df_aff)\n",
    "n_sssions_avv = get_number_of_sessions(df=df_avv)"
   ]
  },
  {
   "cell_type": "code",
   "execution_count": 7,
   "id": "ad170600",
   "metadata": {},
   "outputs": [],
   "source": [
    "# I had to hard code this part since the names on the tables are different\n",
    "important_pairs_in_data = [\n",
    "    ('Area 111 MeA', 'Area 13 CeA'),\n",
    "    ('Area 111 MeA', 'Area 112 BMA'),\n",
    "    ('Area 111 MeA', 'Area 14 AA/ACO/VEN'),\n",
    "    ('Area 111 MeA', 'Area 16 EA'),\n",
    "    ('Area 111 MeA', 'Area 12 STIA'),\n",
    "    ('Area 2 MePV', 'Area 112 BMA'),\n",
    "    ('Area 13 CeA', 'Area 12 STIA'),\n",
    "    ('Area 112 BMA', 'Area 14 AA/ACO/VEN')\n",
    "]\n"
   ]
  },
  {
   "cell_type": "markdown",
   "id": "372c1cea",
   "metadata": {},
   "source": [
    "## Get important pairs directly from the tables"
   ]
  },
  {
   "cell_type": "code",
   "execution_count": 8,
   "id": "065646ca",
   "metadata": {},
   "outputs": [],
   "source": [
    "# Each pair must appear in at least 5 session in each state\n",
    "'''\n",
    "- loop over all possible pairs and count the number of session for each pair\n",
    "- keep only the pairs that were mesured only match conditions\n",
    "'''\n",
    "def get_area_names(df):\n",
    "    all_areas = [area.replace('During','').replace('Before','').replace('First','').replace('Second','') for area in list(df.keys())]\n",
    "    all_areas = set(all_areas)\n",
    "    all_areas = all_areas - set(['NormMinus','Uploaded files'])\n",
    "    return all_areas\n",
    "areas_aff = get_area_names(df_aff)\n",
    "areas_avv = get_area_names(df_avv)\n",
    "\n",
    "common_areas = areas_aff.intersection(areas_avv)\n",
    "\n",
    "def search_tuple_in_array_no_order(t, t_array):\n",
    "    t_array = list(t_array)\n",
    "    for t2 in t_array:\n",
    "        if set(t) == set(t2):\n",
    "            return True\n",
    "        return False\n",
    "    \n",
    "\n",
    "def get_n_session_for_each_pair(df):\n",
    "    MIN_N_SESSION = 5\n",
    "    ret = dict()\n",
    "    for area_sheet, data in df.items():\n",
    "        # Only look at \"First\" (frequency range)\n",
    "        if 'Norm' in area_sheet or 'Uploaded files' in area_sheet or 'Second' in area_sheet:\n",
    "            continue\n",
    "        area_name = area_sheet.replace('During','').replace('Before','').replace('First','')\n",
    "        n_sessions = data.count()\n",
    "        valid_session_ind = n_sessions>=MIN_N_SESSION\n",
    "        valid_area_pairs = list(n_sessions[valid_session_ind].index)\n",
    "        \n",
    "        for area2 in valid_area_pairs:\n",
    "            if search_tuple_in_array_no_order((area_name, area2), ret.keys()):\n",
    "                continue\n",
    "            ret[tuple(sorted([area_name, area2]))] = n_sessions[area2]\n",
    "         \n",
    "    return ret\n",
    "\n"
   ]
  },
  {
   "cell_type": "code",
   "execution_count": 9,
   "id": "8a860537",
   "metadata": {},
   "outputs": [],
   "source": [
    "valid_avv = get_n_session_for_each_pair(df = df_avv)\n",
    "valid_aff = get_n_session_for_each_pair(df = df_aff)\n"
   ]
  },
  {
   "cell_type": "code",
   "execution_count": 10,
   "id": "b58f78e1",
   "metadata": {},
   "outputs": [],
   "source": [
    "# combine two dicts, keep only common keys\n",
    "# folter non common pairs\n",
    "common_pairs = set(valid_avv.keys()).intersection(set(valid_aff.keys())) # this is ok since the tuples are sorted\n",
    "# convert to dataframe\n",
    "dict_sum = {}\n",
    "dict_sum['affiliative'] = {p:valid_aff[p] for p in common_pairs}\n",
    "dict_sum['aversive'] = {p:valid_avv[p] for p in common_pairs}"
   ]
  },
  {
   "cell_type": "code",
   "execution_count": 11,
   "id": "bbc2e3d9",
   "metadata": {},
   "outputs": [
    {
     "data": {
      "text/html": [
       "<div>\n",
       "<style scoped>\n",
       "    .dataframe tbody tr th:only-of-type {\n",
       "        vertical-align: middle;\n",
       "    }\n",
       "\n",
       "    .dataframe tbody tr th {\n",
       "        vertical-align: top;\n",
       "    }\n",
       "\n",
       "    .dataframe thead th {\n",
       "        text-align: right;\n",
       "    }\n",
       "</style>\n",
       "<table border=\"1\" class=\"dataframe\">\n",
       "  <thead>\n",
       "    <tr style=\"text-align: right;\">\n",
       "      <th></th>\n",
       "      <th></th>\n",
       "      <th>affiliative</th>\n",
       "      <th>aversive</th>\n",
       "    </tr>\n",
       "  </thead>\n",
       "  <tbody>\n",
       "    <tr>\n",
       "      <th>CeA</th>\n",
       "      <th>STIA</th>\n",
       "      <td>5</td>\n",
       "      <td>10</td>\n",
       "    </tr>\n",
       "    <tr>\n",
       "      <th>AA</th>\n",
       "      <th>MeD</th>\n",
       "      <td>10</td>\n",
       "      <td>14</td>\n",
       "    </tr>\n",
       "    <tr>\n",
       "      <th>EA</th>\n",
       "      <th>MeD</th>\n",
       "      <td>8</td>\n",
       "      <td>11</td>\n",
       "    </tr>\n",
       "    <tr>\n",
       "      <th>BMA</th>\n",
       "      <th>MePV</th>\n",
       "      <td>9</td>\n",
       "      <td>6</td>\n",
       "    </tr>\n",
       "    <tr>\n",
       "      <th>CeA</th>\n",
       "      <th>MeD</th>\n",
       "      <td>6</td>\n",
       "      <td>12</td>\n",
       "    </tr>\n",
       "    <tr>\n",
       "      <th>BMA</th>\n",
       "      <th>MeD</th>\n",
       "      <td>15</td>\n",
       "      <td>7</td>\n",
       "    </tr>\n",
       "    <tr>\n",
       "      <th>AA</th>\n",
       "      <th>BMA</th>\n",
       "      <td>5</td>\n",
       "      <td>6</td>\n",
       "    </tr>\n",
       "    <tr>\n",
       "      <th>MeD</th>\n",
       "      <th>STIA</th>\n",
       "      <td>5</td>\n",
       "      <td>11</td>\n",
       "    </tr>\n",
       "  </tbody>\n",
       "</table>\n",
       "</div>"
      ],
      "text/plain": [
       "          affiliative  aversive\n",
       "CeA STIA            5        10\n",
       "AA  MeD            10        14\n",
       "EA  MeD             8        11\n",
       "BMA MePV            9         6\n",
       "CeA MeD             6        12\n",
       "BMA MeD            15         7\n",
       "AA  BMA             5         6\n",
       "MeD STIA            5        11"
      ]
     },
     "execution_count": 11,
     "metadata": {},
     "output_type": "execute_result"
    }
   ],
   "source": [
    "df_counts = pd.DataFrame.from_dict(dict_sum)\n",
    "df_counts"
   ]
  },
  {
   "cell_type": "markdown",
   "id": "2bda2273",
   "metadata": {},
   "source": [
    "## Extract means and std"
   ]
  },
  {
   "cell_type": "code",
   "execution_count": 34,
   "id": "33f79450",
   "metadata": {},
   "outputs": [],
   "source": [
    "def fix_file_paths(df_files):\n",
    "    \n",
    "    \n",
    "\n",
    "    df_files = df_files.rename(columns={df_files.columns[0]:'timestamps', df_files.columns[0]:'lfp', })\n",
    "    \n",
    "    return df_files\n",
    "    \n",
    "def extreact_vals(df, pair, df_file_paths, range_of_freq='First', call_num=0):\n",
    "\n",
    "    all_sheet_names = df.keys()\n",
    "    sheet_name = [n for n in all_sheet_names if range_of_freq in n and pair[0] in n][0]\n",
    "    vals = df[sheet_name][pair[1]].values\n",
    "    if len(vals)>0:\n",
    "        non_nan_vals = ~np.isnan(vals)\n",
    "        vals = vals[np.where(non_nan_vals)]\n",
    "        try:\n",
    "            filenames = df_file_paths.iloc[np.where(non_nan_vals)]\n",
    "        except:\n",
    "            print('Printing data of df files')\n",
    "            print(np.where(non_nan_vals))\n",
    "            print(df_file_paths['lfp'])\n",
    "            print(range_of_freq)\n",
    "            return \n",
    "\n",
    "\n",
    "    else:\n",
    "        vals = []\n",
    "        filenames = []\n",
    "\n",
    "    if len(vals)==0 and call_num==0:\n",
    "        vals, filenames = extreact_vals(df, (pair[1],pair[0]),df_file_paths, range_of_freq,call_num=1)\n",
    "        \n",
    "    return vals, filenames\n"
   ]
  },
  {
   "cell_type": "code",
   "execution_count": 18,
   "id": "b8eb6383",
   "metadata": {},
   "outputs": [],
   "source": [
    "df_file_paths_aff = fix_file_paths(df_files_aff)\n",
    "df_file_paths_avv = fix_file_paths(df_files_avv)\n",
    "\n",
    "# vals_aff, filenames_aff = extreact_vals(df=df_avv, df_file_paths=df_file_paths_aff, pair=('AA', 'BMA'), range_of_freq='First', call_num=0)"
   ]
  },
  {
   "cell_type": "code",
   "execution_count": 19,
   "id": "8cac20fb",
   "metadata": {},
   "outputs": [],
   "source": [
    "# df_file_paths_aff"
   ]
  },
  {
   "cell_type": "code",
   "execution_count": null,
   "id": "775cbe34",
   "metadata": {},
   "outputs": [],
   "source": []
  },
  {
   "cell_type": "code",
   "execution_count": 37,
   "id": "52e8d0f5",
   "metadata": {},
   "outputs": [],
   "source": [
    "\n",
    "# columns names: pair, sosicability, coherence, filenaem \n",
    "# first range - 4-12 Hz\n",
    "# second range - 30-80 Hz\n",
    "sociability = {'affiliative':df_file_paths_aff,'aversive':df_file_paths_avv}\n",
    "df_sociability = {'affiliative':df_aff,'aversive':df_avv}\n",
    "# sociability = {'affiliative':df_file_paths_aff}\n",
    "# df_sociability = {'affiliative':df_aff}\n",
    "\n",
    "\n",
    "frequency_bands = {'First':'4-12','Second':'30-80'}\n",
    "\n",
    "df_sum_list = []\n",
    "for pair in common_pairs:\n",
    "    for social in sociability.keys():\n",
    "        for freq in frequency_bands.keys():\n",
    "\n",
    "#             try:\n",
    "            vals, filenames = extreact_vals(\n",
    "                df=df_sociability[social],\n",
    "                pair=pair,\n",
    "                df_file_paths=sociability[social],\n",
    "                range_of_freq=freq,\n",
    "                call_num=0)\n",
    "    \n",
    "#             except:\n",
    "# #                 print(social)\n",
    "# #                 print(sociability[social])\n",
    "# #                 print(pair)\n",
    "# #                 print(df_sociability[social])\n",
    "# #                 print(social, pair, freq)                \n",
    "#                 break\n",
    "                \n",
    "            temp_dict ={'area1': pair[0],\n",
    "                        'area2': pair[1],\n",
    "                        'sociability': social, \n",
    "                        'frequency_band': frequency_bands[freq],\n",
    "                        'coherence': vals}\n",
    "            temp_df = pd.DataFrame.from_dict(temp_dict)\n",
    "#             temp_df.columns = temp_df.columns[::-1]\n",
    "            df_sum_list.append(temp_df)\n",
    "df_sum = pd.concat(df_sum_list)\n",
    "\n",
    "# df_sum_list= []\n",
    "# for pair in common_pairs:\n",
    "#     for social in sociability:\n",
    "#         for freq in frequency_bands.keys():\n",
    "            \n",
    "#             vals, filenames = extreact_vals(\n",
    "#                 df=df_sociability[social], df_file_paths=sociability[social], pair=pair, range_of_freq=freq, call_num=0)\n",
    "#             temp_dict ={pair: {'sociability': social, \n",
    "#                                'frequency_band': frequency_bands[freq],\n",
    "#                                'coherence': vals}}\n",
    "#             temp_df = pd.DataFrame.from_dict(temp_dict).transpose()\n",
    "# #             temp_df.columns = temp_df.columns[::-1]\n",
    "#             df_sum_list.append(temp_df)\n",
    "# df_sum2 = pd.concat(df_sum_list)\n",
    "# df_sum2 = df_sum2[df_sum2.columns[::-1]]\n",
    "# df_sum2['mean'] = df_sum2['coherence'].apply(lambda x: np.mean(x))\n",
    "# df_sum2['std'] = df_sum2['coherence'].apply(lambda x: np.std(x))\n",
    "# df_sum2 = df_sum2.reset_index()\n",
    "# df_sum2 = df_sum2.rename(columns={'level_0':'area1', 'level_1': 'area2'})\n",
    "# df_sum2.columns"
   ]
  },
  {
   "cell_type": "code",
   "execution_count": 38,
   "id": "9e7b52cd",
   "metadata": {},
   "outputs": [
    {
     "data": {
      "text/html": [
       "<div>\n",
       "<style scoped>\n",
       "    .dataframe tbody tr th:only-of-type {\n",
       "        vertical-align: middle;\n",
       "    }\n",
       "\n",
       "    .dataframe tbody tr th {\n",
       "        vertical-align: top;\n",
       "    }\n",
       "\n",
       "    .dataframe thead th {\n",
       "        text-align: right;\n",
       "    }\n",
       "</style>\n",
       "<table border=\"1\" class=\"dataframe\">\n",
       "  <thead>\n",
       "    <tr style=\"text-align: right;\">\n",
       "      <th></th>\n",
       "      <th>area1</th>\n",
       "      <th>area2</th>\n",
       "      <th>sociability</th>\n",
       "      <th>frequency_band</th>\n",
       "      <th>coherence</th>\n",
       "    </tr>\n",
       "  </thead>\n",
       "  <tbody>\n",
       "    <tr>\n",
       "      <th>0</th>\n",
       "      <td>CeA</td>\n",
       "      <td>STIA</td>\n",
       "      <td>affiliative</td>\n",
       "      <td>4-12</td>\n",
       "      <td>-0.073944</td>\n",
       "    </tr>\n",
       "    <tr>\n",
       "      <th>1</th>\n",
       "      <td>CeA</td>\n",
       "      <td>STIA</td>\n",
       "      <td>affiliative</td>\n",
       "      <td>4-12</td>\n",
       "      <td>-0.213755</td>\n",
       "    </tr>\n",
       "    <tr>\n",
       "      <th>2</th>\n",
       "      <td>CeA</td>\n",
       "      <td>STIA</td>\n",
       "      <td>affiliative</td>\n",
       "      <td>4-12</td>\n",
       "      <td>-0.039275</td>\n",
       "    </tr>\n",
       "    <tr>\n",
       "      <th>3</th>\n",
       "      <td>CeA</td>\n",
       "      <td>STIA</td>\n",
       "      <td>affiliative</td>\n",
       "      <td>4-12</td>\n",
       "      <td>-0.096277</td>\n",
       "    </tr>\n",
       "    <tr>\n",
       "      <th>4</th>\n",
       "      <td>CeA</td>\n",
       "      <td>STIA</td>\n",
       "      <td>affiliative</td>\n",
       "      <td>4-12</td>\n",
       "      <td>-0.030963</td>\n",
       "    </tr>\n",
       "    <tr>\n",
       "      <th>...</th>\n",
       "      <td>...</td>\n",
       "      <td>...</td>\n",
       "      <td>...</td>\n",
       "      <td>...</td>\n",
       "      <td>...</td>\n",
       "    </tr>\n",
       "    <tr>\n",
       "      <th>6</th>\n",
       "      <td>MeD</td>\n",
       "      <td>STIA</td>\n",
       "      <td>aversive</td>\n",
       "      <td>30-80</td>\n",
       "      <td>0.045031</td>\n",
       "    </tr>\n",
       "    <tr>\n",
       "      <th>7</th>\n",
       "      <td>MeD</td>\n",
       "      <td>STIA</td>\n",
       "      <td>aversive</td>\n",
       "      <td>30-80</td>\n",
       "      <td>0.004391</td>\n",
       "    </tr>\n",
       "    <tr>\n",
       "      <th>8</th>\n",
       "      <td>MeD</td>\n",
       "      <td>STIA</td>\n",
       "      <td>aversive</td>\n",
       "      <td>30-80</td>\n",
       "      <td>-0.006183</td>\n",
       "    </tr>\n",
       "    <tr>\n",
       "      <th>9</th>\n",
       "      <td>MeD</td>\n",
       "      <td>STIA</td>\n",
       "      <td>aversive</td>\n",
       "      <td>30-80</td>\n",
       "      <td>-0.038349</td>\n",
       "    </tr>\n",
       "    <tr>\n",
       "      <th>10</th>\n",
       "      <td>MeD</td>\n",
       "      <td>STIA</td>\n",
       "      <td>aversive</td>\n",
       "      <td>30-80</td>\n",
       "      <td>0.142975</td>\n",
       "    </tr>\n",
       "  </tbody>\n",
       "</table>\n",
       "<p>280 rows × 5 columns</p>\n",
       "</div>"
      ],
      "text/plain": [
       "   area1 area2  sociability frequency_band  coherence\n",
       "0    CeA  STIA  affiliative           4-12  -0.073944\n",
       "1    CeA  STIA  affiliative           4-12  -0.213755\n",
       "2    CeA  STIA  affiliative           4-12  -0.039275\n",
       "3    CeA  STIA  affiliative           4-12  -0.096277\n",
       "4    CeA  STIA  affiliative           4-12  -0.030963\n",
       "..   ...   ...          ...            ...        ...\n",
       "6    MeD  STIA     aversive          30-80   0.045031\n",
       "7    MeD  STIA     aversive          30-80   0.004391\n",
       "8    MeD  STIA     aversive          30-80  -0.006183\n",
       "9    MeD  STIA     aversive          30-80  -0.038349\n",
       "10   MeD  STIA     aversive          30-80   0.142975\n",
       "\n",
       "[280 rows x 5 columns]"
      ]
     },
     "execution_count": 38,
     "metadata": {},
     "output_type": "execute_result"
    }
   ],
   "source": [
    "df_sum"
   ]
  },
  {
   "cell_type": "code",
   "execution_count": 39,
   "id": "69c67635",
   "metadata": {},
   "outputs": [],
   "source": [
    "area_pairs = df_sum[['area1','area2']].values\n",
    "area_pairs = [(a,b) for a,b in area_pairs]\n",
    "df_sum['area_pairs'] = area_pairs"
   ]
  },
  {
   "cell_type": "code",
   "execution_count": 63,
   "id": "a1a7485a",
   "metadata": {},
   "outputs": [
    {
     "data": {
      "text/html": [
       "<div>\n",
       "<style scoped>\n",
       "    .dataframe tbody tr th:only-of-type {\n",
       "        vertical-align: middle;\n",
       "    }\n",
       "\n",
       "    .dataframe tbody tr th {\n",
       "        vertical-align: top;\n",
       "    }\n",
       "\n",
       "    .dataframe thead th {\n",
       "        text-align: right;\n",
       "    }\n",
       "</style>\n",
       "<table border=\"1\" class=\"dataframe\">\n",
       "  <thead>\n",
       "    <tr style=\"text-align: right;\">\n",
       "      <th></th>\n",
       "      <th></th>\n",
       "      <th>affiliative</th>\n",
       "      <th>aversive</th>\n",
       "    </tr>\n",
       "  </thead>\n",
       "  <tbody>\n",
       "    <tr>\n",
       "      <th>CeA</th>\n",
       "      <th>STIA</th>\n",
       "      <td>5</td>\n",
       "      <td>10</td>\n",
       "    </tr>\n",
       "    <tr>\n",
       "      <th>AA</th>\n",
       "      <th>MeD</th>\n",
       "      <td>10</td>\n",
       "      <td>14</td>\n",
       "    </tr>\n",
       "    <tr>\n",
       "      <th>EA</th>\n",
       "      <th>MeD</th>\n",
       "      <td>8</td>\n",
       "      <td>11</td>\n",
       "    </tr>\n",
       "    <tr>\n",
       "      <th>BMA</th>\n",
       "      <th>MePV</th>\n",
       "      <td>9</td>\n",
       "      <td>6</td>\n",
       "    </tr>\n",
       "    <tr>\n",
       "      <th>CeA</th>\n",
       "      <th>MeD</th>\n",
       "      <td>6</td>\n",
       "      <td>12</td>\n",
       "    </tr>\n",
       "    <tr>\n",
       "      <th>BMA</th>\n",
       "      <th>MeD</th>\n",
       "      <td>15</td>\n",
       "      <td>7</td>\n",
       "    </tr>\n",
       "    <tr>\n",
       "      <th>AA</th>\n",
       "      <th>BMA</th>\n",
       "      <td>5</td>\n",
       "      <td>6</td>\n",
       "    </tr>\n",
       "    <tr>\n",
       "      <th>MeD</th>\n",
       "      <th>STIA</th>\n",
       "      <td>5</td>\n",
       "      <td>11</td>\n",
       "    </tr>\n",
       "  </tbody>\n",
       "</table>\n",
       "</div>"
      ],
      "text/plain": [
       "          affiliative  aversive\n",
       "CeA STIA            5        10\n",
       "AA  MeD            10        14\n",
       "EA  MeD             8        11\n",
       "BMA MePV            9         6\n",
       "CeA MeD             6        12\n",
       "BMA MeD            15         7\n",
       "AA  BMA             5         6\n",
       "MeD STIA            5        11"
      ]
     },
     "execution_count": 63,
     "metadata": {},
     "output_type": "execute_result"
    },
    {
     "data": {
      "image/png": "[encoded data removed]",
      "text/plain": [
       "<Figure size 802.875x360 with 2 Axes>"
      ]
     },
     "metadata": {
      "needs_background": "light"
     },
     "output_type": "display_data"
    }
   ],
   "source": [
    "g = sns.catplot(data=df_sum, x='area_pairs', y='coherence', hue='sociability', kind='violin', col='frequency_band')\n",
    "g.set_xticklabels(rotation=30)\n",
    "df_counts"
   ]
  },
  {
   "cell_type": "code",
   "execution_count": 58,
   "id": "afb46113",
   "metadata": {},
   "outputs": [
    {
     "data": {
      "text/plain": [
       "<seaborn.axisgrid.FacetGrid at 0x1f3aa8fbd30>"
      ]
     },
     "execution_count": 58,
     "metadata": {},
     "output_type": "execute_result"
    },
    {
     "data": {
      "image/png": "[encoded data removed]",
      "text/plain": [
       "<Figure size 802.875x360 with 2 Axes>"
      ]
     },
     "metadata": {
      "needs_background": "light"
     },
     "output_type": "display_data"
    }
   ],
   "source": [
    "g = sns.catplot(data=df_sum, x='area_pairs', y='coherence', hue='sociability', kind='box', col='frequency_band')\n",
    "g.set_xticklabels(rotation=30)\n"
   ]
  },
  {
   "cell_type": "markdown",
   "id": "fe6afed5",
   "metadata": {},
   "source": [
    "## Statistical Analysis"
   ]
  },
  {
   "cell_type": "code",
   "execution_count": 62,
   "id": "2e287eb2",
   "metadata": {},
   "outputs": [],
   "source": [
    "df_sum.to_excel(osp.join(folder_path, 'coherence_summary_table.xlsx'))"
   ]
  },
  {
   "cell_type": "markdown",
   "id": "2369a551",
   "metadata": {},
   "source": []
  }
 ],
 "metadata": {
  "kernelspec": {
   "display_name": "Python 3",
   "language": "python",
   "name": "python3"
  },
  "language_info": {
   "codemirror_mode": {
    "name": "ipython",
    "version": 3
   },
   "file_extension": ".py",
   "mimetype": "text/x-python",
   "name": "python",
   "nbconvert_exporter": "python",
   "pygments_lexer": "ipython3",
   "version": "3.8.8"
  }
 },
 "nbformat": 4,
 "nbformat_minor": 5
}
