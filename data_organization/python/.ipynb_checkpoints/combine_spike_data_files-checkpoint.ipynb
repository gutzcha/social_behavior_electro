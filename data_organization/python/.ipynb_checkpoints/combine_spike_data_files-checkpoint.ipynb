{
 "cells": [
  {
   "cell_type": "code",
   "execution_count": 26,
   "id": "135eb5e8",
   "metadata": {},
   "outputs": [],
   "source": [
    "import pandas as pd\n",
    "import os \n",
    "import os.path as osp\n",
    "import glob"
   ]
  },
  {
   "cell_type": "code",
   "execution_count": 21,
   "id": "b4537a34",
   "metadata": {},
   "outputs": [
    {
     "data": {
      "text/plain": [
       "'D:\\\\Project- Electro\\\\social_behavior_electro\\\\data_organization\\\\python'"
      ]
     },
     "execution_count": 21,
     "metadata": {},
     "output_type": "execute_result"
    }
   ],
   "source": [
    "os.getcwd()"
   ]
  },
  {
   "cell_type": "code",
   "execution_count": 22,
   "id": "610b4e45",
   "metadata": {},
   "outputs": [
    {
     "data": {
      "text/plain": [
       "['..\\\\..\\\\analysis\\\\aversive\\\\population analysis results\\\\Population analysis results for LFP - Mean power_avv_111_2.xlsx',\n",
       " '..\\\\..\\\\analysis\\\\aversive\\\\population analysis results\\\\Population analysis results for LFP - Mean power_avv_12_15.xlsx',\n",
       " '..\\\\..\\\\analysis\\\\aversive\\\\population analysis results\\\\Population analysis results for LFP - Mean power_avv_13_112.xlsx',\n",
       " '..\\\\..\\\\analysis\\\\aversive\\\\population analysis results\\\\Population analysis results for LFP - Mean power_avv_14_16.xlsx']"
      ]
     },
     "execution_count": 22,
     "metadata": {},
     "output_type": "execute_result"
    }
   ],
   "source": [
    "# folder_name = 'D://Project- Electro//social_behavior_electro//analysis//affiliative//population analysis results'\n",
    "# sociability = 'affiliative'\n",
    "sociability = 'aversive'\n",
    "\n",
    "folder_name = osp.join('..','..','analysis',sociability,'population analysis results')\n",
    "df_dict_list = glob.glob(osp.join(folder_name, 'Population analysis results for LFP - Mean power*'))\n",
    "df_dict_list"
   ]
  },
  {
   "cell_type": "code",
   "execution_count": 23,
   "id": "ca4c3846",
   "metadata": {},
   "outputs": [],
   "source": [
    "def fix_file_paths(df_files):\n",
    "    \n",
    "    df_files = df_files.rename(columns={df_files.columns[0]:'timestamps', df_files.columns[0]:'filename', })\n",
    "    \n",
    "    return df_files\n"
   ]
  },
  {
   "cell_type": "code",
   "execution_count": null,
   "id": "660e1e66",
   "metadata": {},
   "outputs": [],
   "source": []
  },
  {
   "cell_type": "code",
   "execution_count": 24,
   "id": "0c4a3a23",
   "metadata": {},
   "outputs": [
    {
     "ename": "TypeError",
     "evalue": "list indices must be integers or slices, not str",
     "output_type": "error",
     "traceback": [
      "\u001b[1;31m---------------------------------------------------------------------------\u001b[0m",
      "\u001b[1;31mTypeError\u001b[0m                                 Traceback (most recent call last)",
      "\u001b[1;32m<ipython-input-24-4ea0a0af1e1b>\u001b[0m in \u001b[0;36m<module>\u001b[1;34m\u001b[0m\n\u001b[0;32m      1\u001b[0m \u001b[1;31m# Get number of session per group\u001b[0m\u001b[1;33m\u001b[0m\u001b[1;33m\u001b[0m\u001b[1;33m\u001b[0m\u001b[0m\n\u001b[0;32m      2\u001b[0m \u001b[0msheet_name\u001b[0m \u001b[1;33m=\u001b[0m \u001b[1;34m'Uploaded files'\u001b[0m\u001b[1;33m\u001b[0m\u001b[1;33m\u001b[0m\u001b[0m\n\u001b[1;32m----> 3\u001b[1;33m \u001b[0mdf_files\u001b[0m \u001b[1;33m=\u001b[0m \u001b[0mfix_file_paths\u001b[0m\u001b[1;33m(\u001b[0m\u001b[0mdf_dict_list\u001b[0m\u001b[1;33m[\u001b[0m\u001b[0msheet_name\u001b[0m\u001b[1;33m]\u001b[0m\u001b[1;33m)\u001b[0m\u001b[1;33m\u001b[0m\u001b[1;33m\u001b[0m\u001b[0m\n\u001b[0m\u001b[0;32m      4\u001b[0m \u001b[0mmax_len\u001b[0m \u001b[1;33m=\u001b[0m \u001b[0mlen\u001b[0m\u001b[1;33m(\u001b[0m\u001b[0mdf_files\u001b[0m\u001b[1;33m)\u001b[0m\u001b[1;33m\u001b[0m\u001b[1;33m\u001b[0m\u001b[0m\n",
      "\u001b[1;31mTypeError\u001b[0m: list indices must be integers or slices, not str"
     ]
    }
   ],
   "source": [
    "# Get number of session per group\n",
    "sheet_name = 'Uploaded files'\n",
    "df_files = fix_file_paths(df_dict_list[sheet_name])\n",
    "max_len = len(df_files)"
   ]
  },
  {
   "cell_type": "code",
   "execution_count": null,
   "id": "be354f6d",
   "metadata": {},
   "outputs": [],
   "source": [
    "substrings_to_remove = ['Mean','Before','After', 'During','First', 'Second', 'Area']\n",
    "\n",
    "df_all_list = []\n",
    "for df_name in df_dict_list:\n",
    "    df_dict = pd.read_excel(df_name, None)\n",
    "    \n",
    "    file_sheet_name = 'Uploaded files'\n",
    "    filenames = fix_file_paths(df_dict[sheet_name])\n",
    "    filenames = filenames. iloc[:,0]\n",
    "    max_len = len(filenames)\n",
    "    \n",
    "    \n",
    "\n",
    "    for sheet, df in df_dict.items():\n",
    "#         if len(df.columns) > 1:\n",
    "#             continue\n",
    "        if \"All\" in sheet:\n",
    "            continue\n",
    "            \n",
    "        if \"Uploaded\" in sheet:\n",
    "            continue\n",
    "        \n",
    "        \n",
    "        df_temp = pd.DataFrame()\n",
    "        area_name = sheet\n",
    "        for sub_string_to_remove in substrings_to_remove:\n",
    "            area_name = area_name.replace(sub_string_to_remove,'')\n",
    "        area_name = str(area_name)\n",
    "\n",
    "        vals = df.iloc[:max_len]\n",
    "        \n",
    "        if \"Before\" in sheet:\n",
    "            stage = \"1_Before\"\n",
    "        elif \"During\" in sheet:\n",
    "            stage = \"2_During\"\n",
    "        elif \"After\" in sheet:\n",
    "            stage = \"3_After\"\n",
    "        else:\n",
    "            print(sheet)\n",
    "            raise\n",
    "            \n",
    "        if \"First\" in sheet:\n",
    "            freq = '4-12'\n",
    "        elif \"Second\" in sheet:\n",
    "            freq = \"30-80\"\n",
    "        else:\n",
    "            raise\n",
    "        \n",
    "        df_temp['values'] = vals\n",
    "        df_temp['area'] = area_name\n",
    "        df_temp['stage'] = stage\n",
    "        df_temp['freq'] = freq\n",
    "        df_temp['filenames'] = filenames\n",
    "        \n",
    "        df_all_list.append(df_temp)\n",
    "df_all = pd.concat(df_all_list)          "
   ]
  },
  {
   "cell_type": "code",
   "execution_count": null,
   "id": "6f264fd1",
   "metadata": {},
   "outputs": [],
   "source": [
    "df = df_all.copy()\n",
    "# Create a pivot table to unstack 'freq' and 'stage' columns\n",
    "pivot_df = pd.pivot_table(df, values='values', index=['filenames'], columns=['area','freq','stage'])\n",
    "\n",
    "# Reset the index to flatten the columns\n",
    "pivot_df = pivot_df.reset_index()\n",
    "pivot_df = pivot_df.set_index(('filenames',\"\",\"\"))\n",
    "pivot_df = pivot_df.rename_axis(index = {('filenames',\"\",\"\"):'filenames'})"
   ]
  },
  {
   "cell_type": "code",
   "execution_count": null,
   "id": "08e62d7f",
   "metadata": {},
   "outputs": [],
   "source": [
    "pivot_df\n"
   ]
  },
  {
   "cell_type": "code",
   "execution_count": null,
   "id": "51e0f657",
   "metadata": {},
   "outputs": [],
   "source": []
  },
  {
   "cell_type": "code",
   "execution_count": null,
   "id": "d73a532c",
   "metadata": {},
   "outputs": [],
   "source": [
    "# Function to calculate the differences and add columns\n",
    "def add_difference_columns(df):\n",
    "    areas = df.columns.get_level_values('area').unique()\n",
    "    freqs = df.columns.get_level_values('freq').unique()\n",
    "\n",
    "    for area in areas:\n",
    "        for freq in freqs:\n",
    "            \n",
    "            before_col = (area, freq, '1_Before')\n",
    "            during_col = (area, freq, '2_During')\n",
    "            after_col = (area, freq, '3_After')\n",
    "            \n",
    "            diff_during_before = df[during_col] - df[before_col]\n",
    "            diff_after_before = df[after_col] - df[before_col]\n",
    "\n",
    "            diff_col_name_during_before = (area,freq,'4_DiffDuringBefore')\n",
    "            diff_col_name_after_before =  (area,freq,'5_DiffAfterBefore')\n",
    "\n",
    "            df[diff_col_name_during_before] = diff_during_before\n",
    "            df[diff_col_name_after_before] = diff_after_before\n",
    "\n",
    "    return df\n",
    "\n",
    "# Call the function to add difference columns\n",
    "df_with_diff = add_difference_columns(pivot_df)\n"
   ]
  },
  {
   "cell_type": "code",
   "execution_count": null,
   "id": "71237627",
   "metadata": {},
   "outputs": [],
   "source": []
  },
  {
   "cell_type": "code",
   "execution_count": null,
   "id": "2f3f8a3f",
   "metadata": {},
   "outputs": [],
   "source": [
    "def sort_columns(df):\n",
    "    # Sort the columns based on the specified rule\n",
    "    sorted_columns = sorted(df.columns, key=lambda col: (col[0], col[1], col[2]))\n",
    "\n",
    "    # Reindex the DataFrame with the sorted columns\n",
    "    sorted_df = df.reindex(columns=sorted_columns)\n",
    "\n",
    "    return sorted_df\n",
    "\n",
    "\n",
    "df_with_diff_sorted = sort_columns(df_with_diff)\n",
    "df_with_diff_sorted.columns"
   ]
  },
  {
   "cell_type": "code",
   "execution_count": null,
   "id": "f1722f6b",
   "metadata": {},
   "outputs": [],
   "source": [
    "areas = df_with_diff_sorted.columns.get_level_values('area').unique()\n",
    "areas"
   ]
  },
  {
   "cell_type": "code",
   "execution_count": 25,
   "id": "38e31c80",
   "metadata": {},
   "outputs": [],
   "source": [
    "# save files\n",
    "df_with_diff_sorted.to_excel(osp.join(folder_name,f'lfp_rawdata_{sociability}.xlsx'))"
   ]
  },
  {
   "cell_type": "code",
   "execution_count": null,
   "id": "33e747b9",
   "metadata": {},
   "outputs": [],
   "source": []
  }
 ],
 "metadata": {
  "kernelspec": {
   "display_name": "Python 3",
   "language": "python",
   "name": "python3"
  },
  "language_info": {
   "codemirror_mode": {
    "name": "ipython",
    "version": 3
   },
   "file_extension": ".py",
   "mimetype": "text/x-python",
   "name": "python",
   "nbconvert_exporter": "python",
   "pygments_lexer": "ipython3",
   "version": "3.8.8"
  }
 },
 "nbformat": 4,
 "nbformat_minor": 5
}
