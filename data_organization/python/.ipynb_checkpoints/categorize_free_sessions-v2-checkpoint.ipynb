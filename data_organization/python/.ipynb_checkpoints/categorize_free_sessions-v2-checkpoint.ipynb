{
 "cells": [
  {
   "cell_type": "code",
   "execution_count": null,
   "id": "662958b4",
   "metadata": {},
   "outputs": [],
   "source": [
    "import os\n",
    "import pandas as pd\n",
    "import os.path as osp\n",
    "import numpy as np\n",
    "import seaborn as sns\n",
    "import matplotlib.pyplot as plt"
   ]
  },
  {
   "cell_type": "code",
   "execution_count": null,
   "id": "5f00341b",
   "metadata": {},
   "outputs": [],
   "source": [
    "from sklearn.preprocessing import StandardScaler\n",
    "from sklearn.manifold import TSNE\n",
    "from sklearn.cluster import DBSCAN\n",
    "from sklearn import metrics"
   ]
  },
  {
   "cell_type": "code",
   "execution_count": null,
   "id": "d0363389",
   "metadata": {},
   "outputs": [],
   "source": [
    "filename = 'Population analysis results for video analysis of free interaction.xlsx'\n",
    "filepath = folder_path = osp.join('..','..','analysis')\n",
    "full_file_name = osp.join(filepath,'free', filename)\n",
    "df_dict = pd.read_excel(full_file_name,None)\n"
   ]
  },
  {
   "cell_type": "code",
   "execution_count": null,
   "id": "1e139702",
   "metadata": {},
   "outputs": [],
   "source": [
    "folder_path = osp.join('..','..','analysis')\n",
    "path_to_free_enc_pre = osp.join(folder_path,\n",
    "                            'Population analysis results for LFP Coherence - Encounter-PreEncounter_4-12_30-80_free.xlsx')\n",
    "\n",
    "path_to_free_post_pre = osp.join(folder_path,\n",
    "                            'Population analysis results for LFP Coherence - PostEncounter-PreEncounter_free_4-12_30-80_free.xlsx')\n",
    "\n",
    "path_to_free_lfp = osp.join(folder_path,\n",
    "                            'lfp_rawdata_free.xlsx') "
   ]
  },
  {
   "cell_type": "code",
   "execution_count": 5,
   "id": "fb2feac6",
   "metadata": {},
   "outputs": [],
   "source": [
    "df_free_lfp_raw = pd.read_excel(path_to_free_lfp ,header=[0,1,2], index_col=[0])\n",
    "df_free_enc_pre = pd.read_excel(path_to_free_enc_pre,None)\n",
    "df_free_post_pre = pd.read_excel(path_to_free_post_pre,None)\n"
   ]
  },
  {
   "cell_type": "code",
   "execution_count": 6,
   "id": "f54eb4e4",
   "metadata": {},
   "outputs": [],
   "source": [
    "import re\n",
    "\n",
    "def fix_file_paths(df_files):\n",
    "    \n",
    "    df_files = df_files.rename(columns={df_files.columns[1]:'timestamps', df_files.columns[0]:'lfp', })\n",
    "    \n",
    "    return df_files\n",
    "\n",
    "\n",
    "\n",
    "def extract_ratnum_from_file_name(filename):\n",
    "    filename = filename.replace(' ','')\n",
    "    match = re.search(r\"rat(\\d{1,2})\", filename.lower())\n",
    "\n",
    "    if match:\n",
    "        number = int(match.group(1))       \n",
    "    else:\n",
    "        number = -1\n",
    "    return number\n",
    "\n",
    "def extract_daynum_from_file_name(filename):\n",
    "    filename = filename.replace(' ','')\n",
    "    match = re.search(r\"day(\\d{1,2})\", filename.lower())\n",
    "    if match:\n",
    "        number = int(match.group(1))       \n",
    "    else:\n",
    "        number = -1\n",
    "    return number\n",
    "# rat_numbers = [extract_ratnum_from_file_name(filename) for filename in filenames]\n",
    "\n",
    "area_num_to_name_map = {\n",
    "    '111': 'MeD',\n",
    "    '2': 'MePV',\n",
    "    '13':'CeA',\n",
    "    '112': 'BMA',\n",
    "    '14': 'AA',\n",
    "    '16': 'EA',\n",
    "    '12': 'STIA',\n",
    "    '15': 'VP'\n",
    "}\n",
    "\n",
    "\n",
    "\n",
    "def reformat_columns(df):\n",
    "    # combine column names and remove levels\n",
    "    df_new = pd.DataFrame()\n",
    "    areas = df.columns.get_level_values('area').unique()\n",
    "    freqs = df.columns.get_level_values('freq').unique()\n",
    "    stages = df.columns.get_level_values('stage').unique()\n",
    "\n",
    "    df_new.index = df.index\n",
    "    for area in areas:\n",
    "        for freq in freqs:\n",
    "            for stage in stages:\n",
    "\n",
    "                col_name = (area, freq, stage)\n",
    "                \n",
    "                area_name = area_num_to_name_map[area]\n",
    "                if \"diffduring\" in stage.lower():\n",
    "                    new_stage = 'enc_pre_lfp'\n",
    "                elif\"diffafter\" in stage.lower():\n",
    "                    new_stage = 'post_pre_lfp'\n",
    "                else:\n",
    "                    continue\n",
    "                \n",
    "                new_freq = freq.replace('-','_') + 'Hz'\n",
    "                \n",
    "                \n",
    "                new_col_name = '_'.join((area_name, new_freq, new_stage))\n",
    "\n",
    "                df_new[new_col_name] = df[col_name]\n",
    "    return df_new\n",
    "\n",
    "\n",
    "SPIKE_DATA_TYPE_SRC = 'diff'\n",
    "SPIKE_DATA_TYPE_TARGET = 'spike_diff'\n",
    "\n",
    "# SPIKE_DATA_TYPE_SRC = 'ratio'\n",
    "# SPIKE_DATA_TYPE_TARGET = 'spike_ratio'\n",
    "\n",
    "# SPIKE_DATA_TYPE_SRC = 'spikes_'\n",
    "# SPIKE_DATA_TYPE_TARGET = 'spike_raw'\n",
    "\n",
    "def reformat_columns_spikes(df):\n",
    "    # combine column names and remove levels\n",
    "    df_new = pd.DataFrame()\n",
    "    areas = df.columns.get_level_values('area').unique()\n",
    "    stages = df.columns.get_level_values('stage').unique()\n",
    "\n",
    "    df_new.index = df.index\n",
    "    add_pre_sufix = 'ratio' in SPIKE_DATA_TYPE_TARGET or 'diff' in SPIKE_DATA_TYPE_TARGET\n",
    "    suffix = 'pre_' if add_pre_sufix else ''\n",
    "    for area in areas:\n",
    "        for stage in stages:\n",
    "\n",
    "            col_name = (area, stage)\n",
    "\n",
    "            area_name = area_num_to_name_map[area]\n",
    "            if SPIKE_DATA_TYPE_SRC+\"during\" in stage.lower():\n",
    "                new_stage = 'enc_'+suffix+ SPIKE_DATA_TYPE_TARGET\n",
    "            elif SPIKE_DATA_TYPE_SRC+\"after\" in stage.lower():\n",
    "                new_stage = 'post_'+suffix+ SPIKE_DATA_TYPE_TARGET\n",
    "            elif SPIKE_DATA_TYPE_SRC+\"before\" in stage.lower():\n",
    "                new_stage = 'pre_'+ SPIKE_DATA_TYPE_TARGET\n",
    "            else:\n",
    "                continue\n",
    "\n",
    "            \n",
    "\n",
    "            new_col_name = '_'.join((area_name, new_stage))\n",
    "\n",
    "            df_new[new_col_name] = df[col_name]\n",
    "    return df_new\n",
    "\n",
    "def reformat_columns_spikes_v2(df):\n",
    "    # combine column names and remove levels\n",
    "    df_new = pd.DataFrame()\n",
    "    areas = df.columns.get_level_values('area').unique()\n",
    "    stages = df.columns.get_level_values('stage').unique()\n",
    "\n",
    "    df_new.index = df.index\n",
    "    add_pre_sufix = 'ratio' in SPIKE_DATA_TYPE_TARGET or 'diff' in SPIKE_DATA_TYPE_TARGET\n",
    "    suffix = 'enc' if add_pre_sufix else ''\n",
    "    for area in areas:\n",
    "        for stage in stages:\n",
    "\n",
    "            col_name = (area, stage)\n",
    "\n",
    "            area_name = area_num_to_name_map[area]\n",
    "            if SPIKE_DATA_TYPE_SRC+\"during\" in stage.lower():\n",
    "                during_data = df[col_name].dropna().values\n",
    "            elif SPIKE_DATA_TYPE_SRC+\"after\" in stage.lower():\n",
    "                after_data = df[col_name].dropna().values\n",
    "            elif SPIKE_DATA_TYPE_SRC+\"before\" in stage.lower():\n",
    "                before_data = df[col_name].dropna().values\n",
    "            else:\n",
    "                continue\n",
    "\n",
    "            \n",
    "        # create new column with calculation\n",
    "        log_during_change = np.log(during_data) - np.log(before_data)\n",
    "        \n",
    "        \n",
    "        new_stage = 'enc_pre_log_'+ SPIKE_DATA_TYPE_TARGET\n",
    "        new_col_name = '_'.join((area_name, new_stage))\n",
    "        df_new[new_col_name] = df[col_name]\n",
    "        \n",
    "        log_after_change = np.log(after_data) - np.log(before_data)\n",
    "        new_stage = 'post_pre_log'+ SPIKE_DATA_TYPE_TARGET\n",
    "        df_new[new_col_name] = df[col_name]\n",
    "    return df_new\n",
    "freq_keywords = {'First': '4_18Hz', 'Second':'30_80Hz'}\n",
    "stage_keywords = {'During':'enc_pre', 'After':'post_pre'}\n",
    "substrings_to_remove = ['During', 'After','Before', 'First', 'Second']\n",
    "ignore_keyworks = ['Norm', 'files']\n",
    "\n",
    "def remove_columns_with_fewer_values(df, N=5):\n",
    "    # Get the count of non-null values in each column\n",
    "    column_counts = df.count()\n",
    "\n",
    "    # Filter columns based on count condition\n",
    "    columns_to_remove = column_counts[column_counts < N].index\n",
    "\n",
    "    # Drop the columns from the DataFrame\n",
    "    updated_df = df.drop(columns=columns_to_remove)\n",
    "\n",
    "    return updated_df\n",
    "\n",
    "def reformat_dict_to_table(df_dict, file_df):\n",
    "# def reformat_dict_to_table(df_dict, freq_keywords, stage_keywords, ignore_keyworks, substrings_to_remove):\n",
    "    ret_df_list = []\n",
    "    for sheet, df in df_dict.items():\n",
    "        df = df.copy()\n",
    "        # ignore first and last sheets that contain a summary and list of file names\n",
    "        if any(substring in sheet for substring in ignore_keyworks): \n",
    "            continue\n",
    "            \n",
    "        if isinstance(df, str):\n",
    "            print(df)\n",
    "            continue\n",
    "            \n",
    "        if len(df) == 0:\n",
    "            continue\n",
    "        \n",
    "         # Remove all substrings to keep just the area name\n",
    "        area_name = sheet\n",
    "        for sub_string_to_remove in substrings_to_remove:\n",
    "            area_name = area_name.replace(sub_string_to_remove,'')\n",
    "        \n",
    "        for fk, freq in  freq_keywords.items():\n",
    "            if fk in sheet:\n",
    "                this_freq = freq_keywords[fk]\n",
    "            for sk in stage_keywords.keys():\n",
    "                if sk in sheet:\n",
    "                    this_stage = stage_keywords[sk]\n",
    "        \n",
    "                # Rename all column names to match\n",
    "        \n",
    "        for col in df.columns:\n",
    "            area_pair = [col, area_name]\n",
    "            area_pair.sort()\n",
    "            \n",
    "            df.rename(columns={col:f'{area_pair[0]}_{area_pair[1]}_{this_freq}_{this_stage}'}, inplace=True)\n",
    "        \n",
    "        \n",
    "        df.dropna(axis=1, how='all', inplace=True)\n",
    "        df = remove_columns_with_fewer_values(df)\n",
    "        ret_df_list.append(df)\n",
    "        \n",
    "    df_ret = pd.concat(ret_df_list,axis=1)\n",
    "    df_ret['files'] = file_df.values\n",
    "    return df_ret\n",
    "                \n",
    "            \n",
    "\n",
    "\n",
    "# Fix column names\n",
    "# change 4-12 to 4-18\n",
    "def fix_range_name(s):\n",
    "    return s.replace('4_18','4_12')\n",
    "# if lfp is in the name, put it at the beggining\n",
    "# if spike_ratio is in the name, put it at the beginning\n",
    "def move_suffix_to_apx(s, sfx):\n",
    "    if sfx in s:\n",
    "        s = s.replace('_'+sfx, '')\n",
    "        s = sfx+'_'+s\n",
    "    return s\n",
    "\n",
    "# if there is not lfp or skipe ration in the name, add coherence at the befinning\n",
    "def add_cohherence(s):\n",
    "    if 'lfp' not in s and 'spike' not in s and ('enc' in s or 'post' in s):\n",
    "        s = 'coherence_' + s\n",
    "    return s\n",
    "\n",
    "# add number to catergorical variables to ensure that they are first\n",
    "def add_number(s):\n",
    "    if 'sociability' in s:\n",
    "        s = '0_' + s\n",
    "        \n",
    "    elif 'rat_number' in s:\n",
    "        s = '1_' + s\n",
    "        \n",
    "    elif 'day_number' in s:\n",
    "        s = '2_' + s\n",
    "    return s\n",
    "\n",
    "def add_all_fix_functions(s):\n",
    "    s = fix_range_name(s)\n",
    "    s = move_suffix_to_apx(s, 'lfp')\n",
    "    s = move_suffix_to_apx(s, SPIKE_DATA_TYPE_TARGET)\n",
    "    s = add_cohherence(s)\n",
    "#     s = add_number(s)\n",
    "    return s\n",
    "\n"
   ]
  },
  {
   "cell_type": "code",
   "execution_count": 7,
   "id": "9e00fabe",
   "metadata": {},
   "outputs": [],
   "source": [
    "df_free_lfp = reformat_columns(df_free_lfp_raw)\n",
    "df_files_free_bad = pd.read_excel(full_file_name,'Uploaded files', header=None)\n",
    "df_files_free = fix_file_paths(df_files_free_bad)['lfp']\n",
    "\n",
    "\n"
   ]
  },
  {
   "cell_type": "code",
   "execution_count": null,
   "id": "1c17c4d4",
   "metadata": {},
   "outputs": [],
   "source": []
  },
  {
   "cell_type": "code",
   "execution_count": 8,
   "id": "e7e58e0a",
   "metadata": {},
   "outputs": [],
   "source": [
    "df_free_enc_pre_rectified = reformat_dict_to_table(df_free_enc_pre, df_files_free)\n",
    "df_free_enc_post_rectified = reformat_dict_to_table(df_free_post_pre, df_files_free)\n",
    "df_free = pd.concat([\n",
    "    df_free_enc_pre_rectified.set_index('files'),\n",
    "    df_free_enc_post_rectified.set_index('files'),\n",
    "    df_free_lfp,\n",
    "],\n",
    "    axis=1)\n",
    "\n",
    "\n",
    "df_free['sociability'] = 'free'\n",
    "\n",
    "all_df = df_free\n",
    "filenames = all_df.index.to_list()\n",
    "all_df['rat_number'] = pd.Categorical([extract_ratnum_from_file_name(r) for r in filenames])\n",
    "all_df['day_number'] = pd.Categorical([extract_daynum_from_file_name(r) for r in filenames])\n",
    "\n",
    "all_df.rename(columns={c:add_all_fix_functions(c) for c in all_df.columns} , inplace=True)\n",
    "all_df = all_df.reindex(sorted(all_df.columns), axis=1)"
   ]
  },
  {
   "cell_type": "code",
   "execution_count": 9,
   "id": "df83ee45",
   "metadata": {},
   "outputs": [],
   "source": [
    "df_interactions = df_dict['ShortVsLongInteractions']\n",
    "df_intervals = df_dict['ShortVsLongIntervals']\n",
    "df_interactions_along_time = df_dict['InteractionAlongTime1SecBin']"
   ]
  },
  {
   "cell_type": "code",
   "execution_count": 10,
   "id": "83fae9b7",
   "metadata": {},
   "outputs": [],
   "source": [
    "df_comb = pd.concat([df_interactions,df_intervals], axis=1)\n",
    "# sns.pairplot(df_comb)"
   ]
  },
  {
   "cell_type": "code",
   "execution_count": 333,
   "id": "bf1d815b",
   "metadata": {},
   "outputs": [],
   "source": [
    "data_interactions = df_interactions.iloc[:,:3].values\n",
    "data_intervals = df_intervals.iloc[:,:3].values\n",
    "\n",
    "# data_interactions = df_interactions\n",
    "# data_intervals = df_intervals\n",
    "\n",
    "\n",
    "X_behavior = np.concatenate([data_interactions,data_intervals],axis=1)\n",
    "# X = data_interactions"
   ]
  },
  {
   "cell_type": "code",
   "execution_count": 341,
   "id": "84d746cd",
   "metadata": {},
   "outputs": [],
   "source": [
    "scaler = StandardScaler()\n",
    "X_behavior_scaled = scaler.fit_transform(X_behavior)"
   ]
  },
  {
   "cell_type": "code",
   "execution_count": 342,
   "id": "c8351ff5",
   "metadata": {},
   "outputs": [],
   "source": [
    "X_behavior_embedded = TSNE(n_components=2, learning_rate='auto',\n",
    "                  init='random', perplexity=3).fit_transform(X_behavior_scaled)"
   ]
  },
  {
   "cell_type": "code",
   "execution_count": 343,
   "id": "dcb42149",
   "metadata": {},
   "outputs": [],
   "source": [
    "df_sum = pd.DataFrame()\n",
    "df_sum['sessions'] = df_files_free\n",
    "df_sum[['tsne1','tsne2']] = X_behavior_embedded"
   ]
  },
  {
   "cell_type": "code",
   "execution_count": 344,
   "id": "e7a86ccd",
   "metadata": {},
   "outputs": [
    {
     "data": {
      "text/plain": [
       "<Axes: xlabel='tsne1', ylabel='tsne2'>"
      ]
     },
     "execution_count": 344,
     "metadata": {},
     "output_type": "execute_result"
    },
    {
     "data": {
      "image/png": "[encoded data removed]",
      "text/plain": [
       "<Figure size 640x480 with 1 Axes>"
      ]
     },
     "metadata": {},
     "output_type": "display_data"
    }
   ],
   "source": [
    "sns.scatterplot(data=df_sum, x='tsne1', y='tsne2')"
   ]
  },
  {
   "cell_type": "code",
   "execution_count": 345,
   "id": "5bddb27b",
   "metadata": {},
   "outputs": [
    {
     "name": "stdout",
     "output_type": "stream",
     "text": [
      "Estimated number of clusters: 2\n",
      "Estimated number of noise points: 2\n"
     ]
    }
   ],
   "source": [
    "\n",
    "\n",
    "db = DBSCAN(eps=2, min_samples=2).fit(X_behavior_scaled)\n",
    "labels = db.labels_\n",
    "\n",
    "# Number of clusters in labels, ignoring noise if present.\n",
    "n_clusters_ = len(set(labels)) - (1 if -1 in labels else 0)\n",
    "n_noise_ = list(labels).count(-1)\n",
    "\n",
    "print(\"Estimated number of clusters: %d\" % n_clusters_)\n",
    "print(\"Estimated number of noise points: %d\" % n_noise_)"
   ]
  },
  {
   "cell_type": "code",
   "execution_count": 346,
   "id": "dd8b9c54",
   "metadata": {},
   "outputs": [],
   "source": [
    "df_sum['dbscan'] = db.fit_predict(X_behavior_scaled)\n"
   ]
  },
  {
   "cell_type": "code",
   "execution_count": 347,
   "id": "e2065135",
   "metadata": {},
   "outputs": [],
   "source": [
    "# sns.scatterplot(data=df_sum, x='tsne1', y='tsne2', hue='dbscan')"
   ]
  },
  {
   "cell_type": "code",
   "execution_count": 348,
   "id": "d5bbab3d",
   "metadata": {},
   "outputs": [
    {
     "name": "stdout",
     "output_type": "stream",
     "text": [
      "__________________________________________________________________________________\n",
      "init\t\ttime\tinertia\thomo\tcompl\tv-meas\tARI\tAMI\tsilhouette\n",
      "__________________________________________________________________________________\n"
     ]
    },
    {
     "name": "stderr",
     "output_type": "stream",
     "text": [
      "C:\\Users\\user\\anaconda3\\lib\\site-packages\\sklearn\\cluster\\_kmeans.py:1382: UserWarning: KMeans is known to have a memory leak on Windows with MKL, when there are less chunks than available threads. You can avoid it by setting the environment variable OMP_NUM_THREADS=1.\n",
      "  warnings.warn(\n",
      "C:\\Users\\user\\anaconda3\\lib\\site-packages\\sklearn\\cluster\\_kmeans.py:1382: UserWarning: KMeans is known to have a memory leak on Windows with MKL, when there are less chunks than available threads. You can avoid it by setting the environment variable OMP_NUM_THREADS=1.\n",
      "  warnings.warn(\n"
     ]
    }
   ],
   "source": [
    "from sklearn.cluster import KMeans\n",
    "from sklearn.decomposition import PCA\n",
    "print(82 * \"_\")\n",
    "print(\"init\\t\\ttime\\tinertia\\thomo\\tcompl\\tv-meas\\tARI\\tAMI\\tsilhouette\")\n",
    "n_components = 2\n",
    "# kmeans = KMeans(init=\"k-means++\", n_clusters=2, n_init=4, random_state=0)\n",
    "# bench_k_means(kmeans=kmeans, name=\"k-means++\", data=data, labels=labels)\n",
    "\n",
    "# kmeans = KMeans(init=\"random\", n_clusters=2, n_init=2)\n",
    "# bench_k_means(kmeans=kmeans, name=\"random\", data=data)\n",
    "\n",
    "pca = PCA(n_components=n_components).fit(X_behavior_scaled)\n",
    "kmeans = KMeans(init=pca.components_, n_clusters=n_components, n_init=1)\n",
    "# bench_k_means(kmeans=kmeans, name=\"PCA-based\", data=data, labels=labels)\n",
    "df_sum['kmean_labels'] = kmeans.fit_predict(X_behavior_scaled)\n",
    "\n",
    "kmeans = KMeans(init=\"random\", n_clusters=n_components, n_init=1)\n",
    "# bench_k_means(kmeans=kmeans, name=\"PCA-based\", data=data, labels=labels)\n",
    "df_sum['kmean_labels_tsne'] = kmeans.fit_predict(X_behavior_embedded)\n",
    "print(82 * \"_\")"
   ]
  },
  {
   "cell_type": "code",
   "execution_count": 349,
   "id": "723db686",
   "metadata": {},
   "outputs": [],
   "source": [
    "pca_comp = pca.fit_transform(X_behavior_scaled)\n",
    "df_sum[['pca1','pca2']] = pca_comp"
   ]
  },
  {
   "cell_type": "code",
   "execution_count": 350,
   "id": "325219bc",
   "metadata": {},
   "outputs": [
    {
     "data": {
      "text/plain": [
       "<Axes: xlabel='umap1', ylabel='umap2'>"
      ]
     },
     "execution_count": 350,
     "metadata": {},
     "output_type": "execute_result"
    },
    {
     "data": {
      "image/png": "[encoded data removed]",
      "text/plain": [
       "<Figure size 640x480 with 1 Axes>"
      ]
     },
     "metadata": {},
     "output_type": "display_data"
    }
   ],
   "source": [
    "from umap import UMAP\n",
    "reducer = UMAP()\n",
    "X_umap = reducer.fit_transform(X_behavior_scaled)\n",
    "df_sum[['umap1','umap2']] = X_umap\n",
    "sns.scatterplot(data=df_sum, x='umap1', y='umap2', hue='kmean_labels')"
   ]
  },
  {
   "cell_type": "code",
   "execution_count": 351,
   "id": "757ed39b",
   "metadata": {},
   "outputs": [
    {
     "data": {
      "text/plain": [
       "<Axes: xlabel='tsne1', ylabel='tsne2'>"
      ]
     },
     "execution_count": 351,
     "metadata": {},
     "output_type": "execute_result"
    },
    {
     "data": {
      "image/png": "[encoded data removed]",
      "text/plain": [
       "<Figure size 640x480 with 1 Axes>"
      ]
     },
     "metadata": {},
     "output_type": "display_data"
    }
   ],
   "source": [
    "sns.scatterplot(data=df_sum, x='tsne1', y='tsne2', hue='kmean_labels')"
   ]
  },
  {
   "cell_type": "code",
   "execution_count": 352,
   "id": "e0eacb02",
   "metadata": {},
   "outputs": [],
   "source": [
    "# sns.scatterplot(data=df_sum, x='tsne1', y='tsne2', hue='kmean_labels_tsne')"
   ]
  },
  {
   "cell_type": "code",
   "execution_count": 145,
   "id": "4906f3e7",
   "metadata": {},
   "outputs": [],
   "source": [
    "import pickle\n",
    "folder_path = folder_path = osp.join('..','..','analysis')\n",
    "best_model_path = osp.join(folder_path,'best_model_20230626.sav')\n",
    "# best_model_path = osp.join(folder_path,'best_model.sav')\n",
    "# best_imputer_path = osp.join(folder_path,'best_imputer.sav')\n",
    "\n",
    "best_model_dict = pickle.load(open(best_model_path, 'rb'))\n",
    "best_model = best_model_dict['model']\n",
    "best_imputer = best_model_dict['imputer']\n",
    "best_params = best_model_dict['params']\n"
   ]
  },
  {
   "cell_type": "code",
   "execution_count": 378,
   "id": "85df3fa5",
   "metadata": {},
   "outputs": [],
   "source": [
    "best_model_path = osp.join(folder_path,'best_model_top4_20230626.sav')\n",
    "\n",
    "best_model_dict = pickle.load(open(best_model_path, 'rb'))\n",
    "best_model = best_model_dict['model']\n",
    "best_imputer = best_model_dict['imputer']\n",
    "best_params = best_model_dict['params']\n",
    "X_imputed = [imp.transform(X_scaled) for imp in best_imputer]\n",
    "y_pred_prob = [model.predict_proba(x)[:,0] for x, model in zip(X_imputed, best_model)]\n",
    "y_pred_all = [model.predict(x) for x, model in zip(X_imputed, best_model)]\n",
    "y_pred = np.sum((np.array(y_pred_all)=='affiliative')*1, axis=0)>1\n",
    "dict_vals = {True:'affiliative', False:'aversive'}\n",
    "y_pred_mode = [dict_vals[v] for v in y_pred]\n",
    "y_pred_prob_median = np.median(np.array(y_pred_prob),axis=0)\n"
   ]
  },
  {
   "cell_type": "code",
   "execution_count": 379,
   "id": "90923c19",
   "metadata": {},
   "outputs": [
    {
     "data": {
      "text/plain": [
       "<matplotlib.collections.PathCollection at 0x1f9ae8a06d0>"
      ]
     },
     "execution_count": 379,
     "metadata": {},
     "output_type": "execute_result"
    },
    {
     "data": {
      "image/png": "[encoded data removed]",
      "text/plain": [
       "<Figure size 640x480 with 1 Axes>"
      ]
     },
     "metadata": {},
     "output_type": "display_data"
    }
   ],
   "source": [
    "plt.scatter(x=range(len(y_pred_prob_median)), y=y_pred_prob_median)"
   ]
  },
  {
   "cell_type": "code",
   "execution_count": 146,
   "id": "4891744e",
   "metadata": {},
   "outputs": [],
   "source": [
    "from sklearn.experimental import enable_iterative_imputer\n",
    "from sklearn.impute import IterativeImputer, KNNImputer\n",
    "# best_imputer = IterativeImputer()"
   ]
  },
  {
   "cell_type": "code",
   "execution_count": 147,
   "id": "5a057bbb",
   "metadata": {},
   "outputs": [
    {
     "data": {
      "text/plain": [
       "['lfp_EA_30_80Hz_enc_pre',\n",
       " 'lfp_AA_30_80Hz_enc_pre',\n",
       " 'coherence_CeA_MeD_30_80Hz_post_pre',\n",
       " 'coherence_AA_MeD_4_12Hz_enc_pre',\n",
       " 'coherence_CeA_MeD_4_12Hz_enc_pre',\n",
       " 'coherence_AA_MeD_30_80Hz_enc_pre',\n",
       " 'coherence_CeA_MeD_4_12Hz_post_pre',\n",
       " 'coherence_CeA_STIA_30_80Hz_enc_pre']"
      ]
     },
     "execution_count": 147,
     "metadata": {},
     "output_type": "execute_result"
    }
   ],
   "source": [
    "best_params"
   ]
  },
  {
   "cell_type": "code",
   "execution_count": 148,
   "id": "ffe2e5d4",
   "metadata": {},
   "outputs": [],
   "source": [
    "# best_vars = [\n",
    "#     'lfp_EA_30_80Hz_enc_pre',\n",
    "#      'lfp_AA_30_80Hz_enc_pre',\n",
    "#      'coherence_CeA_MeD_30_80Hz_post_pre',\n",
    "#      'coherence_AA_MeD_30_80Hz_enc_pre',\n",
    "#      'coherence_CeA_STIA_30_80Hz_enc_pre',\n",
    "# ]\n",
    "\n",
    "# current_vars = [\n",
    "#     'lfp_EA_30_80Hz_enc_pre',\n",
    "#      'lfp_AA_30_80Hz_enc_pre',\n",
    "#      'coherence_CeA_MeD_30_80Hz_post_pre',\n",
    "#      'coherence_AA_MeD_4_18Hz_enc_pre',\n",
    "#      'coherence_CeA_MeD_4_18Hz_enc_pre',\n",
    "#      'coherence_AA_MeD_30_80Hz_enc_pre',\n",
    "#      'coherence_CeA_STIA_30_80Hz_enc_pre',\n",
    "#      'lfp_MePV_4_18Hz_post_pre'\n",
    "#     ]"
   ]
  },
  {
   "cell_type": "code",
   "execution_count": 149,
   "id": "2f3fd5ef",
   "metadata": {},
   "outputs": [],
   "source": [
    "# all_df[best_params]"
   ]
  },
  {
   "cell_type": "code",
   "execution_count": 202,
   "id": "cde89f6a",
   "metadata": {},
   "outputs": [],
   "source": [
    "# all_df = all_df.sample(frac=1)\n",
    "X = all_df[best_params].values\n"
   ]
  },
  {
   "cell_type": "code",
   "execution_count": 203,
   "id": "146de6d5",
   "metadata": {},
   "outputs": [],
   "source": [
    "scaler = StandardScaler()\n",
    "X_scaled = scaler.fit_transform(X)\n",
    "X_imputed = best_imputer.transform(X_scaled)\n",
    "# X_imputed = best_imputer.fit_transform(X_scaled)\n",
    "y_pred_prob = best_model.predict_proba(X_imputed)\n"
   ]
  },
  {
   "cell_type": "code",
   "execution_count": 204,
   "id": "4080760e",
   "metadata": {},
   "outputs": [],
   "source": [
    "# y_pred_prob"
   ]
  },
  {
   "cell_type": "code",
   "execution_count": 205,
   "id": "9dafd887",
   "metadata": {},
   "outputs": [],
   "source": [
    "df_all = pd.concat([df_sum, df_interactions, df_intervals])\n"
   ]
  },
  {
   "cell_type": "code",
   "execution_count": null,
   "id": "cc5f2180",
   "metadata": {},
   "outputs": [],
   "source": []
  },
  {
   "cell_type": "code",
   "execution_count": 375,
   "id": "41ebb3c1",
   "metadata": {},
   "outputs": [],
   "source": [
    "th = 0.59\n",
    "# y_pred = []\n",
    "# for a in  y_pred_prob[:,0] :\n",
    "#     c = 'affiliative' if a>th else 'aversive'\n",
    "#     y_pred.append(c)\n",
    "df_sum['model_pred'] = y_pred_mode\n",
    "\n",
    "# change label names\n",
    "labels_map = {1:'affiliative', 0:'aversive'}\n",
    "df_sum['kmean_labels_labeled'] = df_sum['kmean_labels'].apply(lambda x: labels_map[x])\n",
    "df_sum['kmean_labels_tsne_labeled'] = df_sum['kmean_labels_tsne'].apply(lambda x: labels_map[x])"
   ]
  },
  {
   "cell_type": "code",
   "execution_count": 376,
   "id": "ecc7c5b0",
   "metadata": {},
   "outputs": [
    {
     "data": {
      "text/plain": [
       "[]"
      ]
     },
     "execution_count": 376,
     "metadata": {},
     "output_type": "execute_result"
    },
    {
     "data": {
      "image/png": "[encoded data removed]",
      "text/plain": [
       "<Figure size 1850x1050 with 2 Axes>"
      ]
     },
     "metadata": {},
     "output_type": "display_data"
    }
   ],
   "source": [
    "\n",
    "fig, (ax1, ax2) = plt.subplots(1,2)\n",
    "fig.set_size_inches(18.5, 10.5)\n",
    "# sns.scatterplot(ax=ax1, data=df_sum, x='tsne1', y='tsne2', hue='kmean_labels_labeled')\n",
    "# # sns.scatterplot(ax=ax2, data=df_sum, x='tsne1', y='tsne2', hue='model_pred')\n",
    "# sns.scatterplot(data=df_sum, x='tsne1', y='tsne2', hue='model_pred')\n",
    "\n",
    "# var1 = 'Less Than 6 sec'\n",
    "# var2 = 'More than 6 sec'\n",
    "\n",
    "var1 = 'tsne1'\n",
    "var2 = 'tsne2'\n",
    "\n",
    "sns.scatterplot(ax=ax1, data=df_sum, x=var1, y=var2, hue='kmean_labels_labeled')\n",
    "# sns.scatterplot(ax=ax2, data=df_sum, x='tsne1', y='tsne2', hue='model_pred')\n",
    "sns.scatterplot(data=df_sum, x=var1, y=var2, hue='model_pred')\n",
    "\n",
    "plt.plot()"
   ]
  },
  {
   "cell_type": "code",
   "execution_count": 208,
   "id": "c630453f",
   "metadata": {},
   "outputs": [],
   "source": [
    "# df_sum"
   ]
  },
  {
   "cell_type": "code",
   "execution_count": 157,
   "id": "6165ee94",
   "metadata": {},
   "outputs": [],
   "source": [
    "import ipywidgets as widgets\n",
    "%matplotlib inline\n"
   ]
  },
  {
   "cell_type": "code",
   "execution_count": 158,
   "id": "32fc886d",
   "metadata": {},
   "outputs": [
    {
     "data": {
      "text/plain": [
       "<matplotlib.collections.PathCollection at 0x1f99e9877c0>"
      ]
     },
     "execution_count": 158,
     "metadata": {},
     "output_type": "execute_result"
    },
    {
     "data": {
      "image/png": "[encoded data removed]",
      "text/plain": [
       "<Figure size 640x480 with 1 Axes>"
      ]
     },
     "metadata": {},
     "output_type": "display_data"
    }
   ],
   "source": [
    "plt.scatter(x=range(len(y_pred_prob[:, 0])) , y=y_pred_prob[:, 0])"
   ]
  },
  {
   "cell_type": "code",
   "execution_count": 159,
   "id": "5edfd9cf",
   "metadata": {},
   "outputs": [],
   "source": [
    "# y_pred_prob[:,0]"
   ]
  },
  {
   "cell_type": "code",
   "execution_count": null,
   "id": "bb8c37da",
   "metadata": {},
   "outputs": [],
   "source": []
  },
  {
   "cell_type": "code",
   "execution_count": 160,
   "id": "475c56e8",
   "metadata": {},
   "outputs": [
    {
     "data": {
      "text/plain": [
       "Index(['sessions', 'tsne1', 'tsne2', 'dbscan', 'kmean_labels',\n",
       "       'kmean_labels_tsne', 'pca1', 'pca2', 'umap1', 'umap2', 'model_pred',\n",
       "       'kmean_labels_labeled', 'kmean_labels_tsne_labeled'],\n",
       "      dtype='object')"
      ]
     },
     "execution_count": 160,
     "metadata": {},
     "output_type": "execute_result"
    }
   ],
   "source": [
    "df_sum.columns"
   ]
  },
  {
   "cell_type": "code",
   "execution_count": 161,
   "id": "900362a9",
   "metadata": {
    "scrolled": false
   },
   "outputs": [
    {
     "data": {
      "application/vnd.jupyter.widget-view+json": {
       "model_id": "3b566da134e249f1b08deaeafbcccf75",
       "version_major": 2,
       "version_minor": 0
      },
      "text/plain": [
       "interactive(children=(FloatSlider(value=0.59, description='threshold', max=1.0, step=0.001), Output()), _dom_c…"
      ]
     },
     "metadata": {},
     "output_type": "display_data"
    },
    {
     "data": {
      "application/vnd.jupyter.widget-view+json": {
       "model_id": "c5dbbdb16b7a4579ab71f23797c28cd9",
       "version_major": 2,
       "version_minor": 0
      },
      "text/plain": [
       "FloatSlider(value=0.59, description='threshold', max=1.0, step=0.001)"
      ]
     },
     "metadata": {},
     "output_type": "display_data"
    }
   ],
   "source": [
    "import ipywidgets as widgets\n",
    "import matplotlib.pyplot as plt\n",
    "import numpy as np\n",
    "import pandas as pd\n",
    "import seaborn as sns\n",
    "\n",
    "# To display the plots directly in the Jupyter Notebook\n",
    "%matplotlib inline\n",
    "\n",
    "\n",
    "var1 = 'tsne1'\n",
    "var2 = 'tsne2'\n",
    "\n",
    "# Set the initial threshold value\n",
    "initial_threshold = 0.59\n",
    "\n",
    "# Create a slider widget\n",
    "slider = widgets.FloatSlider(min=0.0, max=1, step=0.001, value=initial_threshold)\n",
    "\n",
    "# Define the update function\n",
    "def update_plot(threshold):\n",
    "    y_pred = []\n",
    "    for a in y_pred_prob[:, 0]:\n",
    "        c = 'affiliative' if a > threshold else 'aversive'\n",
    "        y_pred.append(c)\n",
    "\n",
    "    # Update the 'model_pred' column in the DataFrame\n",
    "    df_sum['model_pred'] = y_pred\n",
    "\n",
    "    # Clear the previous plot\n",
    "#     plt.clf()\n",
    "\n",
    "    # Create a new figure and axes\n",
    "    fig, (ax1, ax2) = plt.subplots(1, 2)\n",
    "    fig.set_size_inches(18.5, 10.5)\n",
    "\n",
    "    # Update the plot data and properties\n",
    "    sns.scatterplot(ax=ax1, data=df_sum, x=var1, y=var2, hue='kmean_labels_labeled', palette={'affiliative': 'blue', 'aversive': 'orange', 'between': 'green'})\n",
    "    sns.scatterplot(ax=ax2, data=df_sum, x=var1, y=var2, hue='model_pred', palette={'affiliative': 'blue', 'aversive': 'orange'})\n",
    "\n",
    "    # Show the updated plot\n",
    "    plt.show()\n",
    "\n",
    "# Register the update function to the slider's value change event\n",
    "widgets.interact(update_plot, threshold=slider)\n",
    "\n",
    "# Display the slider\n",
    "display(slider)\n",
    "\n"
   ]
  },
  {
   "cell_type": "code",
   "execution_count": 133,
   "id": "2c275263",
   "metadata": {},
   "outputs": [],
   "source": [
    "\n",
    "# df_sum[['tsne21','tsne22']] = embedded_interactions"
   ]
  },
  {
   "cell_type": "code",
   "execution_count": null,
   "id": "e7aea237",
   "metadata": {},
   "outputs": [],
   "source": [
    "# sns.scatterplot(data=df_sum, x='tsne21', y='tsne22',hue='model_pred')"
   ]
  },
  {
   "cell_type": "code",
   "execution_count": null,
   "id": "c7b260e2",
   "metadata": {},
   "outputs": [],
   "source": [
    "# sns.scatterplot(data=df_sum, x='tsne1', y='tsne2',hue='model_pred')"
   ]
  },
  {
   "cell_type": "code",
   "execution_count": null,
   "id": "74b2808b",
   "metadata": {},
   "outputs": [],
   "source": [
    "# plt.scatter(x=X_embedded[:,0], y=y_pred_prob[:,0])"
   ]
  },
  {
   "cell_type": "code",
   "execution_count": null,
   "id": "7017f904",
   "metadata": {},
   "outputs": [],
   "source": [
    "best_params"
   ]
  },
  {
   "cell_type": "code",
   "execution_count": 162,
   "id": "c3f0f8c5",
   "metadata": {},
   "outputs": [],
   "source": [
    "y_pred_labels = np.array(df_sum['model_pred'])=='affiliative'\n",
    "# y_pred_labels"
   ]
  },
  {
   "cell_type": "code",
   "execution_count": 166,
   "id": "89dadd6a",
   "metadata": {},
   "outputs": [],
   "source": [
    "kmean_labels_logic = df_sum['kmean_labels']==0\n",
    "\n",
    "# kmean_labels_logic"
   ]
  },
  {
   "cell_type": "code",
   "execution_count": 167,
   "id": "ba2e46d8",
   "metadata": {},
   "outputs": [
    {
     "data": {
      "text/plain": [
       "0.6666666666666667"
      ]
     },
     "execution_count": 167,
     "metadata": {},
     "output_type": "execute_result"
    }
   ],
   "source": [
    "from sklearn.metrics import f1_score\n",
    "f1 = f1_score(kmean_labels_logic, y_pred_labels)\n",
    "f1"
   ]
  },
  {
   "cell_type": "code",
   "execution_count": 168,
   "id": "d70a4849",
   "metadata": {},
   "outputs": [
    {
     "data": {
      "text/plain": [
       "0.03472931562819215"
      ]
     },
     "execution_count": 168,
     "metadata": {},
     "output_type": "execute_result"
    }
   ],
   "source": [
    "from sklearn.metrics import cohen_kappa_score\n",
    "cappa  = cohen_kappa_score(kmean_labels_logic, y_pred_labels)\n",
    "cappa"
   ]
  },
  {
   "cell_type": "code",
   "execution_count": 169,
   "id": "3eda2714",
   "metadata": {},
   "outputs": [
    {
     "data": {
      "text/plain": [
       "33"
      ]
     },
     "execution_count": 169,
     "metadata": {},
     "output_type": "execute_result"
    }
   ],
   "source": [
    "np.sum(kmean_labels_logic == y_pred_labels)"
   ]
  },
  {
   "cell_type": "code",
   "execution_count": 170,
   "id": "7844bc8f",
   "metadata": {},
   "outputs": [
    {
     "data": {
      "text/plain": [
       "63"
      ]
     },
     "execution_count": 170,
     "metadata": {},
     "output_type": "execute_result"
    }
   ],
   "source": [
    "len(kmean_labels_logic)"
   ]
  },
  {
   "cell_type": "code",
   "execution_count": 171,
   "id": "50726a00",
   "metadata": {},
   "outputs": [
    {
     "data": {
      "text/plain": [
       "0.529233870967742"
      ]
     },
     "execution_count": 171,
     "metadata": {},
     "output_type": "execute_result"
    }
   ],
   "source": [
    "from sklearn.metrics import roc_auc_score\n",
    "auc = roc_auc_score(kmean_labels_logic, y_pred_prob[:,0])\n",
    "auc"
   ]
  },
  {
   "cell_type": "code",
   "execution_count": 172,
   "id": "6e8880ed",
   "metadata": {},
   "outputs": [
    {
     "data": {
      "text/plain": [
       "Text(0, 0.5, 'True Positive Rate')"
      ]
     },
     "execution_count": 172,
     "metadata": {},
     "output_type": "execute_result"
    },
    {
     "data": {
      "image/png": "[encoded data removed]",
      "text/plain": [
       "<Figure size 640x480 with 1 Axes>"
      ]
     },
     "metadata": {},
     "output_type": "display_data"
    }
   ],
   "source": [
    "from sklearn.metrics import accuracy_score, confusion_matrix, roc_auc_score, roc_curve\n",
    "\n",
    "\n",
    "fpr, tpr, thresholds = roc_curve(kmean_labels_logic, y_pred_prob[:,0])\n",
    "gmean = np.sqrt(tpr * (1 - fpr))\n",
    "plt.plot(fpr, tpr)\n",
    "plt.xlabel('False Positive Rate')\n",
    "plt.ylabel('True Positive Rate') "
   ]
  },
  {
   "cell_type": "code",
   "execution_count": null,
   "id": "89a0d058",
   "metadata": {},
   "outputs": [],
   "source": [
    "# Calculate the G-mean\n",
    "gmean = np.sqrt(tpr * (1 - fpr))\n",
    "\n",
    "# Find the optimal threshold\n",
    "index = np.argmax(gmean)\n",
    "thresholdOpt = round(thresholds[index], ndigits = 4)\n",
    "gmeanOpt = round(gmean[index], ndigits = 4)\n",
    "fprOpt = round(fpr[index], ndigits = 4)\n",
    "tprOpt = round(tpr[index], ndigits = 4)\n",
    "print('Best Threshold: {} with G-Mean: {}'.format(thresholdOpt, gmeanOpt))\n",
    "print('FPR: {}, TPR: {}'.format(fprOpt, tprOpt))"
   ]
  },
  {
   "cell_type": "code",
   "execution_count": null,
   "id": "8c7222b7",
   "metadata": {},
   "outputs": [],
   "source": [
    "import plotly.express as px\n"
   ]
  },
  {
   "cell_type": "code",
   "execution_count": null,
   "id": "1c157c84",
   "metadata": {},
   "outputs": [],
   "source": [
    "import re\n",
    "\n",
    "\n",
    "def extract_ratnum_from_file_name(filename):\n",
    "    filename = filename.replace(' ','')\n",
    "    match = re.search(r\"rat(\\d{1,2})\", filename.lower())\n",
    "\n",
    "    if match:\n",
    "        number = int(match.group(1))       \n",
    "    else:\n",
    "        number = -1\n",
    "    return number\n",
    "\n",
    "def extract_daynum_from_file_name(filename):\n",
    "    filename = filename.replace(' ','')\n",
    "    match = re.search(r\"day(\\d{1,2})\", filename.lower())\n",
    "    if match:\n",
    "        number = int(match.group(1))       \n",
    "    else:\n",
    "        number = -1\n",
    "    return number\n",
    "# rat_numbers = [extract_ratnum_from_file_name(filename) for filename in filenames]\n",
    "\n",
    "df = df_sum\n",
    "df['rat_number'] = df['sessions'].apply(extract_ratnum_from_file_name)\n",
    "df['day_number'] = df['sessions'].apply(extract_daynum_from_file_name)\n",
    "\n",
    "\n",
    "\n",
    "\n"
   ]
  },
  {
   "cell_type": "code",
   "execution_count": null,
   "id": "84c5f094",
   "metadata": {},
   "outputs": [],
   "source": []
  },
  {
   "cell_type": "code",
   "execution_count": null,
   "id": "7c7a47d0",
   "metadata": {},
   "outputs": [],
   "source": [
    "df_sum['y_pred_prob'] = y_pred_prob[:,0]\n"
   ]
  },
  {
   "cell_type": "code",
   "execution_count": null,
   "id": "611e230d",
   "metadata": {},
   "outputs": [],
   "source": [
    "df_sum.to_clipboard()"
   ]
  },
  {
   "cell_type": "code",
   "execution_count": null,
   "id": "1252f8d5",
   "metadata": {},
   "outputs": [],
   "source": [
    "df_comb = pd.concat([df_interactions,df_intervals, df_sum], axis=1)"
   ]
  },
  {
   "cell_type": "code",
   "execution_count": null,
   "id": "130bc499",
   "metadata": {},
   "outputs": [],
   "source": [
    "# df_comb.to_clipboard()"
   ]
  },
  {
   "cell_type": "code",
   "execution_count": null,
   "id": "cf5c88cf",
   "metadata": {},
   "outputs": [],
   "source": [
    "df = pd.concat([df_interactions,df_intervals], axis=1)\n",
    "# df['model_pred'] = df_sum['model_pred']\n",
    "df['model_pred'] = df_sum['kmean_labels_labeled']\n",
    "df.index= df_sum['sessions']\n",
    "df['kmeans'] = df_sum['kmean_labels_labeled'].values\n",
    "# df['diff_var'] = df['More than 6 sec']>df['More than 6 sec'].median()\n",
    "df['diff_var'] = (df['Less Than 6 sec']>df['Less Than 6 sec'].median())&(df['Less Than 5 sec']>df['Less Than 5 sec'].median())"
   ]
  },
  {
   "cell_type": "code",
   "execution_count": null,
   "id": "8bfe9ebc",
   "metadata": {},
   "outputs": [],
   "source": [
    "df.columns"
   ]
  },
  {
   "cell_type": "code",
   "execution_count": null,
   "id": "6f6f45e8",
   "metadata": {},
   "outputs": [],
   "source": [
    "# df = df.drop(['More than 6 sec','More Than 20 sec', 'More Than 19 sec','Less Than 6 sec','Less Than 5 sec'], axis=1)\n",
    "# vars = ['Less Than 6 sec', 'More than 6 sec','model_pred']\n",
    "# vars = ['All intervals', 'More than 6 sec','kmeans',]\n",
    "vars = df.columns"
   ]
  },
  {
   "cell_type": "code",
   "execution_count": null,
   "id": "e38d0f9e",
   "metadata": {},
   "outputs": [],
   "source": [
    "sns.pairplot(data=df[vars], hue='model_pred', diag_kind='kde')"
   ]
  },
  {
   "cell_type": "code",
   "execution_count": null,
   "id": "db01f12f",
   "metadata": {},
   "outputs": [],
   "source": [
    "# sns.scatterplot( x=df['5 to 20 sec'], y=df['6 to 19 sec'], hue=df['model_pred'])"
   ]
  },
  {
   "cell_type": "code",
   "execution_count": null,
   "id": "0b8222ac",
   "metadata": {},
   "outputs": [],
   "source": []
  },
  {
   "cell_type": "code",
   "execution_count": null,
   "id": "20f553b0",
   "metadata": {},
   "outputs": [],
   "source": [
    "df = pd.concat([df_interactions,df_intervals], axis=1)\n",
    "# df['model_pred'] = df_sum['model_pred']\n",
    "df['model_pred'] = df_sum['kmean_labels_labeled']\n",
    "df.index= df_sum['sessions']\n",
    "\n",
    "df.columns"
   ]
  },
  {
   "cell_type": "code",
   "execution_count": null,
   "id": "fff09d20",
   "metadata": {},
   "outputs": [],
   "source": [
    "# df['diff_var'] = (df['More than 6 sec']>df['More than 6 sec'].median()).values\n",
    "df['diff_var'] = ((df['6 to 19 sec']>df['6 to 19 sec'].mean())&(df['Less Than 5 sec']>df['Less Than 5 sec'].mean())).values\n",
    "df[['tsne1','tsne2' ]] = df_sum[['tsne1','tsne2' ]].values\n",
    "df['model_pred'] = df_sum['model_pred'].values\n",
    "\n"
   ]
  },
  {
   "cell_type": "code",
   "execution_count": null,
   "id": "4493666e",
   "metadata": {},
   "outputs": [],
   "source": [
    "# df['More than 6 sec']"
   ]
  },
  {
   "cell_type": "code",
   "execution_count": null,
   "id": "19abf3d2",
   "metadata": {},
   "outputs": [],
   "source": [
    "fig, (ax1, ax2) = plt.subplots(1,2)\n",
    "fig.set_size_inches(18.5, 10.5)\n",
    "# sns.scatterplot(ax=ax1, data=df_sum, x='tsne1', y='tsne2', hue='kmean_labels_labeled')\n",
    "# # sns.scatterplot(ax=ax2, data=df_sum, x='tsne1', y='tsne2', hue='model_pred')\n",
    "# sns.scatterplot(data=df_sum, x='tsne1', y='tsne2', hue='model_pred')\n",
    "\n",
    "# var1 = 'Less Than 6 sec'\n",
    "# var2 = 'More than 6 sec'\n",
    "\n",
    "var1 = 'tsne1'\n",
    "var2 = 'tsne2'\n",
    "\n",
    "sns.scatterplot(ax=ax1, data=df, x=var1, y=var2, hue='diff_var')\n",
    "# sns.scatterplot(ax=ax2, data=df_sum, x='tsne1', y='tsne2', hue='model_pred')\n",
    "sns.scatterplot(ax=ax2, data=df, x=var1, y=var2, hue='model_pred')\n",
    "\n",
    "plt.plot()"
   ]
  },
  {
   "cell_type": "code",
   "execution_count": null,
   "id": "43a7e70f",
   "metadata": {},
   "outputs": [],
   "source": [
    "sns.histplot(x=df['diff_var'].values , y=df_sum['model_pred'].values==)"
   ]
  },
  {
   "cell_type": "code",
   "execution_count": null,
   "id": "8612a319",
   "metadata": {},
   "outputs": [],
   "source": [
    "import sweetviz as sv"
   ]
  },
  {
   "cell_type": "code",
   "execution_count": null,
   "id": "3ee401fe",
   "metadata": {},
   "outputs": [],
   "source": [
    "# #EDA using Autoviz\n",
    "# df_vis = df\n",
    "# # df_vis = df_vis[[c for c in df_vis.columns if c not in cat_vars]]\n",
    "\n",
    "# # df_vis = df_vis.apply(pd.to_numeric)\n",
    "# # df_vis['sociability'] = df_coherence_data['sociability']\n",
    "\n",
    "# # feature_config = sv.FeatureConfig(force_num=[c for c in df_vis.columns if c not in cat_vars])\n",
    "# sweet_report = sv.compare_intra(\n",
    "#     df_vis,df_vis['model_pred']=='affiliative',\n",
    "#     ['affiliative', 'aversive'],\n",
    "# #     feat_cfg=feature_config\n",
    "# )\n",
    "\n",
    "# #Saving results to HTML file\n",
    "# sweet_report.show_html('df_free.html')\n",
    "# # sweet_report.show_notebook(filepath='sweet_report.html')"
   ]
  },
  {
   "cell_type": "code",
   "execution_count": null,
   "id": "8de2ef86",
   "metadata": {},
   "outputs": [],
   "source": []
  },
  {
   "cell_type": "code",
   "execution_count": null,
   "id": "17f85f98",
   "metadata": {},
   "outputs": [],
   "source": []
  },
  {
   "cell_type": "code",
   "execution_count": null,
   "id": "35cee8b2",
   "metadata": {},
   "outputs": [],
   "source": []
  },
  {
   "cell_type": "code",
   "execution_count": null,
   "id": "198c88e8",
   "metadata": {},
   "outputs": [],
   "source": []
  },
  {
   "cell_type": "code",
   "execution_count": null,
   "id": "0d3c9e30",
   "metadata": {},
   "outputs": [],
   "source": [
    "df_comb.columns"
   ]
  },
  {
   "cell_type": "code",
   "execution_count": null,
   "id": "e07af2ea",
   "metadata": {},
   "outputs": [],
   "source": [
    "\n",
    "df = pd.concat([df_comb, df_sum], axis=1)\n",
    "df.reset_index()\n",
    "df.columns"
   ]
  },
  {
   "cell_type": "code",
   "execution_count": null,
   "id": "cfd8ce06",
   "metadata": {
    "scrolled": false
   },
   "outputs": [],
   "source": [
    "import plotly.graph_objs as go\n",
    "import plotly.offline as py\n",
    "\n",
    "import pandas as pd\n",
    "import numpy as np\n",
    "from ipywidgets import interactive, HBox, VBox, Button\n",
    "\n",
    "py.init_notebook_mode()\n",
    "\n",
    "var_y = 'tsne2'\n",
    "var_x = 'tsne1'\n",
    "hue_column = 'model_pred'\n",
    "\n",
    "color_mapping = {\n",
    "    'affiliative': 'red',\n",
    "    'aversive': 'blue',\n",
    "}\n",
    "colors = [color_mapping[val] for val in df[hue_column].values]\n",
    "\n",
    "values = ['sessions','rat_number','day_number','model_pred','kmean_labels_labeled',\n",
    "    'Less Than 6 sec', '6 to 19 sec', 'More Than 19 sec', 'More than 6 sec',\n",
    "       'Total time', 'Less Than 5 sec', '5 to 20 sec', 'More Than 20 sec',\n",
    "       'All intervals']\n",
    "\n",
    "f = go.FigureWidget([go.Scatter(y = df[var_y], x = df[var_x], mode = 'markers', marker=dict(\n",
    "        color=colors,\n",
    "        colorscale='Viridis',  # Choose the desired color scale\n",
    "        showscale=True\n",
    "    ))])\n",
    "scatter = f.data[0]\n",
    "N = len(df)\n",
    "# scatter.x = scatter.x + np.random.rand(N)/10 *(df['City mpg'].max() - df['City mpg'].min())\n",
    "# scatter.y = scatter.y + np.random.rand(N)/10 *(df['City mpg'].max() - df['City mpg'].min())\n",
    "scatter.marker.opacity = 0.5\n",
    "\n",
    "def update_axes(xaxis, yaxis):\n",
    "    scatter = f.data[0]\n",
    "    scatter.x = df[xaxis]\n",
    "    scatter.y = df[yaxis]\n",
    "    with f.batch_update():\n",
    "        f.layout.xaxis.title = xaxis\n",
    "        f.layout.yaxis.title = yaxis\n",
    "#         scatter.x = scatter.x + np.random.rand(N)/10 *(df[xaxis].max() - df[xaxis].min())\n",
    "#         scatter.y = scatter.y + np.random.rand(N)/10 *(df[yaxis].max() - df[yaxis].min())\n",
    "\n",
    "axis_dropdowns = interactive(\n",
    "#     update_axes, yaxis = df.select_dtypes('int64').columns, xaxis = df.select_dtypes('int64').columns)\n",
    "    update_axes, yaxis = df.columns, xaxis = df.columns)\n",
    "\n",
    "# Create a table FigureWidget that updates on selection from points in the scatter plot of f\n",
    "go_tab = go.Table(\n",
    "    header=dict(values=values,\n",
    "                fill = dict(color='#C2D4FF'),\n",
    "                align = ['left'] * 5),\n",
    "    cells=dict(values=[df[col] for col in values],\n",
    "               fill = dict(color='#F5F8FF'),\n",
    "               align = ['left'] * 5))\n",
    "t = go.FigureWidget([go_tab])\n",
    "\n",
    "def selection_fn(trace,points,selector):\n",
    "    t.data[0].cells.values = [df.loc[points.point_inds][col] for col in values]\n",
    "#     print(df.loc[points.point_inds][values])\n",
    "scatter.on_selection(selection_fn)\n",
    "\n",
    "\n",
    "def copy_to_clipboard(btn):\n",
    "    df_selected = df.iloc[list(scatter.selectedpoints)][values]\n",
    "#     csv_data = df_selected.to_csv(index=False)\n",
    "#     clipboard.copy(csv_data)\n",
    "    df_selected.to_clipboard()\n",
    "    print(\"Data copied to clipboard\")\n",
    "\n",
    "scatter.on_selection(selection_fn)\n",
    "\n",
    "# Create the button to copy data to clipboard\n",
    "copy_button = Button(description='Copy to Clipboard',)\n",
    "copy_button.on_click(copy_to_clipboard)\n",
    "\n",
    "# Put everything together\n",
    "VBox((HBox(axis_dropdowns.children), copy_button, f, t))"
   ]
  },
  {
   "cell_type": "code",
   "execution_count": null,
   "id": "5f995cac",
   "metadata": {},
   "outputs": [],
   "source": [
    "# go_table_vals = go_tab.to_plotly_json()['cells']['values']\n",
    "# go_table_headers = go_tab.to_plotly_json()['header']['values']\n",
    "# pd.DataFrame(zip(*go_table_vals), columns=go_table_headers)"
   ]
  },
  {
   "cell_type": "code",
   "execution_count": 211,
   "id": "7ba1c54d",
   "metadata": {},
   "outputs": [],
   "source": [
    "df_clusters = pd.read_excel(osp.join(folder_path,'clustering_of_free_rats_based_on_tsne.xlsx'),'clusters')\n"
   ]
  },
  {
   "cell_type": "code",
   "execution_count": 212,
   "id": "244fe298",
   "metadata": {},
   "outputs": [],
   "source": [
    "# df_vis = df_clusters\n",
    "# # df_vis = df_vis[[c for c in df_vis.columns if c not in cat_vars]]\n",
    "\n",
    "# # df_vis = df_vis.apply(pd.to_numeric)\n",
    "# # df_vis['sociability'] = df_coherence_data['sociability']\n",
    "\n",
    "# # feature_config = sv.FeatureConfig(force_num=[c for c in df_vis.columns if c not in cat_vars])\n",
    "# sweet_report = sv.compare_intra(\n",
    "#     df_vis,df_vis['model_pred']=='affiliative',\n",
    "#     ['affiliative', 'aversive'],\n",
    "# #     feat_cfg=feature_config\n",
    "# )\n",
    "\n",
    "# #Saving results to HTML file\n",
    "# sweet_report.show_html('df_free.html')\n",
    "# # sweet_report.show_notebook(filepath='sweet_report.html')"
   ]
  },
  {
   "cell_type": "code",
   "execution_count": 213,
   "id": "71202b3a",
   "metadata": {},
   "outputs": [],
   "source": [
    "import pandas as pd\n",
    "from scipy import stats\n",
    "\n",
    "def compare_groups(df, grouper):\n",
    "    # Create an empty DataFrame to store the results\n",
    "    significance_table = pd.DataFrame(columns=['variable', 'statistic', 'pvalue'])\n",
    "    \n",
    "    # Iterate over each numeric variable in the DataFrame\n",
    "    for column in df.select_dtypes(include='number'):\n",
    "        if column ==grouper:\n",
    "            continue\n",
    "        groups = [group[column] for _, group in df.groupby(grouper)]\n",
    "        \n",
    "        # Perform the statistical test (e.g., one-way ANOVA)\n",
    "        statistic, pvalue = stats.f_oneway(*groups)\n",
    "        \n",
    "        # Append the results to the significance table\n",
    "        significance_table = significance_table.append({'variable': column, 'statistic': statistic, 'pvalue': pvalue}, ignore_index=True)\n",
    "    \n",
    "    # Sort the significance table by p-value in ascending order\n",
    "    significance_table = significance_table.sort_values(by='pvalue')\n",
    "    \n",
    "    return significance_table\n"
   ]
  },
  {
   "cell_type": "code",
   "execution_count": 214,
   "id": "e8ef3be5",
   "metadata": {},
   "outputs": [],
   "source": [
    "import warnings\n",
    "with warnings.catch_warnings(record=True):\n",
    "    sig_tab = compare_groups(df_clusters,grouper='cluster')"
   ]
  },
  {
   "cell_type": "code",
   "execution_count": 269,
   "id": "2fb397e0",
   "metadata": {
    "scrolled": false
   },
   "outputs": [
    {
     "name": "stdout",
     "output_type": "stream",
     "text": [
      "['5 to 20 sec', 'More Than 20 sec', 'All intervals', 'Less Than 5 sec', '6 to 19 sec', 'Less Than 6 sec', 'Total time', 'More than 6 sec', 'More Than 19 sec']\n"
     ]
    }
   ],
   "source": [
    "top_vars = sig_tab.loc[sig_tab['pvalue']<0.1]['variable'].values\n",
    "top_vars = list(top_vars)\n",
    "print(top_vars)\n",
    "top_vars.append('cluster')\n"
   ]
  },
  {
   "cell_type": "code",
   "execution_count": 270,
   "id": "3196d96e",
   "metadata": {},
   "outputs": [],
   "source": [
    "# sns.pairplot(df_clusters[top_vars], hue='cluster', palette=sns.color_palette(\"bright\")[:3])"
   ]
  },
  {
   "cell_type": "code",
   "execution_count": 271,
   "id": "3f126c3e",
   "metadata": {},
   "outputs": [],
   "source": [
    "X_behavior = df_clusters[top_vars].drop('cluster', axis=1).values\n",
    "scaler = StandardScaler()\n",
    "X_behavior_scaled = scaler.fit_transform(X_behavior)\n",
    "X_tsne_embed = TSNE(n_components=2, learning_rate='auto',\n",
    "                  init='random', perplexity=10).fit_transform(X_behavior_scaled)\n",
    "df_clusters[['tsne1','tsne2']] = X_tsne_embed"
   ]
  },
  {
   "cell_type": "code",
   "execution_count": 272,
   "id": "0273a223",
   "metadata": {},
   "outputs": [
    {
     "data": {
      "text/plain": [
       "<Axes: xlabel='tsne1', ylabel='tsne2'>"
      ]
     },
     "execution_count": 272,
     "metadata": {},
     "output_type": "execute_result"
    },
    {
     "data": {
      "image/png": "[encoded data removed]",
      "text/plain": [
       "<Figure size 640x480 with 1 Axes>"
      ]
     },
     "metadata": {},
     "output_type": "display_data"
    }
   ],
   "source": [
    "sns.scatterplot(data=df_clusters, x='tsne1', y='tsne2', hue='model_pred')"
   ]
  },
  {
   "cell_type": "code",
   "execution_count": 377,
   "id": "f4a3af20",
   "metadata": {},
   "outputs": [],
   "source": []
  },
  {
   "cell_type": "code",
   "execution_count": 357,
   "id": "f1ded3e5",
   "metadata": {},
   "outputs": [],
   "source": []
  },
  {
   "cell_type": "code",
   "execution_count": 358,
   "id": "5d13b2ab",
   "metadata": {},
   "outputs": [],
   "source": []
  },
  {
   "cell_type": "code",
   "execution_count": 368,
   "id": "7d0ffd95",
   "metadata": {},
   "outputs": [],
   "source": []
  },
  {
   "cell_type": "code",
   "execution_count": 360,
   "id": "2414c1ad",
   "metadata": {},
   "outputs": [],
   "source": []
  },
  {
   "cell_type": "code",
   "execution_count": 369,
   "id": "e298a044",
   "metadata": {},
   "outputs": [],
   "source": [
    "df_clusters['model_pred'] = y_pred_mode\n"
   ]
  },
  {
   "cell_type": "code",
   "execution_count": 370,
   "id": "c136e5b1",
   "metadata": {},
   "outputs": [
    {
     "data": {
      "text/plain": [
       "0     affiliative\n",
       "1     affiliative\n",
       "2        aversive\n",
       "3        aversive\n",
       "4     affiliative\n",
       "         ...     \n",
       "58       aversive\n",
       "59    affiliative\n",
       "60       aversive\n",
       "61       aversive\n",
       "62    affiliative\n",
       "Name: model_pred, Length: 63, dtype: object"
      ]
     },
     "execution_count": 370,
     "metadata": {},
     "output_type": "execute_result"
    }
   ],
   "source": [
    "df_clusters['model_pred']"
   ]
  },
  {
   "cell_type": "code",
   "execution_count": 313,
   "id": "edac48a9",
   "metadata": {},
   "outputs": [
    {
     "data": {
      "image/png": "[encoded data removed]",
      "text/plain": [
       "<Figure size 640x480 with 1 Axes>"
      ]
     },
     "metadata": {},
     "output_type": "display_data"
    }
   ],
   "source": [
    "df = df_clusters\n",
    "\n",
    "var1 = 'tsne1'\n",
    "var2 = 'tsne2'\n",
    "\n",
    "# sns.scatterplot(ax=ax1, data=df, x=var1, y=var2, hue='cluster', palette={1: 'blue', 2: 'orange', 3: 'green'})\n",
    "sns.scatterplot(data=df, x=var1, y=var2, hue='model_pred', palette={'affiliative': 'blue', 'aversive': 'orange'})\n",
    "plt.show()"
   ]
  },
  {
   "cell_type": "code",
   "execution_count": 281,
   "id": "90ee6123",
   "metadata": {},
   "outputs": [
    {
     "data": {
      "application/vnd.jupyter.widget-view+json": {
       "model_id": "edd9a833e3e54eb195fd355fd2a44072",
       "version_major": 2,
       "version_minor": 0
      },
      "text/plain": [
       "interactive(children=(FloatSlider(value=0.59, description='threshold', max=1.0, step=0.001), Output()), _dom_c…"
      ]
     },
     "metadata": {},
     "output_type": "display_data"
    },
    {
     "data": {
      "application/vnd.jupyter.widget-view+json": {
       "model_id": "5a05f8495955491ca324dc3db8a990f2",
       "version_major": 2,
       "version_minor": 0
      },
      "text/plain": [
       "FloatSlider(value=0.59, description='threshold', max=1.0, step=0.001)"
      ]
     },
     "metadata": {},
     "output_type": "display_data"
    }
   ],
   "source": [
    "import ipywidgets as widgets\n",
    "import matplotlib.pyplot as plt\n",
    "import numpy as np\n",
    "import pandas as pd\n",
    "import seaborn as sns\n",
    "\n",
    "# To display the plots directly in the Jupyter Notebook\n",
    "%matplotlib inline\n",
    "\n",
    "\n",
    "var1 = 'tsne1'\n",
    "var2 = 'tsne2'\n",
    "df = df_clusters\n",
    "\n",
    "# Set the initial threshold value\n",
    "initial_threshold = 0.59\n",
    "\n",
    "# Create a slider widget\n",
    "slider = widgets.FloatSlider(min=0.0, max=1, step=0.001, value=initial_threshold)\n",
    "\n",
    "# Define the update function\n",
    "def update_plot(threshold):\n",
    "    y_pred = []\n",
    "    for a in y_pred_mean:\n",
    "        c = 'affiliative' if a > threshold else 'aversive'\n",
    "        y_pred.append(c)\n",
    "\n",
    "    # Update the 'model_pred' column in the DataFrame\n",
    "    df['model_pred'] = y_pred\n",
    "\n",
    "    # Clear the previous plot\n",
    "#     plt.clf()\n",
    "\n",
    "    # Create a new figure and axes\n",
    "    fig, (ax1, ax2) = plt.subplots(1, 2)\n",
    "    fig.set_size_inches(18.5, 10.5)\n",
    "\n",
    "    # Update the plot data and properties\n",
    "    sns.scatterplot(ax=ax1, data=df, x=var1, y=var2, hue='cluster', palette={1: 'blue', 2: 'orange', 3: 'green'})\n",
    "    sns.scatterplot(ax=ax2, data=df, x=var1, y=var2, hue='model_pred', palette={'affiliative': 'blue', 'aversive': 'orange'})\n",
    "\n",
    "    # Show the updated plot\n",
    "    plt.show()\n",
    "\n",
    "# Register the update function to the slider's value change event\n",
    "widgets.interact(update_plot, threshold=slider)\n",
    "\n",
    "# Display the slider\n",
    "display(slider)\n",
    "\n"
   ]
  },
  {
   "cell_type": "code",
   "execution_count": 283,
   "id": "2c4e53ef",
   "metadata": {},
   "outputs": [
    {
     "data": {
      "text/plain": [
       "<matplotlib.collections.PathCollection at 0x1f9b14d5e70>"
      ]
     },
     "execution_count": 283,
     "metadata": {},
     "output_type": "execute_result"
    },
    {
     "data": {
      "image/png": "[encoded data removed]",
      "text/plain": [
       "<Figure size 640x480 with 1 Axes>"
      ]
     },
     "metadata": {},
     "output_type": "display_data"
    }
   ],
   "source": [
    "plt.scatter(x=range(len(y_pred_mean)) , y=y_pred_mean)"
   ]
  },
  {
   "cell_type": "code",
   "execution_count": 372,
   "id": "a105f2a7",
   "metadata": {},
   "outputs": [
    {
     "data": {
      "text/plain": [
       "<Axes: xlabel='tsne1', ylabel='tsne2'>"
      ]
     },
     "execution_count": 372,
     "metadata": {},
     "output_type": "execute_result"
    },
    {
     "data": {
      "image/png": "[encoded data removed]",
      "text/plain": [
       "<Figure size 1850x1050 with 2 Axes>"
      ]
     },
     "metadata": {},
     "output_type": "display_data"
    }
   ],
   "source": [
    "df_sum['model_pred'] = y_pred_mode\n",
    "# Create a new figure and axes\n",
    "fig, (ax1, ax2) = plt.subplots(1, 2)\n",
    "fig.set_size_inches(18.5, 10.5)\n",
    "\n",
    "# Update the plot data and properties\n",
    "sns.scatterplot(ax=ax1, data=df_sum, x='tsne1', y='tsne2', hue='kmean_labels')\n",
    "sns.scatterplot(ax=ax2, data=df_sum, x='tsne1', y='tsne2', hue='model_pred')"
   ]
  },
  {
   "cell_type": "code",
   "execution_count": null,
   "id": "65926f47",
   "metadata": {},
   "outputs": [],
   "source": []
  }
 ],
 "metadata": {
  "kernelspec": {
   "display_name": "Python 3 (ipykernel)",
   "language": "python",
   "name": "python3"
  },
  "language_info": {
   "codemirror_mode": {
    "name": "ipython",
    "version": 3
   },
   "file_extension": ".py",
   "mimetype": "text/x-python",
   "name": "python",
   "nbconvert_exporter": "python",
   "pygments_lexer": "ipython3",
   "version": "3.10.9"
  }
 },
 "nbformat": 4,
 "nbformat_minor": 5
}
