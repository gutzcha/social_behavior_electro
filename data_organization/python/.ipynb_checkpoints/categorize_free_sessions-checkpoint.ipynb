{
 "cells": [
  {
   "cell_type": "code",
   "execution_count": 1,
   "id": "662958b4",
   "metadata": {},
   "outputs": [],
   "source": [
    "import os\n",
    "import pandas as pd\n",
    "import os.path as osp\n",
    "import numpy as np\n",
    "import seaborn as sns\n",
    "import matplotlib.pyplot as plt"
   ]
  },
  {
   "cell_type": "code",
   "execution_count": 79,
   "id": "5f00341b",
   "metadata": {},
   "outputs": [],
   "source": [
    "from sklearn.preprocessing import StandardScaler\n",
    "from sklearn.manifold import TSNE\n",
    "from sklearn.cluster import DBSCAN\n",
    "from sklearn import metrics"
   ]
  },
  {
   "cell_type": "code",
   "execution_count": 141,
   "id": "d0363389",
   "metadata": {},
   "outputs": [],
   "source": [
    "filename = 'Population analysis results for video analysis of free interaction.xlsx'\n",
    "filepath = folder_path = osp.join('..','..','analysis')\n",
    "full_file_name = osp.join(filepath,'free', filename)\n",
    "df_dict = pd.read_excel(full_file_name,None)\n"
   ]
  },
  {
   "cell_type": "code",
   "execution_count": 142,
   "id": "1e139702",
   "metadata": {},
   "outputs": [],
   "source": [
    "folder_path = osp.join('..','..','analysis')\n",
    "path_to_free_enc_pre = osp.join(folder_path,\n",
    "                            'Population analysis results for LFP Coherence - Encounter-PreEncounter_4-12_30-80_free.xlsx')\n",
    "\n",
    "path_to_free_post_pre = osp.join(folder_path,\n",
    "                            'Population analysis results for LFP Coherence - PostEncounter-PreEncounter_free_4-12_30-80_free.xlsx')\n",
    "\n",
    "path_to_free_lfp = osp.join(folder_path,\n",
    "                            'lfp_rawdata_free.xlsx') "
   ]
  },
  {
   "cell_type": "code",
   "execution_count": 146,
   "id": "fb2feac6",
   "metadata": {},
   "outputs": [],
   "source": [
    "df_free_lfp_raw = pd.read_excel(path_to_free_lfp ,header=[0,1,2], index_col=[0])\n",
    "df_free_enc_pre = pd.read_excel(path_to_free_enc_pre,None)\n",
    "df_free_post_pre = pd.read_excel(path_to_free_post_pre,None)\n"
   ]
  },
  {
   "cell_type": "code",
   "execution_count": 151,
   "id": "f54eb4e4",
   "metadata": {},
   "outputs": [],
   "source": [
    "import re\n",
    "\n",
    "def fix_file_paths(df_files):\n",
    "    \n",
    "    df_files = df_files.rename(columns={df_files.columns[1]:'timestamps', df_files.columns[0]:'lfp', })\n",
    "    \n",
    "    return df_files\n",
    "\n",
    "\n",
    "\n",
    "def extract_ratnum_from_file_name(filename):\n",
    "    filename = filename.replace(' ','')\n",
    "    match = re.search(r\"rat(\\d{1,2})\", filename.lower())\n",
    "\n",
    "    if match:\n",
    "        number = int(match.group(1))       \n",
    "    else:\n",
    "        number = -1\n",
    "    return number\n",
    "\n",
    "def extract_daynum_from_file_name(filename):\n",
    "    filename = filename.replace(' ','')\n",
    "    match = re.search(r\"day(\\d{1,2})\", filename.lower())\n",
    "    if match:\n",
    "        number = int(match.group(1))       \n",
    "    else:\n",
    "        number = -1\n",
    "    return number\n",
    "# rat_numbers = [extract_ratnum_from_file_name(filename) for filename in filenames]\n",
    "\n",
    "area_num_to_name_map = {\n",
    "    '111': 'MeD',\n",
    "    '2': 'MePV',\n",
    "    '13':'CeA',\n",
    "    '112': 'BMA',\n",
    "    '14': 'AA',\n",
    "    '16': 'EA',\n",
    "    '12': 'STIA',\n",
    "    '15': 'VP'\n",
    "}\n",
    "\n",
    "\n",
    "\n",
    "def reformat_columns(df):\n",
    "    # combine column names and remove levels\n",
    "    df_new = pd.DataFrame()\n",
    "    areas = df.columns.get_level_values('area').unique()\n",
    "    freqs = df.columns.get_level_values('freq').unique()\n",
    "    stages = df.columns.get_level_values('stage').unique()\n",
    "\n",
    "    df_new.index = df.index\n",
    "    for area in areas:\n",
    "        for freq in freqs:\n",
    "            for stage in stages:\n",
    "\n",
    "                col_name = (area, freq, stage)\n",
    "                \n",
    "                area_name = area_num_to_name_map[area]\n",
    "                if \"diffduring\" in stage.lower():\n",
    "                    new_stage = 'enc_pre_lfp'\n",
    "                elif\"diffafter\" in stage.lower():\n",
    "                    new_stage = 'post_pre_lfp'\n",
    "                else:\n",
    "                    continue\n",
    "                \n",
    "                new_freq = freq.replace('-','_') + 'Hz'\n",
    "                \n",
    "                \n",
    "                new_col_name = '_'.join((area_name, new_freq, new_stage))\n",
    "\n",
    "                df_new[new_col_name] = df[col_name]\n",
    "    return df_new\n",
    "\n",
    "\n",
    "SPIKE_DATA_TYPE_SRC = 'diff'\n",
    "SPIKE_DATA_TYPE_TARGET = 'spike_diff'\n",
    "\n",
    "# SPIKE_DATA_TYPE_SRC = 'ratio'\n",
    "# SPIKE_DATA_TYPE_TARGET = 'spike_ratio'\n",
    "\n",
    "# SPIKE_DATA_TYPE_SRC = 'spikes_'\n",
    "# SPIKE_DATA_TYPE_TARGET = 'spike_raw'\n",
    "\n",
    "def reformat_columns_spikes(df):\n",
    "    # combine column names and remove levels\n",
    "    df_new = pd.DataFrame()\n",
    "    areas = df.columns.get_level_values('area').unique()\n",
    "    stages = df.columns.get_level_values('stage').unique()\n",
    "\n",
    "    df_new.index = df.index\n",
    "    add_pre_sufix = 'ratio' in SPIKE_DATA_TYPE_TARGET or 'diff' in SPIKE_DATA_TYPE_TARGET\n",
    "    suffix = 'pre_' if add_pre_sufix else ''\n",
    "    for area in areas:\n",
    "        for stage in stages:\n",
    "\n",
    "            col_name = (area, stage)\n",
    "\n",
    "            area_name = area_num_to_name_map[area]\n",
    "            if SPIKE_DATA_TYPE_SRC+\"during\" in stage.lower():\n",
    "                new_stage = 'enc_'+suffix+ SPIKE_DATA_TYPE_TARGET\n",
    "            elif SPIKE_DATA_TYPE_SRC+\"after\" in stage.lower():\n",
    "                new_stage = 'post_'+suffix+ SPIKE_DATA_TYPE_TARGET\n",
    "            elif SPIKE_DATA_TYPE_SRC+\"before\" in stage.lower():\n",
    "                new_stage = 'pre_'+ SPIKE_DATA_TYPE_TARGET\n",
    "            else:\n",
    "                continue\n",
    "\n",
    "            \n",
    "\n",
    "            new_col_name = '_'.join((area_name, new_stage))\n",
    "\n",
    "            df_new[new_col_name] = df[col_name]\n",
    "    return df_new\n",
    "\n",
    "def reformat_columns_spikes_v2(df):\n",
    "    # combine column names and remove levels\n",
    "    df_new = pd.DataFrame()\n",
    "    areas = df.columns.get_level_values('area').unique()\n",
    "    stages = df.columns.get_level_values('stage').unique()\n",
    "\n",
    "    df_new.index = df.index\n",
    "    add_pre_sufix = 'ratio' in SPIKE_DATA_TYPE_TARGET or 'diff' in SPIKE_DATA_TYPE_TARGET\n",
    "    suffix = 'enc' if add_pre_sufix else ''\n",
    "    for area in areas:\n",
    "        for stage in stages:\n",
    "\n",
    "            col_name = (area, stage)\n",
    "\n",
    "            area_name = area_num_to_name_map[area]\n",
    "            if SPIKE_DATA_TYPE_SRC+\"during\" in stage.lower():\n",
    "                during_data = df[col_name].dropna().values\n",
    "            elif SPIKE_DATA_TYPE_SRC+\"after\" in stage.lower():\n",
    "                after_data = df[col_name].dropna().values\n",
    "            elif SPIKE_DATA_TYPE_SRC+\"before\" in stage.lower():\n",
    "                before_data = df[col_name].dropna().values\n",
    "            else:\n",
    "                continue\n",
    "\n",
    "            \n",
    "        # create new column with calculation\n",
    "        log_during_change = np.log(during_data) - np.log(before_data)\n",
    "        \n",
    "        \n",
    "        new_stage = 'enc_pre_log_'+ SPIKE_DATA_TYPE_TARGET\n",
    "        new_col_name = '_'.join((area_name, new_stage))\n",
    "        df_new[new_col_name] = df[col_name]\n",
    "        \n",
    "        log_after_change = np.log(after_data) - np.log(before_data)\n",
    "        new_stage = 'post_pre_log'+ SPIKE_DATA_TYPE_TARGET\n",
    "        df_new[new_col_name] = df[col_name]\n",
    "    return df_new\n",
    "freq_keywords = {'First': '4_18Hz', 'Second':'30_80Hz'}\n",
    "stage_keywords = {'During':'enc_pre', 'After':'post_pre'}\n",
    "substrings_to_remove = ['During', 'After','Before', 'First', 'Second']\n",
    "ignore_keyworks = ['Norm', 'files']\n",
    "\n",
    "def remove_columns_with_fewer_values(df, N=5):\n",
    "    # Get the count of non-null values in each column\n",
    "    column_counts = df.count()\n",
    "\n",
    "    # Filter columns based on count condition\n",
    "    columns_to_remove = column_counts[column_counts < N].index\n",
    "\n",
    "    # Drop the columns from the DataFrame\n",
    "    updated_df = df.drop(columns=columns_to_remove)\n",
    "\n",
    "    return updated_df\n",
    "\n",
    "def reformat_dict_to_table(df_dict, file_df):\n",
    "# def reformat_dict_to_table(df_dict, freq_keywords, stage_keywords, ignore_keyworks, substrings_to_remove):\n",
    "    ret_df_list = []\n",
    "    for sheet, df in df_dict.items():\n",
    "        df = df.copy()\n",
    "        # ignore first and last sheets that contain a summary and list of file names\n",
    "        if any(substring in sheet for substring in ignore_keyworks): \n",
    "            continue\n",
    "            \n",
    "        if isinstance(df, str):\n",
    "            print(df)\n",
    "            continue\n",
    "            \n",
    "        if len(df) == 0:\n",
    "            continue\n",
    "        \n",
    "         # Remove all substrings to keep just the area name\n",
    "        area_name = sheet\n",
    "        for sub_string_to_remove in substrings_to_remove:\n",
    "            area_name = area_name.replace(sub_string_to_remove,'')\n",
    "        \n",
    "        for fk, freq in  freq_keywords.items():\n",
    "            if fk in sheet:\n",
    "                this_freq = freq_keywords[fk]\n",
    "            for sk in stage_keywords.keys():\n",
    "                if sk in sheet:\n",
    "                    this_stage = stage_keywords[sk]\n",
    "        \n",
    "                # Rename all column names to match\n",
    "        \n",
    "        for col in df.columns:\n",
    "            area_pair = [col, area_name]\n",
    "            area_pair.sort()\n",
    "            \n",
    "            df.rename(columns={col:f'{area_pair[0]}_{area_pair[1]}_{this_freq}_{this_stage}'}, inplace=True)\n",
    "        \n",
    "        \n",
    "        df.dropna(axis=1, how='all', inplace=True)\n",
    "        df = remove_columns_with_fewer_values(df)\n",
    "        ret_df_list.append(df)\n",
    "        \n",
    "    df_ret = pd.concat(ret_df_list,axis=1)\n",
    "    df_ret['files'] = file_df.values\n",
    "    return df_ret\n",
    "                \n",
    "            \n",
    "\n",
    "\n",
    "# Fix column names\n",
    "# change 4-12 to 4-18\n",
    "def fix_range_name(s):\n",
    "    return s.replace('4_18','4_12')\n",
    "# if lfp is in the name, put it at the beggining\n",
    "# if spike_ratio is in the name, put it at the beginning\n",
    "def move_suffix_to_apx(s, sfx):\n",
    "    if sfx in s:\n",
    "        s = s.replace('_'+sfx, '')\n",
    "        s = sfx+'_'+s\n",
    "    return s\n",
    "\n",
    "# if there is not lfp or skipe ration in the name, add coherence at the befinning\n",
    "def add_cohherence(s):\n",
    "    if 'lfp' not in s and 'spike' not in s and ('enc' in s or 'post' in s):\n",
    "        s = 'coherence_' + s\n",
    "    return s\n",
    "\n",
    "# add number to catergorical variables to ensure that they are first\n",
    "def add_number(s):\n",
    "    if 'sociability' in s:\n",
    "        s = '0_' + s\n",
    "        \n",
    "    elif 'rat_number' in s:\n",
    "        s = '1_' + s\n",
    "        \n",
    "    elif 'day_number' in s:\n",
    "        s = '2_' + s\n",
    "    return s\n",
    "\n",
    "def add_all_fix_functions(s):\n",
    "    s = fix_range_name(s)\n",
    "    s = move_suffix_to_apx(s, 'lfp')\n",
    "    s = move_suffix_to_apx(s, SPIKE_DATA_TYPE_TARGET)\n",
    "    s = add_cohherence(s)\n",
    "#     s = add_number(s)\n",
    "    return s\n",
    "\n"
   ]
  },
  {
   "cell_type": "code",
   "execution_count": 222,
   "id": "9e00fabe",
   "metadata": {},
   "outputs": [],
   "source": [
    "df_free_lfp = reformat_columns(df_free_lfp_raw)\n",
    "df_files_free_bad = pd.read_excel(full_file_name,'Uploaded files', header=None)\n",
    "df_files_free = fix_file_paths(df_files_free_bad)['lfp']\n",
    "\n",
    "\n"
   ]
  },
  {
   "cell_type": "code",
   "execution_count": 223,
   "id": "e7e58e0a",
   "metadata": {},
   "outputs": [],
   "source": [
    "df_free_enc_pre_rectified = reformat_dict_to_table(df_free_enc_pre, df_files_free)\n",
    "df_free_enc_post_rectified = reformat_dict_to_table(df_free_post_pre, df_files_free)\n",
    "df_free = pd.concat([\n",
    "    df_free_enc_pre_rectified.set_index('files'),\n",
    "    df_free_enc_post_rectified.set_index('files'),\n",
    "    df_free_lfp,\n",
    "],\n",
    "    axis=1)\n",
    "\n",
    "\n",
    "df_free['sociability'] = 'free'\n",
    "\n",
    "all_df = df_free\n",
    "filenames = all_df.index.to_list()\n",
    "all_df['rat_number'] = pd.Categorical([extract_ratnum_from_file_name(r) for r in filenames])\n",
    "all_df['day_number'] = pd.Categorical([extract_daynum_from_file_name(r) for r in filenames])\n",
    "\n",
    "all_df.rename(columns={c:add_all_fix_functions(c) for c in all_df.columns} , inplace=True)\n",
    "all_df = all_df.reindex(sorted(all_df.columns), axis=1)"
   ]
  },
  {
   "cell_type": "code",
   "execution_count": 199,
   "id": "df83ee45",
   "metadata": {},
   "outputs": [],
   "source": [
    "df_interactions = df_dict['ShortVsLongInteractions']\n",
    "df_intervals = df_dict['ShortVsLongIntervals']\n",
    "df_interactions_along_time = df_dict['InteractionAlongTime1SecBin']"
   ]
  },
  {
   "cell_type": "code",
   "execution_count": null,
   "id": "83fae9b7",
   "metadata": {},
   "outputs": [],
   "source": []
  },
  {
   "cell_type": "code",
   "execution_count": 375,
   "id": "bf1d815b",
   "metadata": {},
   "outputs": [],
   "source": [
    "data_interactions = df_interactions.iloc[:,:3].values\n",
    "data_intervals = df_intervals.iloc[:,:3].values\n",
    "X = np.concatenate([data_interactions,data_intervals],axis=1)\n",
    "# X = data_interactions"
   ]
  },
  {
   "cell_type": "code",
   "execution_count": 376,
   "id": "84d746cd",
   "metadata": {},
   "outputs": [],
   "source": [
    "scaler = StandardScaler()\n",
    "X = scaler.fit_transform(X)"
   ]
  },
  {
   "cell_type": "code",
   "execution_count": 377,
   "id": "c8351ff5",
   "metadata": {},
   "outputs": [],
   "source": [
    "X_embedded = TSNE(n_components=2, learning_rate='auto',\n",
    "                  init='random', perplexity=3).fit_transform(X)"
   ]
  },
  {
   "cell_type": "code",
   "execution_count": 342,
   "id": "dcb42149",
   "metadata": {},
   "outputs": [],
   "source": [
    "df_sum = pd.DataFrame()\n",
    "df_sum['sessions'] = df_files\n",
    "df_sum[['tsne1','tsne2']] = X_embedded"
   ]
  },
  {
   "cell_type": "code",
   "execution_count": 343,
   "id": "e7a86ccd",
   "metadata": {},
   "outputs": [
    {
     "data": {
      "text/plain": [
       "<AxesSubplot:xlabel='tsne1', ylabel='tsne2'>"
      ]
     },
     "execution_count": 343,
     "metadata": {},
     "output_type": "execute_result"
    },
    {
     "data": {
      "image/png": "[encoded data removed]",
      "text/plain": [
       "<Figure size 432x288 with 1 Axes>"
      ]
     },
     "metadata": {
      "needs_background": "light"
     },
     "output_type": "display_data"
    }
   ],
   "source": [
    "sns.scatterplot(data=df_sum, x='tsne1', y='tsne2')"
   ]
  },
  {
   "cell_type": "code",
   "execution_count": 344,
   "id": "5bddb27b",
   "metadata": {},
   "outputs": [],
   "source": [
    "\n",
    "\n",
    "# db = DBSCAN(eps=5, min_samples=2).fit(X_embedded)\n",
    "# labels = db.labels_\n",
    "\n",
    "# # Number of clusters in labels, ignoring noise if present.\n",
    "# n_clusters_ = len(set(labels)) - (1 if -1 in labels else 0)\n",
    "# n_noise_ = list(labels).count(-1)\n",
    "\n",
    "# print(\"Estimated number of clusters: %d\" % n_clusters_)\n",
    "# print(\"Estimated number of noise points: %d\" % n_noise_)"
   ]
  },
  {
   "cell_type": "code",
   "execution_count": 345,
   "id": "dd8b9c54",
   "metadata": {},
   "outputs": [],
   "source": [
    "# df_sum['dbscan'] = db.fit_predict(X_embedded)\n"
   ]
  },
  {
   "cell_type": "code",
   "execution_count": null,
   "id": "e2065135",
   "metadata": {},
   "outputs": [],
   "source": []
  },
  {
   "cell_type": "code",
   "execution_count": 386,
   "id": "d5bbab3d",
   "metadata": {},
   "outputs": [
    {
     "name": "stdout",
     "output_type": "stream",
     "text": [
      "__________________________________________________________________________________\n",
      "init\t\ttime\tinertia\thomo\tcompl\tv-meas\tARI\tAMI\tsilhouette\n",
      "__________________________________________________________________________________\n"
     ]
    }
   ],
   "source": [
    "from sklearn.cluster import KMeans\n",
    "from sklearn.decomposition import PCA\n",
    "print(82 * \"_\")\n",
    "print(\"init\\t\\ttime\\tinertia\\thomo\\tcompl\\tv-meas\\tARI\\tAMI\\tsilhouette\")\n",
    "\n",
    "# kmeans = KMeans(init=\"k-means++\", n_clusters=2, n_init=4, random_state=0)\n",
    "# bench_k_means(kmeans=kmeans, name=\"k-means++\", data=data, labels=labels)\n",
    "\n",
    "# kmeans = KMeans(init=\"random\", n_clusters=2, n_init=1, random_state=0)\n",
    "# bench_k_means(kmeans=kmeans, name=\"random\", data=data)\n",
    "\n",
    "pca = PCA(n_components=2).fit(X)\n",
    "kmeans = KMeans(init=pca.components_, n_clusters=2, n_init=1)\n",
    "# bench_k_means(kmeans=kmeans, name=\"PCA-based\", data=data, labels=labels)\n",
    "\n",
    "print(82 * \"_\")"
   ]
  },
  {
   "cell_type": "code",
   "execution_count": null,
   "id": "f2cf88a1",
   "metadata": {},
   "outputs": [],
   "source": []
  },
  {
   "cell_type": "code",
   "execution_count": 387,
   "id": "f6b5c31d",
   "metadata": {},
   "outputs": [
    {
     "name": "stderr",
     "output_type": "stream",
     "text": [
      "C:\\Users\\user\\anaconda3\\lib\\site-packages\\sklearn\\cluster\\_kmeans.py:1334: UserWarning: KMeans is known to have a memory leak on Windows with MKL, when there are less chunks than available threads. You can avoid it by setting the environment variable OMP_NUM_THREADS=1.\n",
      "  warnings.warn(\n"
     ]
    }
   ],
   "source": [
    "kmean_labels = kmeans.fit_predict(X)"
   ]
  },
  {
   "cell_type": "code",
   "execution_count": 388,
   "id": "3d3ff597",
   "metadata": {},
   "outputs": [
    {
     "data": {
      "text/plain": [
       "array([1, 1, 1, 0, 1, 1, 0, 0, 1, 0, 0, 0, 1, 1, 1, 0, 1, 1, 1, 1, 1, 1,\n",
       "       1, 0, 0, 0, 1, 1, 0, 0, 1, 0, 0, 1, 0, 1, 0, 1, 0, 1, 0, 1, 0, 0,\n",
       "       0, 1, 0, 1, 1, 0, 1, 0, 0, 1, 1, 1, 0, 1, 0, 0, 0, 1, 1])"
      ]
     },
     "execution_count": 388,
     "metadata": {},
     "output_type": "execute_result"
    }
   ],
   "source": [
    "kmean_labels"
   ]
  },
  {
   "cell_type": "code",
   "execution_count": 390,
   "id": "c54ec6fe",
   "metadata": {},
   "outputs": [],
   "source": [
    "df_sum['kmean_labels'] = kmean_labels"
   ]
  },
  {
   "cell_type": "code",
   "execution_count": 391,
   "id": "757ed39b",
   "metadata": {},
   "outputs": [
    {
     "data": {
      "text/plain": [
       "<AxesSubplot:xlabel='tsne1', ylabel='tsne2'>"
      ]
     },
     "execution_count": 391,
     "metadata": {},
     "output_type": "execute_result"
    },
    {
     "data": {
      "image/png": "[encoded data removed]",
      "text/plain": [
       "<Figure size 432x288 with 1 Axes>"
      ]
     },
     "metadata": {
      "needs_background": "light"
     },
     "output_type": "display_data"
    }
   ],
   "source": [
    "sns.scatterplot(data=df_sum, x='tsne1', y='tsne2', hue='kmean_labels')"
   ]
  },
  {
   "cell_type": "code",
   "execution_count": 382,
   "id": "e0eacb02",
   "metadata": {},
   "outputs": [],
   "source": [
    "# df_sum"
   ]
  },
  {
   "cell_type": "code",
   "execution_count": 351,
   "id": "4906f3e7",
   "metadata": {},
   "outputs": [],
   "source": [
    "import pickle\n",
    "folder_path = folder_path = osp.join('..','..','analysis')\n",
    "best_model_path = osp.join(folder_path,'best_model.sav')\n",
    "best_imputer_path = osp.join(folder_path,'best_imputer.sav')\n",
    "\n",
    "best_model = pickle.load(open(best_model_path, 'rb'))\n",
    "# best_imputer = pickle.load(open(best_imputer_path, 'rb'))\n"
   ]
  },
  {
   "cell_type": "code",
   "execution_count": 352,
   "id": "4891744e",
   "metadata": {},
   "outputs": [],
   "source": [
    "from sklearn.experimental import enable_iterative_imputer\n",
    "from sklearn.impute import IterativeImputer, KNNImputer\n",
    "best_imputer = IterativeImputer()"
   ]
  },
  {
   "cell_type": "code",
   "execution_count": 353,
   "id": "ffe2e5d4",
   "metadata": {},
   "outputs": [],
   "source": [
    "best_vars = [\n",
    "    'lfp_EA_30_80Hz_enc_pre',\n",
    "     'lfp_AA_30_80Hz_enc_pre',\n",
    "     'coherence_CeA_MeD_30_80Hz_post_pre',\n",
    "     'coherence_AA_MeD_30_80Hz_enc_pre',\n",
    "     'coherence_CeA_STIA_30_80Hz_enc_pre',\n",
    "]\n",
    "\n"
   ]
  },
  {
   "cell_type": "code",
   "execution_count": 354,
   "id": "cde89f6a",
   "metadata": {},
   "outputs": [],
   "source": [
    "# all_df = all_df.sample(frac=1)\n",
    "X = all_df[best_vars].values\n"
   ]
  },
  {
   "cell_type": "code",
   "execution_count": 355,
   "id": "146de6d5",
   "metadata": {},
   "outputs": [],
   "source": [
    "scaler = StandardScaler()\n",
    "X_scaled = scaler.fit_transform(X)\n",
    "# X_imputed = best_imputer.transform(X_scaled)\n",
    "X_imputed = best_imputer.fit_transform(X_scaled)\n",
    "y_pred_prob = best_model.predict_proba(X_imputed)\n"
   ]
  },
  {
   "cell_type": "code",
   "execution_count": 356,
   "id": "9dafd887",
   "metadata": {},
   "outputs": [],
   "source": [
    "# y_pred_prob"
   ]
  },
  {
   "cell_type": "code",
   "execution_count": 412,
   "id": "41ebb3c1",
   "metadata": {},
   "outputs": [],
   "source": [
    "th = 0.195\n",
    "y_pred = []\n",
    "for a in  y_pred_prob[:,0] :\n",
    "    c = 'affiliative' if a>th else 'aversive'\n",
    "    y_pred.append(c)\n",
    "df_sum['model_pred'] = y_pred"
   ]
  },
  {
   "cell_type": "code",
   "execution_count": 413,
   "id": "ecc7c5b0",
   "metadata": {},
   "outputs": [
    {
     "data": {
      "text/plain": [
       "[]"
      ]
     },
     "execution_count": 413,
     "metadata": {},
     "output_type": "execute_result"
    },
    {
     "data": {
      "image/png": "[encoded data removed]",
      "text/plain": [
       "<Figure size 1332x756 with 2 Axes>"
      ]
     },
     "metadata": {
      "needs_background": "light"
     },
     "output_type": "display_data"
    }
   ],
   "source": [
    "\n",
    "fig, (ax1, ax2) = plt.subplots(1,2)\n",
    "fig.set_size_inches(18.5, 10.5)\n",
    "sns.scatterplot(ax=ax1, data=df_sum, x='tsne1', y='tsne2', hue='kmean_labels')\n",
    "sns.scatterplot(ax=ax2, data=df_sum, x='tsne1', y='tsne2', hue='model_pred')\n",
    "# sns.scatterplot(data=df_sum, x='tsne1', y='tsne2', hue='model_pred')\n",
    "plt.plot()"
   ]
  },
  {
   "cell_type": "code",
   "execution_count": 336,
   "id": "9d93d872",
   "metadata": {},
   "outputs": [],
   "source": [
    "X_interactions = df_interactions_along_time.values\n",
    "interactions_scaler = StandardScaler()\n",
    "X_interactions_scaled = interactions_scaler.fit_transform(X_interactions)\n",
    "embedded_interactions = TSNE\n",
    "\n",
    "embedded_interactions = TSNE(n_components=1, learning_rate='auto',\n",
    "                  init='random', perplexity=20).fit_transform(X_interactions_scaled)"
   ]
  },
  {
   "cell_type": "code",
   "execution_count": 260,
   "id": "2c275263",
   "metadata": {},
   "outputs": [],
   "source": [
    "\n",
    "df_sum[['tsne21','tsne22']] = embedded_interactions"
   ]
  },
  {
   "cell_type": "code",
   "execution_count": 261,
   "id": "e7aea237",
   "metadata": {},
   "outputs": [
    {
     "data": {
      "text/plain": [
       "<AxesSubplot:xlabel='tsne21', ylabel='tsne22'>"
      ]
     },
     "execution_count": 261,
     "metadata": {},
     "output_type": "execute_result"
    },
    {
     "data": {
      "image/png": "[encoded data removed]",
      "text/plain": [
       "<Figure size 432x288 with 1 Axes>"
      ]
     },
     "metadata": {
      "needs_background": "light"
     },
     "output_type": "display_data"
    }
   ],
   "source": [
    "sns.scatterplot(data=df_sum, x='tsne21', y='tsne22',hue='model_pred')"
   ]
  },
  {
   "cell_type": "code",
   "execution_count": 306,
   "id": "c7b260e2",
   "metadata": {},
   "outputs": [
    {
     "data": {
      "text/plain": [
       "<AxesSubplot:xlabel='tsne1', ylabel='tsne2'>"
      ]
     },
     "execution_count": 306,
     "metadata": {},
     "output_type": "execute_result"
    },
    {
     "data": {
      "image/png": "[encoded data removed]",
      "text/plain": [
       "<Figure size 432x288 with 1 Axes>"
      ]
     },
     "metadata": {
      "needs_background": "light"
     },
     "output_type": "display_data"
    }
   ],
   "source": [
    "sns.scatterplot(data=df_sum, x='tsne1', y='tsne2',hue='model_pred')"
   ]
  },
  {
   "cell_type": "code",
   "execution_count": 307,
   "id": "74b2808b",
   "metadata": {},
   "outputs": [
    {
     "data": {
      "text/plain": [
       "<matplotlib.collections.PathCollection at 0x13691914be0>"
      ]
     },
     "execution_count": 307,
     "metadata": {},
     "output_type": "execute_result"
    },
    {
     "data": {
      "image/png": "[encoded data removed]",
      "text/plain": [
       "<Figure size 432x288 with 1 Axes>"
      ]
     },
     "metadata": {
      "needs_background": "light"
     },
     "output_type": "display_data"
    }
   ],
   "source": [
    "plt.scatter(x=X_embedded[:,0], y=y_pred_prob[:,0])"
   ]
  },
  {
   "cell_type": "code",
   "execution_count": 417,
   "id": "c3f0f8c5",
   "metadata": {},
   "outputs": [
    {
     "data": {
      "text/plain": [
       "array([ True,  True,  True, False,  True, False, False,  True,  True,\n",
       "        True,  True, False,  True,  True,  True,  True,  True,  True,\n",
       "        True,  True,  True,  True,  True,  True, False, False, False,\n",
       "       False,  True,  True,  True,  True,  True,  True, False, False,\n",
       "       False,  True,  True, False, False, False, False,  True, False,\n",
       "        True,  True,  True,  True, False, False, False, False,  True,\n",
       "        True,  True,  True,  True,  True,  True, False,  True,  True])"
      ]
     },
     "execution_count": 417,
     "metadata": {},
     "output_type": "execute_result"
    }
   ],
   "source": [
    "y_pred_labels = np.array(y_pred)=='affiliative'\n",
    "y_pred_labels"
   ]
  },
  {
   "cell_type": "code",
   "execution_count": 419,
   "id": "89dadd6a",
   "metadata": {},
   "outputs": [
    {
     "data": {
      "text/plain": [
       "array([ True,  True,  True, False,  True,  True, False, False,  True,\n",
       "       False, False, False,  True,  True,  True, False,  True,  True,\n",
       "        True,  True,  True,  True,  True, False, False, False,  True,\n",
       "        True, False, False,  True, False, False,  True, False,  True,\n",
       "       False,  True, False,  True, False,  True, False, False, False,\n",
       "        True, False,  True,  True, False,  True, False, False,  True,\n",
       "        True,  True, False,  True, False, False, False,  True,  True])"
      ]
     },
     "execution_count": 419,
     "metadata": {},
     "output_type": "execute_result"
    }
   ],
   "source": [
    "kmean_labels_logic = kmean_labels==1\n",
    "kmean_labels_logic"
   ]
  },
  {
   "cell_type": "code",
   "execution_count": 420,
   "id": "ba2e46d8",
   "metadata": {},
   "outputs": [
    {
     "data": {
      "text/plain": [
       "0.7105263157894737"
      ]
     },
     "execution_count": 420,
     "metadata": {},
     "output_type": "execute_result"
    }
   ],
   "source": [
    "from sklearn.metrics import f1_score\n",
    "f1 = f1_score(kmean_labels_logic, y_pred_labels)\n",
    "f1"
   ]
  },
  {
   "cell_type": "code",
   "execution_count": 422,
   "id": "d70a4849",
   "metadata": {},
   "outputs": [
    {
     "data": {
      "text/plain": [
       "0.28260869565217384"
      ]
     },
     "execution_count": 422,
     "metadata": {},
     "output_type": "execute_result"
    }
   ],
   "source": [
    "from sklearn.metrics import cohen_kappa_score\n",
    "cappa  = cohen_kappa_score(kmean_labels_logic, y_pred_labels)\n",
    "cappa"
   ]
  },
  {
   "cell_type": "code",
   "execution_count": 424,
   "id": "3eda2714",
   "metadata": {},
   "outputs": [
    {
     "data": {
      "text/plain": [
       "41"
      ]
     },
     "execution_count": 424,
     "metadata": {},
     "output_type": "execute_result"
    }
   ],
   "source": [
    "np.sum(kmean_labels_logic == y_pred_labels)"
   ]
  },
  {
   "cell_type": "code",
   "execution_count": 425,
   "id": "7844bc8f",
   "metadata": {},
   "outputs": [
    {
     "data": {
      "text/plain": [
       "63"
      ]
     },
     "execution_count": 425,
     "metadata": {},
     "output_type": "execute_result"
    }
   ],
   "source": [
    "len(kmean_labels_logic)"
   ]
  },
  {
   "cell_type": "code",
   "execution_count": 426,
   "id": "50726a00",
   "metadata": {},
   "outputs": [
    {
     "data": {
      "text/plain": [
       "0.5791075050709938"
      ]
     },
     "execution_count": 426,
     "metadata": {},
     "output_type": "execute_result"
    }
   ],
   "source": [
    "from sklearn.metrics import roc_auc_score\n",
    "auc = roc_auc_score(kmean_labels_logic, y_pred_prob[:,0])\n",
    "auc"
   ]
  },
  {
   "cell_type": "code",
   "execution_count": 427,
   "id": "6e8880ed",
   "metadata": {},
   "outputs": [
    {
     "data": {
      "text/plain": [
       "Text(0, 0.5, 'True Positive Rate')"
      ]
     },
     "execution_count": 427,
     "metadata": {},
     "output_type": "execute_result"
    },
    {
     "data": {
      "image/png": "[encoded data removed]",
      "text/plain": [
       "<Figure size 432x288 with 1 Axes>"
      ]
     },
     "metadata": {
      "needs_background": "light"
     },
     "output_type": "display_data"
    }
   ],
   "source": [
    "from sklearn.metrics import accuracy_score, confusion_matrix, roc_auc_score, roc_curve\n",
    "\n",
    "\n",
    "fpr, tpr, thresholds = roc_curve(kmean_labels_logic, y_pred_prob[:,0])\n",
    "plt.plot(fpr, tpr)\n",
    "plt.xlabel('False Positive Rate')\n",
    "plt.ylabel('True Positive Rate') "
   ]
  },
  {
   "cell_type": "code",
   "execution_count": null,
   "id": "8c7222b7",
   "metadata": {},
   "outputs": [],
   "source": []
  }
 ],
 "metadata": {
  "kernelspec": {
   "display_name": "Python 3",
   "language": "python",
   "name": "python3"
  },
  "language_info": {
   "codemirror_mode": {
    "name": "ipython",
    "version": 3
   },
   "file_extension": ".py",
   "mimetype": "text/x-python",
   "name": "python",
   "nbconvert_exporter": "python",
   "pygments_lexer": "ipython3",
   "version": "3.8.8"
  }
 },
 "nbformat": 4,
 "nbformat_minor": 5
}
