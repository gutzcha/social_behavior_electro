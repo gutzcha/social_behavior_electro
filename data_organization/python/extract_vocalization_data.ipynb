{
 "cells": [
  {
   "cell_type": "code",
   "execution_count": 2,
   "id": "f9f9098a",
   "metadata": {},
   "outputs": [],
   "source": [
    "import pandas as pd\n",
    "import numpy as np\n",
    "import os.path as osp\n",
    "import os"
   ]
  },
  {
   "cell_type": "code",
   "execution_count": 3,
   "id": "1ffe5e16",
   "metadata": {},
   "outputs": [
    {
     "data": {
      "text/plain": [
       "'D:\\\\Project- Electro\\\\social_behavior_electro\\\\data_organization\\\\python'"
      ]
     },
     "execution_count": 3,
     "metadata": {},
     "output_type": "execute_result"
    }
   ],
   "source": [
    "os.getcwd()"
   ]
  },
  {
   "cell_type": "code",
   "execution_count": 4,
   "id": "42be1c3a",
   "metadata": {},
   "outputs": [],
   "source": [
    "path_to_folder = osp.join('..','..','analysis')\n",
    "filename = 'free_vocalizations_raw.xlsx'\n",
    "fullfillename = osp.join(path_to_folder,filename)"
   ]
  },
  {
   "cell_type": "code",
   "execution_count": 5,
   "id": "51609261",
   "metadata": {},
   "outputs": [],
   "source": [
    "df = pd.read_excel(fullfillename)"
   ]
  },
  {
   "cell_type": "code",
   "execution_count": 7,
   "id": "06514192",
   "metadata": {},
   "outputs": [],
   "source": [
    "df_g = df.groupby('File_Name')"
   ]
  },
  {
   "cell_type": "code",
   "execution_count": 8,
   "id": "a0046d15",
   "metadata": {},
   "outputs": [
    {
     "data": {
      "text/plain": [
       "20"
      ]
     },
     "execution_count": 8,
     "metadata": {},
     "output_type": "execute_result"
    }
   ],
   "source": [
    "len(df_g)"
   ]
  },
  {
   "cell_type": "code",
   "execution_count": null,
   "id": "314588b1",
   "metadata": {},
   "outputs": [],
   "source": []
  }
 ],
 "metadata": {
  "kernelspec": {
   "display_name": "Python 3 (ipykernel)",
   "language": "python",
   "name": "python3"
  },
  "language_info": {
   "codemirror_mode": {
    "name": "ipython",
    "version": 3
   },
   "file_extension": ".py",
   "mimetype": "text/x-python",
   "name": "python",
   "nbconvert_exporter": "python",
   "pygments_lexer": "ipython3",
   "version": "3.10.9"
  }
 },
 "nbformat": 4,
 "nbformat_minor": 5
}
