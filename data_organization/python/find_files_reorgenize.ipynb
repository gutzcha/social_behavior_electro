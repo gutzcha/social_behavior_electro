{
 "cells": [
  {
   "cell_type": "code",
   "execution_count": 1,
   "id": "8da4a94e",
   "metadata": {},
   "outputs": [],
   "source": [
    "import pandas as pd\n",
    "import numpy as np\n",
    "import os \n",
    "import os.path as osp\n",
    "import glob\n",
    "from datetime import datetime"
   ]
  },
  {
   "cell_type": "code",
   "execution_count": 2,
   "id": "15f34cea",
   "metadata": {},
   "outputs": [],
   "source": [
    "import utils"
   ]
  },
  {
   "cell_type": "code",
   "execution_count": 3,
   "id": "909697f6",
   "metadata": {},
   "outputs": [
    {
     "data": {
      "text/plain": [
       "'D:\\\\Project- Electro\\\\social_behavior_electro\\\\data_organization\\\\python'"
      ]
     },
     "execution_count": 3,
     "metadata": {},
     "output_type": "execute_result"
    }
   ],
   "source": [
    "os.getcwd()"
   ]
  },
  {
   "cell_type": "code",
   "execution_count": 4,
   "id": "9fc09160",
   "metadata": {},
   "outputs": [],
   "source": [
    "main_folder_path = osp.join('..','..','..','','')\n",
    "chamber_folder = osp.join(main_folder_path, 'summary - 3-2022','Brain states of Affiliation and Aversive behaviour')\n",
    "chamber_affiliative_folder = osp.join(chamber_folder,'Affiliative interaction')\n",
    "chamber_aversive_folder = osp.join(chamber_folder,'Aversive Interaction')\n",
    "free_folder = osp.join(main_folder_path, 'Summary of free interaction - 1-2023')\n",
    "\n",
    "all_folders = {\n",
    "    'chamber_aff':chamber_affiliative_folder,\n",
    "    'chamber_avv':chamber_aversive_folder,\n",
    "    'free':free_folder\n",
    "    }\n"
   ]
  },
  {
   "cell_type": "markdown",
   "id": "9e45ed31",
   "metadata": {},
   "source": [
    "### Folder formation:\n",
    "* audio excel files - extracted vocalizations data excel files\n",
    "* audioclips - matlab audioclip objects\n",
    "* audioclip data files - matlab struct files with more data\n",
    "* Audio-wav files - raw wav files\n",
    "* LFP - filtered lowpass raw lfp data matlab files\n",
    "* Multispikes - spike times matlab files\n",
    "* SNIFF DATA - raw sniff recording data matlab files\n",
    "* Timestemps - time stamps matlab files\n",
    "* video files - extracted video data matlab files\n",
    "* cropped_raw_video - cropped raw video avi files of the interactions only (only for free)\n",
    "* video_pose_estimation - csv files with the pose extimation of the cropped files (only for free)\n",
    "\n",
    "### Session parameters:\n",
    "#### Identification\n",
    "* rat_number\n",
    "* day_number\n",
    "* probe_number\n",
    "\n",
    "#### Charactaristics\n",
    "* paradigm - free, chamber\n",
    "* sociability - affiliative, aversive (only in chamber sessions)\n"
   ]
  },
  {
   "cell_type": "code",
   "execution_count": 5,
   "id": "ee91b978",
   "metadata": {},
   "outputs": [],
   "source": [
    "sub_folder_names = [\n",
    "    'audio excel files',\n",
    "    'audioclips',\n",
    "    'audioclip data files',\n",
    "    'Audio-wav files',\n",
    "    'LFP',\n",
    "    'Multispikes',\n",
    "    'SNIFF DATA',\n",
    "    'Timestemps',\n",
    "    'video files',\n",
    "    'cropped_raw_video',\n",
    "    'video_pose_estimation'\n",
    "]\n",
    "\n",
    "session_parameters = [\n",
    "    'rat_number',\n",
    "    'day_number',\n",
    "    'probe_number',\n",
    "    'paradigm',\n",
    "    'sociability'   \n",
    "]"
   ]
  },
  {
   "cell_type": "code",
   "execution_count": 6,
   "id": "afe9a71d",
   "metadata": {},
   "outputs": [],
   "source": [
    "# f = 'free_Rat5-probe8-day1-Threshold_-3.5_MultiUnit_Spikes_Data'\n"
   ]
  },
  {
   "cell_type": "code",
   "execution_count": 10,
   "id": "afd07164",
   "metadata": {},
   "outputs": [],
   "source": [
    "# Go over all file names and extract all available sessions\n",
    "all_file_details = []\n",
    "#\n",
    "for folder_type in all_folders.values():\n",
    "    for sub_type in sub_folder_names:\n",
    "        all_files_sub = glob.glob(osp.join(folder_type,sub_type,'*.[!ini]*'))\n",
    "        all_files_names_sub = ['\\\\'.join(osp.split(a)[-2:]) for a in all_files_sub]\n",
    "        for fname in all_files_names_sub:\n",
    "            ret = utils.extract_details_from_file_names(fname)\n",
    "            \n",
    "            ret['filetype'] = sub_type\n",
    "            ret['fullpath'] = osp.abspath(fname)            \n",
    "#             ret['filepath'] = osp.join(*osp.split(osp.abspath(fname))[:-1])\n",
    "#             ret['filename'] = osp.split(osp.abspath(fname))[-1]\n",
    "            \n",
    "#             if fname == f:\n",
    "#                 print(ret)\n",
    "            all_file_details.append(ret)\n",
    "    \n"
   ]
  },
  {
   "cell_type": "code",
   "execution_count": 11,
   "id": "2f0bcce7",
   "metadata": {},
   "outputs": [],
   "source": [
    "df = pd.DataFrame.from_dict(all_file_details)"
   ]
  },
  {
   "cell_type": "code",
   "execution_count": 12,
   "id": "e305ba97",
   "metadata": {},
   "outputs": [],
   "source": [
    "# Go over all file names and extract all available sessions\n",
    "all_session_names = []\n",
    "all_file_names = []\n",
    "\n",
    "for folder_type in all_folders.values():\n",
    "    for sub_type in sub_folder_names:\n",
    "        all_files_sub = glob.glob(osp.join(folder_type,sub_type,'*.[!ini]*'))\n",
    "        all_files_names_sub = [''.join(osp.split(a)[-2:]) for a in all_files_sub]\n",
    "\n",
    "        ret = [utils.extract_details_from_file_names(a) for a in all_files_names_sub]\n",
    "        ret_v = [tuple(a.values()) for a in ret]\n",
    "\n",
    "        all_file_names += all_files_names_sub\n",
    "        all_session_names +=ret_v\n",
    "    \n",
    "all_session_ids = set(all_session_names)"
   ]
  },
  {
   "cell_type": "code",
   "execution_count": 13,
   "id": "d14a3980",
   "metadata": {},
   "outputs": [],
   "source": [
    "df_resorted = df.set_index(session_parameters+['filetype']).unstack('filetype')\n",
    "df_resorted.columns = df_resorted.columns.droplevel(0)\n",
    "df_resorted.reset_index(inplace=True)\n",
    "current_time_str = datetime.now().strftime(\"%Y%m%d-%H%M%S\")\n",
    "df_resorted.to_excel(f'file_to_session_mapping_{current_time_str}.xlsx')"
   ]
  },
  {
   "cell_type": "code",
   "execution_count": null,
   "id": "72b151c2",
   "metadata": {},
   "outputs": [],
   "source": [
    "df_resorted"
   ]
  },
  {
   "cell_type": "code",
   "execution_count": null,
   "id": "2aadff5d",
   "metadata": {},
   "outputs": [],
   "source": []
  },
  {
   "cell_type": "code",
   "execution_count": null,
   "id": "dd6c60de",
   "metadata": {},
   "outputs": [],
   "source": [
    "df_resorted.columns"
   ]
  },
  {
   "cell_type": "code",
   "execution_count": null,
   "id": "2ff3621a",
   "metadata": {},
   "outputs": [],
   "source": []
  }
 ],
 "metadata": {
  "kernelspec": {
   "display_name": "Python 3 (ipykernel)",
   "language": "python",
   "name": "python3"
  },
  "language_info": {
   "codemirror_mode": {
    "name": "ipython",
    "version": 3
   },
   "file_extension": ".py",
   "mimetype": "text/x-python",
   "name": "python",
   "nbconvert_exporter": "python",
   "pygments_lexer": "ipython3",
   "version": "3.10.9"
  }
 },
 "nbformat": 4,
 "nbformat_minor": 5
}