{
 "cells": [
  {
   "cell_type": "code",
   "execution_count": 5,
   "id": "04d25cee",
   "metadata": {},
   "outputs": [],
   "source": [
    "import os\n",
    "import os.path as osp\n",
    "import pandas as pd\n",
    "import glob\n",
    "import numpy as np"
   ]
  },
  {
   "cell_type": "code",
   "execution_count": 2,
   "id": "012050aa",
   "metadata": {},
   "outputs": [],
   "source": [
    "\n",
    "folder_name = osp.join('..','..','..','Summary of free interaction - 1-2023')\n"
   ]
  },
  {
   "cell_type": "code",
   "execution_count": 17,
   "id": "084df4b7",
   "metadata": {},
   "outputs": [
    {
     "data": {
      "text/plain": [
       "['..\\\\..\\\\..\\\\Summary of free interaction - 1-2023',\n",
       " '..\\\\..\\\\..\\\\Summary of free interaction - 1-2023\\\\.ipynb_checkpoints',\n",
       " '..\\\\..\\\\..\\\\Summary of free interaction - 1-2023\\\\audio excel files',\n",
       " '..\\\\..\\\\..\\\\Summary of free interaction - 1-2023\\\\Audio-wav files',\n",
       " '..\\\\..\\\\..\\\\Summary of free interaction - 1-2023\\\\audioclip data files',\n",
       " '..\\\\..\\\\..\\\\Summary of free interaction - 1-2023\\\\audioclips',\n",
       " '..\\\\..\\\\..\\\\Summary of free interaction - 1-2023\\\\cropped_raw_video',\n",
       " '..\\\\..\\\\..\\\\Summary of free interaction - 1-2023\\\\free deep phenotyping data',\n",
       " '..\\\\..\\\\..\\\\Summary of free interaction - 1-2023\\\\free deep phenotyping data\\\\free_corrected',\n",
       " '..\\\\..\\\\..\\\\Summary of free interaction - 1-2023\\\\LFP',\n",
       " '..\\\\..\\\\..\\\\Summary of free interaction - 1-2023\\\\Multispikes',\n",
       " '..\\\\..\\\\..\\\\Summary of free interaction - 1-2023\\\\SNIFF DATA',\n",
       " '..\\\\..\\\\..\\\\Summary of free interaction - 1-2023\\\\Timestemps',\n",
       " '..\\\\..\\\\..\\\\Summary of free interaction - 1-2023\\\\VIDEO FILES',\n",
       " '..\\\\..\\\\..\\\\Summary of free interaction - 1-2023\\\\video_pose_estimation']"
      ]
     },
     "execution_count": 17,
     "metadata": {},
     "output_type": "execute_result"
    }
   ],
   "source": [
    "# os.walk(folder_name)\n",
    "[x[0] for x in os.walk(folder_name)]"
   ]
  },
  {
   "cell_type": "code",
   "execution_count": 18,
   "id": "5eb0f0ba",
   "metadata": {},
   "outputs": [],
   "source": [
    "sub_folder_names = [\n",
    "    \"audio excel files\",\n",
    "    \"Audio-wav files\",\n",
    "    \"audioclips\",\n",
    "    \"VIDEO FILES\",\n",
    "    \"video_pose_estimation\",\n",
    "    \"cropped_raw_video\",\n",
    "    \"LFP\",\n",
    "    \"Multispikes\",\n",
    "    \"Timestemps\"\n",
    "]"
   ]
  },
  {
   "cell_type": "code",
   "execution_count": null,
   "id": "91e1ea36",
   "metadata": {},
   "outputs": [],
   "source": []
  }
 ],
 "metadata": {
  "kernelspec": {
   "display_name": "Python 3 (ipykernel)",
   "language": "python",
   "name": "python3"
  },
  "language_info": {
   "codemirror_mode": {
    "name": "ipython",
    "version": 3
   },
   "file_extension": ".py",
   "mimetype": "text/x-python",
   "name": "python",
   "nbconvert_exporter": "python",
   "pygments_lexer": "ipython3",
   "version": "3.10.9"
  }
 },
 "nbformat": 4,
 "nbformat_minor": 5
}
