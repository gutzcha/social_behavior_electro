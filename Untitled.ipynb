{
 "cells": [
  {
   "cell_type": "code",
   "execution_count": 256,
   "id": "7a32e795",
   "metadata": {},
   "outputs": [],
   "source": [
    "import pandas as pd\n"
   ]
  },
  {
   "cell_type": "code",
   "execution_count": 257,
   "id": "bdc2771b",
   "metadata": {},
   "outputs": [],
   "source": [
    "df = pd.read_excel('all_files.xlsx')"
   ]
  },
  {
   "cell_type": "code",
   "execution_count": 258,
   "id": "f537aaf8",
   "metadata": {},
   "outputs": [],
   "source": [
    "def get_prob_name(x):\n",
    "    if 'probe' not in x:\n",
    "        return -1\n",
    "    \n",
    "    # find next char after 'probe'\n",
    "    substring = 'probe'\n",
    "    ind = x.find(substring) + len(substring)\n",
    "    while (ind == ' ' or ind == '_') and ind<len(x):\n",
    "        ind +=1\n",
    "    if ind == len(x):\n",
    "        return -1\n",
    "    ret = x[ind]\n",
    "    if ret.isnumeric():\n",
    "        if ind < len(x):\n",
    "            if x[ind+1].isnumeric():\n",
    "                ret += x[ind+1]\n",
    "                \n",
    "    \n",
    "    return ret    "
   ]
  },
  {
   "cell_type": "code",
   "execution_count": 259,
   "id": "f09b3464",
   "metadata": {},
   "outputs": [],
   "source": [
    "def get_affiliative(x):\n",
    "    if 'affiliative' in x:\n",
    "        return 'affiliative'\n",
    "    elif 'aversive' in x:\n",
    "        return 'aversive'\n",
    "    else:\n",
    "        return None"
   ]
  },
  {
   "cell_type": "code",
   "execution_count": 260,
   "id": "c714f7ff",
   "metadata": {},
   "outputs": [],
   "source": [
    "df['sniffing'] = df['file_name'].apply(lambda x: True if 'sniff' in x.lower() else False )\n",
    "df['sociability'] = df['file_path'].apply(lambda x: get_affiliative(x))"
   ]
  },
  {
   "cell_type": "code",
   "execution_count": 261,
   "id": "67aaba9c",
   "metadata": {},
   "outputs": [],
   "source": [
    "df['probe_name'] = df['file_name'].apply(lambda x: get_prob_name(x))"
   ]
  },
  {
   "cell_type": "code",
   "execution_count": 262,
   "id": "8c24bfe7",
   "metadata": {},
   "outputs": [],
   "source": [
    "df_re = df.set_index(['ratnum','daynum','paradigm','subject_sex','stimulus_sex','stimulus_age','sociability','file_type','probe_name'])\n",
    "df_re = df_re['fullname'].unstack('file_type')\n",
    "df_re = df_re.reset_index()\n",
    "df_re.to_excel('file_names.xlsx')"
   ]
  },
  {
   "cell_type": "code",
   "execution_count": 243,
   "id": "be314910",
   "metadata": {},
   "outputs": [
    {
     "data": {
      "text/plain": [
       "file_type\n",
       "audio-wav files     60\n",
       "lfp                126\n",
       "multispikes        126\n",
       "sniff               23\n",
       "timestemps         126\n",
       "video files        126\n",
       "Name: ind, dtype: int64"
      ]
     },
     "execution_count": 243,
     "metadata": {},
     "output_type": "execute_result"
    }
   ],
   "source": [
    "df.groupby('file_type').count()['ind']"
   ]
  },
  {
   "cell_type": "code",
   "execution_count": 246,
   "id": "ddc08e4c",
   "metadata": {},
   "outputs": [],
   "source": [
    "counts_df = df.groupby(['ratnum','daynum','paradigm','subject_sex','stimulus_sex','stimulus_age','sociability','file_type','sniffing','file_path','probe_name']).count()\n",
    "df_counts_sub = counts_df.loc[counts_df['ind']>1]\n",
    "# df_counts_sub"
   ]
  },
  {
   "cell_type": "code",
   "execution_count": 249,
   "id": "79d4fb6d",
   "metadata": {},
   "outputs": [
    {
     "data": {
      "text/plain": [
       "321"
      ]
     },
     "execution_count": 249,
     "metadata": {},
     "output_type": "execute_result"
    }
   ],
   "source": []
  },
  {
   "cell_type": "code",
   "execution_count": 116,
   "id": "b05caf30",
   "metadata": {},
   "outputs": [
    {
     "data": {
      "text/plain": [
       "587"
      ]
     },
     "execution_count": 116,
     "metadata": {},
     "output_type": "execute_result"
    }
   ],
   "source": [
    "df_re = df.set_index(['ratnum','daynum','paradigm','subject_sex','stimulus_sex','stimulus_age','tag','sociability','file_type','file_path'])\n",
    "len(df_re)"
   ]
  },
  {
   "cell_type": "code",
   "execution_count": 117,
   "id": "9179b355",
   "metadata": {},
   "outputs": [
    {
     "name": "stdout",
     "output_type": "stream",
     "text": [
      "587\n"
     ]
    },
    {
     "data": {
      "text/plain": [
       "534"
      ]
     },
     "execution_count": 117,
     "metadata": {},
     "output_type": "execute_result"
    }
   ],
   "source": [
    "print(len(df))\n",
    "df_drop = df[['ratnum','daynum','paradigm','subject_sex','stimulus_sex','stimulus_age','tag','sociability','file_type']].drop_duplicates()\n",
    "len(df_drop)\n",
    "\n"
   ]
  },
  {
   "cell_type": "code",
   "execution_count": 13,
   "id": "eab615f6",
   "metadata": {},
   "outputs": [],
   "source": [
    "df_ind = df.set_index(['ratnum','daynum','paradigm','subject_sex','stimulus_sex','stimulus_age','tag','sociability','file_type'])"
   ]
  },
  {
   "cell_type": "code",
   "execution_count": 14,
   "id": "e83b9ea1",
   "metadata": {},
   "outputs": [],
   "source": [
    "dfg = df.groupby('file_type')"
   ]
  },
  {
   "cell_type": "code",
   "execution_count": 20,
   "id": "6888c9d8",
   "metadata": {},
   "outputs": [
    {
     "name": "stdout",
     "output_type": "stream",
     "text": [
      "audio-wav files 60\n",
      "lfp 126\n",
      "multispikes 126\n",
      "sniff 23\n",
      "timestemps 126\n",
      "video files 126\n"
     ]
    }
   ],
   "source": [
    "for g, dfe in dfg:\n",
    "    print(g, len(dfe))"
   ]
  },
  {
   "cell_type": "code",
   "execution_count": null,
   "id": "d4dcf70b",
   "metadata": {},
   "outputs": [],
   "source": []
  }
 ],
 "metadata": {
  "kernelspec": {
   "display_name": "Python 3",
   "language": "python",
   "name": "python3"
  },
  "language_info": {
   "codemirror_mode": {
    "name": "ipython",
    "version": 3
   },
   "file_extension": ".py",
   "mimetype": "text/x-python",
   "name": "python",
   "nbconvert_exporter": "python",
   "pygments_lexer": "ipython3",
   "version": "3.8.8"
  }
 },
 "nbformat": 4,
 "nbformat_minor": 5
}
