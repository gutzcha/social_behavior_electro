{
 "cells": [
  {
   "cell_type": "code",
   "execution_count": 1,
   "id": "8da7dfdc",
   "metadata": {},
   "outputs": [],
   "source": [
    "import pandas as pd"
   ]
  },
  {
   "cell_type": "code",
   "execution_count": 4,
   "id": "4160531a",
   "metadata": {},
   "outputs": [],
   "source": [
    "df = pd.read_excel('My Rat Experiments-08.01.2023_copy.xlsx', 'data')"
   ]
  },
  {
   "cell_type": "code",
   "execution_count": 11,
   "id": "e4e10198",
   "metadata": {},
   "outputs": [],
   "source": [
    "brain_areas = [c for c in df.columns if 'Area' in c]"
   ]
  },
  {
   "cell_type": "code",
   "execution_count": 12,
   "id": "ce3d8f59",
   "metadata": {},
   "outputs": [
    {
     "data": {
      "text/plain": [
       "['Area 111 MeA',\n",
       " 'Area 2 MePV',\n",
       " 'Area 13 CeA',\n",
       " 'Area 112 BMA',\n",
       " 'Area 14 AA/ACO/VEN',\n",
       " 'Area 16 EA',\n",
       " 'Area 12 STIA',\n",
       " 'Area 15 VP',\n",
       " 'Area 113 AHiA']"
      ]
     },
     "execution_count": 12,
     "metadata": {},
     "output_type": "execute_result"
    }
   ],
   "source": []
  },
  {
   "cell_type": "code",
   "execution_count": null,
   "id": "f2069d68",
   "metadata": {},
   "outputs": [],
   "source": []
  }
 ],
 "metadata": {
  "kernelspec": {
   "display_name": "Python 3",
   "language": "python",
   "name": "python3"
  },
  "language_info": {
   "codemirror_mode": {
    "name": "ipython",
    "version": 3
   },
   "file_extension": ".py",
   "mimetype": "text/x-python",
   "name": "python",
   "nbconvert_exporter": "python",
   "pygments_lexer": "ipython3",
   "version": "3.8.8"
  }
 },
 "nbformat": 4,
 "nbformat_minor": 5
}
