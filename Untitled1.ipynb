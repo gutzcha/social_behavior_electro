{
 "cells": [
  {
   "cell_type": "code",
   "execution_count": 5,
   "id": "87b05632",
   "metadata": {},
   "outputs": [],
   "source": [
    "import glob\n",
    "import os"
   ]
  },
  {
   "cell_type": "code",
   "execution_count": 9,
   "id": "aa1f9e89",
   "metadata": {},
   "outputs": [],
   "source": [
    "cwd = os.getcwd()"
   ]
  },
  {
   "cell_type": "code",
   "execution_count": 33,
   "id": "cdb6e14d",
   "metadata": {},
   "outputs": [],
   "source": [
    "wav_files = glob.glob(os.path.join(cwd,'**','*.wav'), recursive=True)\n",
    "mat_files = glob.glob(os.path.join(cwd,'**','*.mat'), recursive=True)"
   ]
  },
  {
   "cell_type": "code",
   "execution_count": 37,
   "id": "fc9281a8",
   "metadata": {},
   "outputs": [
    {
     "data": {
      "text/plain": [
       "587"
      ]
     },
     "execution_count": 37,
     "metadata": {},
     "output_type": "execute_result"
    }
   ],
   "source": [
    "len(wav_files) + len(mat_files)"
   ]
  },
  {
   "cell_type": "code",
   "execution_count": null,
   "id": "6035de08",
   "metadata": {},
   "outputs": [],
   "source": []
  }
 ],
 "metadata": {
  "kernelspec": {
   "display_name": "Python 3",
   "language": "python",
   "name": "python3"
  },
  "language_info": {
   "codemirror_mode": {
    "name": "ipython",
    "version": 3
   },
   "file_extension": ".py",
   "mimetype": "text/x-python",
   "name": "python",
   "nbconvert_exporter": "python",
   "pygments_lexer": "ipython3",
   "version": "3.8.8"
  }
 },
 "nbformat": 4,
 "nbformat_minor": 5
}
